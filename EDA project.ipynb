{
 "cells": [
  {
   "cell_type": "markdown",
   "metadata": {},
   "source": [
    "# Research on car sales advertisements"
   ]
  },
  {
   "cell_type": "markdown",
   "metadata": {},
   "source": [
    "\n",
    "\n",
    "You're an analyst at Crankshaft List. Hundreds of free advertisements for vehicles are published on your site every day.\n",
    "\n",
    "You need to study data collected over the last few years and determine which factors influence the price of a vehicle. "
   ]
  },
  {
   "cell_type": "markdown",
   "metadata": {},
   "source": [
    "## Description of the data"
   ]
  },
  {
   "cell_type": "markdown",
   "metadata": {},
   "source": [
    "The dataset contains the following fields:\n",
    "\n",
    "price\n",
    "\n",
    "model_year\n",
    "\n",
    "model\n",
    "\n",
    "condition\n",
    "\n",
    "cylinders\n",
    "\n",
    "fuel — gas, diesel, etc.\n",
    "\n",
    "odometer — the vehicle's mileage when the ad was published\n",
    "transmission\n",
    "\n",
    "paint_color\n",
    "\n",
    "is_4wd — whether the vehicle has 4-wheel drive (Boolean type)\n",
    "\n",
    "date_posted — the date the ad was published\n",
    "\n",
    "days_listed — from publication to removal"
   ]
  },
  {
   "cell_type": "markdown",
   "metadata": {},
   "source": [
    "## Study the general information. "
   ]
  },
  {
   "cell_type": "code",
   "execution_count": 1,
   "metadata": {},
   "outputs": [],
   "source": [
    "import pandas as pd\n",
    "import numpy as np\n",
    "from matplotlib import pyplot as plt"
   ]
  },
  {
   "cell_type": "code",
   "execution_count": 2,
   "metadata": {},
   "outputs": [],
   "source": [
    "df = pd.read_csv('vehicles_us.csv')"
   ]
  },
  {
   "cell_type": "code",
   "execution_count": 3,
   "metadata": {},
   "outputs": [
    {
     "data": {
      "text/html": [
       "<div>\n",
       "<style scoped>\n",
       "    .dataframe tbody tr th:only-of-type {\n",
       "        vertical-align: middle;\n",
       "    }\n",
       "\n",
       "    .dataframe tbody tr th {\n",
       "        vertical-align: top;\n",
       "    }\n",
       "\n",
       "    .dataframe thead th {\n",
       "        text-align: right;\n",
       "    }\n",
       "</style>\n",
       "<table border=\"1\" class=\"dataframe\">\n",
       "  <thead>\n",
       "    <tr style=\"text-align: right;\">\n",
       "      <th></th>\n",
       "      <th>price</th>\n",
       "      <th>model_year</th>\n",
       "      <th>model</th>\n",
       "      <th>condition</th>\n",
       "      <th>cylinders</th>\n",
       "      <th>fuel</th>\n",
       "      <th>odometer</th>\n",
       "      <th>transmission</th>\n",
       "      <th>type</th>\n",
       "      <th>paint_color</th>\n",
       "      <th>is_4wd</th>\n",
       "      <th>date_posted</th>\n",
       "      <th>days_listed</th>\n",
       "    </tr>\n",
       "  </thead>\n",
       "  <tbody>\n",
       "    <tr>\n",
       "      <th>0</th>\n",
       "      <td>9400</td>\n",
       "      <td>2011.0</td>\n",
       "      <td>bmw x5</td>\n",
       "      <td>good</td>\n",
       "      <td>6.0</td>\n",
       "      <td>gas</td>\n",
       "      <td>145000.0</td>\n",
       "      <td>automatic</td>\n",
       "      <td>SUV</td>\n",
       "      <td>NaN</td>\n",
       "      <td>1.0</td>\n",
       "      <td>2018-06-23</td>\n",
       "      <td>19</td>\n",
       "    </tr>\n",
       "    <tr>\n",
       "      <th>1</th>\n",
       "      <td>25500</td>\n",
       "      <td>NaN</td>\n",
       "      <td>ford f-150</td>\n",
       "      <td>good</td>\n",
       "      <td>6.0</td>\n",
       "      <td>gas</td>\n",
       "      <td>88705.0</td>\n",
       "      <td>automatic</td>\n",
       "      <td>pickup</td>\n",
       "      <td>white</td>\n",
       "      <td>1.0</td>\n",
       "      <td>2018-10-19</td>\n",
       "      <td>50</td>\n",
       "    </tr>\n",
       "    <tr>\n",
       "      <th>2</th>\n",
       "      <td>5500</td>\n",
       "      <td>2013.0</td>\n",
       "      <td>hyundai sonata</td>\n",
       "      <td>like new</td>\n",
       "      <td>4.0</td>\n",
       "      <td>gas</td>\n",
       "      <td>110000.0</td>\n",
       "      <td>automatic</td>\n",
       "      <td>sedan</td>\n",
       "      <td>red</td>\n",
       "      <td>NaN</td>\n",
       "      <td>2019-02-07</td>\n",
       "      <td>79</td>\n",
       "    </tr>\n",
       "    <tr>\n",
       "      <th>3</th>\n",
       "      <td>1500</td>\n",
       "      <td>2003.0</td>\n",
       "      <td>ford f-150</td>\n",
       "      <td>fair</td>\n",
       "      <td>8.0</td>\n",
       "      <td>gas</td>\n",
       "      <td>NaN</td>\n",
       "      <td>automatic</td>\n",
       "      <td>pickup</td>\n",
       "      <td>NaN</td>\n",
       "      <td>NaN</td>\n",
       "      <td>2019-03-22</td>\n",
       "      <td>9</td>\n",
       "    </tr>\n",
       "    <tr>\n",
       "      <th>4</th>\n",
       "      <td>14900</td>\n",
       "      <td>2017.0</td>\n",
       "      <td>chrysler 200</td>\n",
       "      <td>excellent</td>\n",
       "      <td>4.0</td>\n",
       "      <td>gas</td>\n",
       "      <td>80903.0</td>\n",
       "      <td>automatic</td>\n",
       "      <td>sedan</td>\n",
       "      <td>black</td>\n",
       "      <td>NaN</td>\n",
       "      <td>2019-04-02</td>\n",
       "      <td>28</td>\n",
       "    </tr>\n",
       "    <tr>\n",
       "      <th>5</th>\n",
       "      <td>14990</td>\n",
       "      <td>2014.0</td>\n",
       "      <td>chrysler 300</td>\n",
       "      <td>excellent</td>\n",
       "      <td>6.0</td>\n",
       "      <td>gas</td>\n",
       "      <td>57954.0</td>\n",
       "      <td>automatic</td>\n",
       "      <td>sedan</td>\n",
       "      <td>black</td>\n",
       "      <td>1.0</td>\n",
       "      <td>2018-06-20</td>\n",
       "      <td>15</td>\n",
       "    </tr>\n",
       "    <tr>\n",
       "      <th>6</th>\n",
       "      <td>12990</td>\n",
       "      <td>2015.0</td>\n",
       "      <td>toyota camry</td>\n",
       "      <td>excellent</td>\n",
       "      <td>4.0</td>\n",
       "      <td>gas</td>\n",
       "      <td>79212.0</td>\n",
       "      <td>automatic</td>\n",
       "      <td>sedan</td>\n",
       "      <td>white</td>\n",
       "      <td>NaN</td>\n",
       "      <td>2018-12-27</td>\n",
       "      <td>73</td>\n",
       "    </tr>\n",
       "    <tr>\n",
       "      <th>7</th>\n",
       "      <td>15990</td>\n",
       "      <td>2013.0</td>\n",
       "      <td>honda pilot</td>\n",
       "      <td>excellent</td>\n",
       "      <td>6.0</td>\n",
       "      <td>gas</td>\n",
       "      <td>109473.0</td>\n",
       "      <td>automatic</td>\n",
       "      <td>SUV</td>\n",
       "      <td>black</td>\n",
       "      <td>1.0</td>\n",
       "      <td>2019-01-07</td>\n",
       "      <td>68</td>\n",
       "    </tr>\n",
       "    <tr>\n",
       "      <th>8</th>\n",
       "      <td>11500</td>\n",
       "      <td>2012.0</td>\n",
       "      <td>kia sorento</td>\n",
       "      <td>excellent</td>\n",
       "      <td>4.0</td>\n",
       "      <td>gas</td>\n",
       "      <td>104174.0</td>\n",
       "      <td>automatic</td>\n",
       "      <td>SUV</td>\n",
       "      <td>NaN</td>\n",
       "      <td>1.0</td>\n",
       "      <td>2018-07-16</td>\n",
       "      <td>19</td>\n",
       "    </tr>\n",
       "    <tr>\n",
       "      <th>9</th>\n",
       "      <td>9200</td>\n",
       "      <td>2008.0</td>\n",
       "      <td>honda pilot</td>\n",
       "      <td>excellent</td>\n",
       "      <td>NaN</td>\n",
       "      <td>gas</td>\n",
       "      <td>147191.0</td>\n",
       "      <td>automatic</td>\n",
       "      <td>SUV</td>\n",
       "      <td>blue</td>\n",
       "      <td>1.0</td>\n",
       "      <td>2019-02-15</td>\n",
       "      <td>17</td>\n",
       "    </tr>\n",
       "  </tbody>\n",
       "</table>\n",
       "</div>"
      ],
      "text/plain": [
       "   price  model_year           model  condition  cylinders fuel  odometer  \\\n",
       "0   9400      2011.0          bmw x5       good        6.0  gas  145000.0   \n",
       "1  25500         NaN      ford f-150       good        6.0  gas   88705.0   \n",
       "2   5500      2013.0  hyundai sonata   like new        4.0  gas  110000.0   \n",
       "3   1500      2003.0      ford f-150       fair        8.0  gas       NaN   \n",
       "4  14900      2017.0    chrysler 200  excellent        4.0  gas   80903.0   \n",
       "5  14990      2014.0    chrysler 300  excellent        6.0  gas   57954.0   \n",
       "6  12990      2015.0    toyota camry  excellent        4.0  gas   79212.0   \n",
       "7  15990      2013.0     honda pilot  excellent        6.0  gas  109473.0   \n",
       "8  11500      2012.0     kia sorento  excellent        4.0  gas  104174.0   \n",
       "9   9200      2008.0     honda pilot  excellent        NaN  gas  147191.0   \n",
       "\n",
       "  transmission    type paint_color  is_4wd date_posted  days_listed  \n",
       "0    automatic     SUV         NaN     1.0  2018-06-23           19  \n",
       "1    automatic  pickup       white     1.0  2018-10-19           50  \n",
       "2    automatic   sedan         red     NaN  2019-02-07           79  \n",
       "3    automatic  pickup         NaN     NaN  2019-03-22            9  \n",
       "4    automatic   sedan       black     NaN  2019-04-02           28  \n",
       "5    automatic   sedan       black     1.0  2018-06-20           15  \n",
       "6    automatic   sedan       white     NaN  2018-12-27           73  \n",
       "7    automatic     SUV       black     1.0  2019-01-07           68  \n",
       "8    automatic     SUV         NaN     1.0  2018-07-16           19  \n",
       "9    automatic     SUV        blue     1.0  2019-02-15           17  "
      ]
     },
     "execution_count": 3,
     "metadata": {},
     "output_type": "execute_result"
    }
   ],
   "source": [
    "df.head(10)"
   ]
  },
  {
   "cell_type": "code",
   "execution_count": 4,
   "metadata": {
    "scrolled": false
   },
   "outputs": [
    {
     "name": "stdout",
     "output_type": "stream",
     "text": [
      "<class 'pandas.core.frame.DataFrame'>\n",
      "RangeIndex: 51525 entries, 0 to 51524\n",
      "Data columns (total 13 columns):\n",
      " #   Column        Non-Null Count  Dtype  \n",
      "---  ------        --------------  -----  \n",
      " 0   price         51525 non-null  int64  \n",
      " 1   model_year    47906 non-null  float64\n",
      " 2   model         51525 non-null  object \n",
      " 3   condition     51525 non-null  object \n",
      " 4   cylinders     46265 non-null  float64\n",
      " 5   fuel          51525 non-null  object \n",
      " 6   odometer      43633 non-null  float64\n",
      " 7   transmission  51525 non-null  object \n",
      " 8   type          51525 non-null  object \n",
      " 9   paint_color   42258 non-null  object \n",
      " 10  is_4wd        25572 non-null  float64\n",
      " 11  date_posted   51525 non-null  object \n",
      " 12  days_listed   51525 non-null  int64  \n",
      "dtypes: float64(4), int64(2), object(7)\n",
      "memory usage: 5.1+ MB\n"
     ]
    }
   ],
   "source": [
    "df.info()"
   ]
  },
  {
   "cell_type": "code",
   "execution_count": 5,
   "metadata": {},
   "outputs": [
    {
     "data": {
      "text/html": [
       "<div>\n",
       "<style scoped>\n",
       "    .dataframe tbody tr th:only-of-type {\n",
       "        vertical-align: middle;\n",
       "    }\n",
       "\n",
       "    .dataframe tbody tr th {\n",
       "        vertical-align: top;\n",
       "    }\n",
       "\n",
       "    .dataframe thead th {\n",
       "        text-align: right;\n",
       "    }\n",
       "</style>\n",
       "<table border=\"1\" class=\"dataframe\">\n",
       "  <thead>\n",
       "    <tr style=\"text-align: right;\">\n",
       "      <th></th>\n",
       "      <th>price</th>\n",
       "      <th>model_year</th>\n",
       "      <th>cylinders</th>\n",
       "      <th>odometer</th>\n",
       "      <th>is_4wd</th>\n",
       "      <th>days_listed</th>\n",
       "    </tr>\n",
       "  </thead>\n",
       "  <tbody>\n",
       "    <tr>\n",
       "      <th>count</th>\n",
       "      <td>51525.000000</td>\n",
       "      <td>47906.000000</td>\n",
       "      <td>46265.000000</td>\n",
       "      <td>43633.000000</td>\n",
       "      <td>25572.0</td>\n",
       "      <td>51525.00000</td>\n",
       "    </tr>\n",
       "    <tr>\n",
       "      <th>mean</th>\n",
       "      <td>12132.464920</td>\n",
       "      <td>2009.750470</td>\n",
       "      <td>6.125235</td>\n",
       "      <td>115553.461738</td>\n",
       "      <td>1.0</td>\n",
       "      <td>39.55476</td>\n",
       "    </tr>\n",
       "    <tr>\n",
       "      <th>std</th>\n",
       "      <td>10040.803015</td>\n",
       "      <td>6.282065</td>\n",
       "      <td>1.660360</td>\n",
       "      <td>65094.611341</td>\n",
       "      <td>0.0</td>\n",
       "      <td>28.20427</td>\n",
       "    </tr>\n",
       "    <tr>\n",
       "      <th>min</th>\n",
       "      <td>1.000000</td>\n",
       "      <td>1908.000000</td>\n",
       "      <td>3.000000</td>\n",
       "      <td>0.000000</td>\n",
       "      <td>1.0</td>\n",
       "      <td>0.00000</td>\n",
       "    </tr>\n",
       "    <tr>\n",
       "      <th>25%</th>\n",
       "      <td>5000.000000</td>\n",
       "      <td>2006.000000</td>\n",
       "      <td>4.000000</td>\n",
       "      <td>70000.000000</td>\n",
       "      <td>1.0</td>\n",
       "      <td>19.00000</td>\n",
       "    </tr>\n",
       "    <tr>\n",
       "      <th>50%</th>\n",
       "      <td>9000.000000</td>\n",
       "      <td>2011.000000</td>\n",
       "      <td>6.000000</td>\n",
       "      <td>113000.000000</td>\n",
       "      <td>1.0</td>\n",
       "      <td>33.00000</td>\n",
       "    </tr>\n",
       "    <tr>\n",
       "      <th>75%</th>\n",
       "      <td>16839.000000</td>\n",
       "      <td>2014.000000</td>\n",
       "      <td>8.000000</td>\n",
       "      <td>155000.000000</td>\n",
       "      <td>1.0</td>\n",
       "      <td>53.00000</td>\n",
       "    </tr>\n",
       "    <tr>\n",
       "      <th>max</th>\n",
       "      <td>375000.000000</td>\n",
       "      <td>2019.000000</td>\n",
       "      <td>12.000000</td>\n",
       "      <td>990000.000000</td>\n",
       "      <td>1.0</td>\n",
       "      <td>271.00000</td>\n",
       "    </tr>\n",
       "  </tbody>\n",
       "</table>\n",
       "</div>"
      ],
      "text/plain": [
       "               price    model_year     cylinders       odometer   is_4wd  \\\n",
       "count   51525.000000  47906.000000  46265.000000   43633.000000  25572.0   \n",
       "mean    12132.464920   2009.750470      6.125235  115553.461738      1.0   \n",
       "std     10040.803015      6.282065      1.660360   65094.611341      0.0   \n",
       "min         1.000000   1908.000000      3.000000       0.000000      1.0   \n",
       "25%      5000.000000   2006.000000      4.000000   70000.000000      1.0   \n",
       "50%      9000.000000   2011.000000      6.000000  113000.000000      1.0   \n",
       "75%     16839.000000   2014.000000      8.000000  155000.000000      1.0   \n",
       "max    375000.000000   2019.000000     12.000000  990000.000000      1.0   \n",
       "\n",
       "       days_listed  \n",
       "count  51525.00000  \n",
       "mean      39.55476  \n",
       "std       28.20427  \n",
       "min        0.00000  \n",
       "25%       19.00000  \n",
       "50%       33.00000  \n",
       "75%       53.00000  \n",
       "max      271.00000  "
      ]
     },
     "execution_count": 5,
     "metadata": {},
     "output_type": "execute_result"
    }
   ],
   "source": [
    "df.describe()"
   ]
  },
  {
   "cell_type": "code",
   "execution_count": 6,
   "metadata": {},
   "outputs": [
    {
     "data": {
      "text/plain": [
       "ford f-150                           2796\n",
       "chevrolet silverado 1500             2171\n",
       "ram 1500                             1750\n",
       "chevrolet silverado                  1271\n",
       "jeep wrangler                        1119\n",
       "                                     ... \n",
       "ford f-250 super duty                 241\n",
       "acura tl                              236\n",
       "kia sorento                           236\n",
       "nissan murano                         235\n",
       "mercedes-benz benze sprinter 2500      41\n",
       "Name: model, Length: 100, dtype: int64"
      ]
     },
     "execution_count": 6,
     "metadata": {},
     "output_type": "execute_result"
    }
   ],
   "source": [
    "df['model'].value_counts()"
   ]
  },
  {
   "cell_type": "markdown",
   "metadata": {},
   "source": [
    "Conclusion"
   ]
  },
  {
   "cell_type": "markdown",
   "metadata": {},
   "source": [
    "Data concists of 13 columns and 51525 rows. 5 columns have missing values. Seems that column is_4wd should be changed to boolean and '0' added, as now we have one option and half of the values missed. Other values looks reasonable, we just need to check outliers like min for year and max for price/odometer - are their values copmarable with other description of the vehicles in the advertisement."
   ]
  },
  {
   "cell_type": "markdown",
   "metadata": {},
   "source": [
    "## Data preprocessing"
   ]
  },
  {
   "cell_type": "code",
   "execution_count": 7,
   "metadata": {},
   "outputs": [],
   "source": [
    "df['is_4wd'].fillna(value = 0,inplace = True)"
   ]
  },
  {
   "cell_type": "code",
   "execution_count": 8,
   "metadata": {
    "scrolled": true
   },
   "outputs": [],
   "source": [
    "df['is_4wd'] = df['is_4wd'].astype('bool')"
   ]
  },
  {
   "cell_type": "code",
   "execution_count": 9,
   "metadata": {},
   "outputs": [
    {
     "name": "stdout",
     "output_type": "stream",
     "text": [
      "<class 'pandas.core.frame.DataFrame'>\n",
      "RangeIndex: 51525 entries, 0 to 51524\n",
      "Data columns (total 13 columns):\n",
      " #   Column        Non-Null Count  Dtype  \n",
      "---  ------        --------------  -----  \n",
      " 0   price         51525 non-null  int64  \n",
      " 1   model_year    47906 non-null  float64\n",
      " 2   model         51525 non-null  object \n",
      " 3   condition     51525 non-null  object \n",
      " 4   cylinders     46265 non-null  float64\n",
      " 5   fuel          51525 non-null  object \n",
      " 6   odometer      43633 non-null  float64\n",
      " 7   transmission  51525 non-null  object \n",
      " 8   type          51525 non-null  object \n",
      " 9   paint_color   42258 non-null  object \n",
      " 10  is_4wd        51525 non-null  bool   \n",
      " 11  date_posted   51525 non-null  object \n",
      " 12  days_listed   51525 non-null  int64  \n",
      "dtypes: bool(1), float64(3), int64(2), object(7)\n",
      "memory usage: 4.8+ MB\n"
     ]
    }
   ],
   "source": [
    "df.info()"
   ]
  },
  {
   "cell_type": "markdown",
   "metadata": {},
   "source": [
    "First of all, i filled empty rows of 'is_4wd' column with '0' and converted to boolean. Only option there was '1', most propably, when filling the form, people marked this field only when they could say 'is_4wd' about the car. For instance, cars with '2d' in the name had empty field in this column."
   ]
  },
  {
   "cell_type": "markdown",
   "metadata": {},
   "source": [
    "Columns 'model_year' and 'odometr' are important for detecting a price. Also they are dependent on each other - the lower the year, the higher the 'odometr' number. We have 548 positions with empty rows for both columnts, which is around 1% of all data. Most of them - on gasoline fuel, this is also similar to all data. so more likely its reasonable to drop them as we don't have enough parameters for calculations plus too risky too fill them just by price and model.\n",
    "All others empty fields in columns 'model_year' and 'odometr' is reasonable to fill with means calculated per year."
   ]
  },
  {
   "cell_type": "code",
   "execution_count": 10,
   "metadata": {
    "scrolled": true
   },
   "outputs": [
    {
     "name": "stdout",
     "output_type": "stream",
     "text": [
      "gas         47288\n",
      "diesel       3714\n",
      "hybrid        409\n",
      "other         108\n",
      "electric        6\n",
      "Name: fuel, dtype: int64\n"
     ]
    }
   ],
   "source": [
    "print(df['fuel'].value_counts())"
   ]
  },
  {
   "cell_type": "markdown",
   "metadata": {},
   "source": [
    "this column looks good enough - no missing values; gasoline is the most popular fuel, next diesel, as it should be."
   ]
  },
  {
   "cell_type": "code",
   "execution_count": 11,
   "metadata": {
    "scrolled": false
   },
   "outputs": [
    {
     "data": {
      "text/html": [
       "<div>\n",
       "<style scoped>\n",
       "    .dataframe tbody tr th:only-of-type {\n",
       "        vertical-align: middle;\n",
       "    }\n",
       "\n",
       "    .dataframe tbody tr th {\n",
       "        vertical-align: top;\n",
       "    }\n",
       "\n",
       "    .dataframe thead th {\n",
       "        text-align: right;\n",
       "    }\n",
       "</style>\n",
       "<table border=\"1\" class=\"dataframe\">\n",
       "  <thead>\n",
       "    <tr style=\"text-align: right;\">\n",
       "      <th></th>\n",
       "      <th>price</th>\n",
       "      <th>model</th>\n",
       "      <th>condition</th>\n",
       "      <th>cylinders</th>\n",
       "      <th>fuel</th>\n",
       "      <th>odometer</th>\n",
       "      <th>transmission</th>\n",
       "      <th>type</th>\n",
       "      <th>paint_color</th>\n",
       "      <th>is_4wd</th>\n",
       "      <th>date_posted</th>\n",
       "      <th>days_listed</th>\n",
       "    </tr>\n",
       "    <tr>\n",
       "      <th>model_year</th>\n",
       "      <th></th>\n",
       "      <th></th>\n",
       "      <th></th>\n",
       "      <th></th>\n",
       "      <th></th>\n",
       "      <th></th>\n",
       "      <th></th>\n",
       "      <th></th>\n",
       "      <th></th>\n",
       "      <th></th>\n",
       "      <th></th>\n",
       "      <th></th>\n",
       "    </tr>\n",
       "  </thead>\n",
       "  <tbody>\n",
       "    <tr>\n",
       "      <th>1908.0</th>\n",
       "      <td>2</td>\n",
       "      <td>2</td>\n",
       "      <td>2</td>\n",
       "      <td>2</td>\n",
       "      <td>2</td>\n",
       "      <td>1</td>\n",
       "      <td>2</td>\n",
       "      <td>2</td>\n",
       "      <td>2</td>\n",
       "      <td>2</td>\n",
       "      <td>2</td>\n",
       "      <td>2</td>\n",
       "    </tr>\n",
       "    <tr>\n",
       "      <th>1929.0</th>\n",
       "      <td>1</td>\n",
       "      <td>1</td>\n",
       "      <td>1</td>\n",
       "      <td>1</td>\n",
       "      <td>1</td>\n",
       "      <td>0</td>\n",
       "      <td>1</td>\n",
       "      <td>1</td>\n",
       "      <td>1</td>\n",
       "      <td>1</td>\n",
       "      <td>1</td>\n",
       "      <td>1</td>\n",
       "    </tr>\n",
       "    <tr>\n",
       "      <th>1936.0</th>\n",
       "      <td>1</td>\n",
       "      <td>1</td>\n",
       "      <td>1</td>\n",
       "      <td>1</td>\n",
       "      <td>1</td>\n",
       "      <td>1</td>\n",
       "      <td>1</td>\n",
       "      <td>1</td>\n",
       "      <td>1</td>\n",
       "      <td>1</td>\n",
       "      <td>1</td>\n",
       "      <td>1</td>\n",
       "    </tr>\n",
       "    <tr>\n",
       "      <th>1948.0</th>\n",
       "      <td>1</td>\n",
       "      <td>1</td>\n",
       "      <td>1</td>\n",
       "      <td>1</td>\n",
       "      <td>1</td>\n",
       "      <td>1</td>\n",
       "      <td>1</td>\n",
       "      <td>1</td>\n",
       "      <td>1</td>\n",
       "      <td>1</td>\n",
       "      <td>1</td>\n",
       "      <td>1</td>\n",
       "    </tr>\n",
       "    <tr>\n",
       "      <th>1949.0</th>\n",
       "      <td>1</td>\n",
       "      <td>1</td>\n",
       "      <td>1</td>\n",
       "      <td>0</td>\n",
       "      <td>1</td>\n",
       "      <td>1</td>\n",
       "      <td>1</td>\n",
       "      <td>1</td>\n",
       "      <td>1</td>\n",
       "      <td>1</td>\n",
       "      <td>1</td>\n",
       "      <td>1</td>\n",
       "    </tr>\n",
       "    <tr>\n",
       "      <th>...</th>\n",
       "      <td>...</td>\n",
       "      <td>...</td>\n",
       "      <td>...</td>\n",
       "      <td>...</td>\n",
       "      <td>...</td>\n",
       "      <td>...</td>\n",
       "      <td>...</td>\n",
       "      <td>...</td>\n",
       "      <td>...</td>\n",
       "      <td>...</td>\n",
       "      <td>...</td>\n",
       "      <td>...</td>\n",
       "    </tr>\n",
       "    <tr>\n",
       "      <th>2015.0</th>\n",
       "      <td>3323</td>\n",
       "      <td>3323</td>\n",
       "      <td>3323</td>\n",
       "      <td>2966</td>\n",
       "      <td>3323</td>\n",
       "      <td>2809</td>\n",
       "      <td>3323</td>\n",
       "      <td>3323</td>\n",
       "      <td>2710</td>\n",
       "      <td>3323</td>\n",
       "      <td>3323</td>\n",
       "      <td>3323</td>\n",
       "    </tr>\n",
       "    <tr>\n",
       "      <th>2016.0</th>\n",
       "      <td>2954</td>\n",
       "      <td>2954</td>\n",
       "      <td>2954</td>\n",
       "      <td>2658</td>\n",
       "      <td>2954</td>\n",
       "      <td>2510</td>\n",
       "      <td>2954</td>\n",
       "      <td>2954</td>\n",
       "      <td>2402</td>\n",
       "      <td>2954</td>\n",
       "      <td>2954</td>\n",
       "      <td>2954</td>\n",
       "    </tr>\n",
       "    <tr>\n",
       "      <th>2017.0</th>\n",
       "      <td>2419</td>\n",
       "      <td>2419</td>\n",
       "      <td>2419</td>\n",
       "      <td>2162</td>\n",
       "      <td>2419</td>\n",
       "      <td>2040</td>\n",
       "      <td>2419</td>\n",
       "      <td>2419</td>\n",
       "      <td>1995</td>\n",
       "      <td>2419</td>\n",
       "      <td>2419</td>\n",
       "      <td>2419</td>\n",
       "    </tr>\n",
       "    <tr>\n",
       "      <th>2018.0</th>\n",
       "      <td>2193</td>\n",
       "      <td>2193</td>\n",
       "      <td>2193</td>\n",
       "      <td>2001</td>\n",
       "      <td>2193</td>\n",
       "      <td>1855</td>\n",
       "      <td>2193</td>\n",
       "      <td>2193</td>\n",
       "      <td>1803</td>\n",
       "      <td>2193</td>\n",
       "      <td>2193</td>\n",
       "      <td>2193</td>\n",
       "    </tr>\n",
       "    <tr>\n",
       "      <th>2019.0</th>\n",
       "      <td>380</td>\n",
       "      <td>380</td>\n",
       "      <td>380</td>\n",
       "      <td>347</td>\n",
       "      <td>380</td>\n",
       "      <td>328</td>\n",
       "      <td>380</td>\n",
       "      <td>380</td>\n",
       "      <td>309</td>\n",
       "      <td>380</td>\n",
       "      <td>380</td>\n",
       "      <td>380</td>\n",
       "    </tr>\n",
       "  </tbody>\n",
       "</table>\n",
       "<p>68 rows × 12 columns</p>\n",
       "</div>"
      ],
      "text/plain": [
       "            price  model  condition  cylinders  fuel  odometer  transmission  \\\n",
       "model_year                                                                     \n",
       "1908.0          2      2          2          2     2         1             2   \n",
       "1929.0          1      1          1          1     1         0             1   \n",
       "1936.0          1      1          1          1     1         1             1   \n",
       "1948.0          1      1          1          1     1         1             1   \n",
       "1949.0          1      1          1          0     1         1             1   \n",
       "...           ...    ...        ...        ...   ...       ...           ...   \n",
       "2015.0       3323   3323       3323       2966  3323      2809          3323   \n",
       "2016.0       2954   2954       2954       2658  2954      2510          2954   \n",
       "2017.0       2419   2419       2419       2162  2419      2040          2419   \n",
       "2018.0       2193   2193       2193       2001  2193      1855          2193   \n",
       "2019.0        380    380        380        347   380       328           380   \n",
       "\n",
       "            type  paint_color  is_4wd  date_posted  days_listed  \n",
       "model_year                                                       \n",
       "1908.0         2            2       2            2            2  \n",
       "1929.0         1            1       1            1            1  \n",
       "1936.0         1            1       1            1            1  \n",
       "1948.0         1            1       1            1            1  \n",
       "1949.0         1            1       1            1            1  \n",
       "...          ...          ...     ...          ...          ...  \n",
       "2015.0      3323         2710    3323         3323         3323  \n",
       "2016.0      2954         2402    2954         2954         2954  \n",
       "2017.0      2419         1995    2419         2419         2419  \n",
       "2018.0      2193         1803    2193         2193         2193  \n",
       "2019.0       380          309     380          380          380  \n",
       "\n",
       "[68 rows x 12 columns]"
      ]
     },
     "execution_count": 11,
     "metadata": {},
     "output_type": "execute_result"
    }
   ],
   "source": [
    "df.groupby('model_year').count()"
   ]
  },
  {
   "cell_type": "code",
   "execution_count": 12,
   "metadata": {
    "scrolled": true
   },
   "outputs": [
    {
     "data": {
      "text/plain": [
       "8.0     15844\n",
       "6.0     15700\n",
       "4.0     13864\n",
       "10.0      549\n",
       "5.0       272\n",
       "3.0        34\n",
       "12.0        2\n",
       "Name: cylinders, dtype: int64"
      ]
     },
     "execution_count": 12,
     "metadata": {},
     "output_type": "execute_result"
    }
   ],
   "source": [
    "df['cylinders'].value_counts()"
   ]
  },
  {
   "cell_type": "code",
   "execution_count": 13,
   "metadata": {},
   "outputs": [
    {
     "data": {
      "text/plain": [
       "6.0"
      ]
     },
     "execution_count": 13,
     "metadata": {},
     "output_type": "execute_result"
    }
   ],
   "source": [
    "df['cylinders'].median()"
   ]
  },
  {
   "cell_type": "code",
   "execution_count": 14,
   "metadata": {
    "scrolled": true
   },
   "outputs": [
    {
     "name": "stdout",
     "output_type": "stream",
     "text": [
      "<class 'pandas.core.frame.DataFrame'>\n",
      "RangeIndex: 51525 entries, 0 to 51524\n",
      "Data columns (total 13 columns):\n",
      " #   Column        Non-Null Count  Dtype  \n",
      "---  ------        --------------  -----  \n",
      " 0   price         51525 non-null  int64  \n",
      " 1   model_year    47906 non-null  float64\n",
      " 2   model         51525 non-null  object \n",
      " 3   condition     51525 non-null  object \n",
      " 4   cylinders     51525 non-null  int64  \n",
      " 5   fuel          51525 non-null  object \n",
      " 6   odometer      43633 non-null  float64\n",
      " 7   transmission  51525 non-null  object \n",
      " 8   type          51525 non-null  object \n",
      " 9   paint_color   42258 non-null  object \n",
      " 10  is_4wd        51525 non-null  bool   \n",
      " 11  date_posted   51525 non-null  object \n",
      " 12  days_listed   51525 non-null  int64  \n",
      "dtypes: bool(1), float64(2), int64(3), object(7)\n",
      "memory usage: 4.8+ MB\n"
     ]
    }
   ],
   "source": [
    "df.loc[df['cylinders']== 0, 'cylinders'] = 6\n",
    "df['cylinders'].fillna(value = 6,inplace = True)\n",
    "df['cylinders'] = df['cylinders'].astype('int')\n",
    "df.info()"
   ]
  },
  {
   "cell_type": "markdown",
   "metadata": {},
   "source": [
    "Decided to replace with median, failed to change it in normal way\n",
    "\n",
    "#here we fill missed values with '0' to remove them. as this column is not important for now, plus we don't have any column like engine size to fill this missing values"
   ]
  },
  {
   "cell_type": "code",
   "execution_count": 15,
   "metadata": {
    "scrolled": true
   },
   "outputs": [
    {
     "name": "stdout",
     "output_type": "stream",
     "text": [
      "['good' 'like new' 'fair' 'excellent' 'salvage' 'new']\n"
     ]
    }
   ],
   "source": [
    "print(df['condition'].unique())"
   ]
  },
  {
   "cell_type": "code",
   "execution_count": 16,
   "metadata": {},
   "outputs": [
    {
     "name": "stdout",
     "output_type": "stream",
     "text": [
      "ford f-150                           2796\n",
      "chevrolet silverado 1500             2171\n",
      "ram 1500                             1750\n",
      "chevrolet silverado                  1271\n",
      "jeep wrangler                        1119\n",
      "                                     ... \n",
      "ford f-250 super duty                 241\n",
      "acura tl                              236\n",
      "kia sorento                           236\n",
      "nissan murano                         235\n",
      "mercedes-benz benze sprinter 2500      41\n",
      "Name: model, Length: 100, dtype: int64\n"
     ]
    }
   ],
   "source": [
    "print(df['model'].value_counts())"
   ]
  },
  {
   "cell_type": "code",
   "execution_count": 17,
   "metadata": {
    "scrolled": false
   },
   "outputs": [
    {
     "name": "stdout",
     "output_type": "stream",
     "text": [
      "white     10029\n",
      "black      7692\n",
      "silver     6244\n",
      "grey       5037\n",
      "blue       4475\n",
      "red        4421\n",
      "green      1396\n",
      "brown      1223\n",
      "custom     1153\n",
      "yellow      255\n",
      "orange      231\n",
      "purple      102\n",
      "Name: paint_color, dtype: int64\n"
     ]
    }
   ],
   "source": [
    "print(df['paint_color'].value_counts())\n",
    "df['paint_color'].fillna(value = 'noinfo',inplace = True)"
   ]
  },
  {
   "cell_type": "markdown",
   "metadata": {},
   "source": [
    "Color is clear enough, all of them separate colors. noinfo - to replace missing"
   ]
  },
  {
   "cell_type": "code",
   "execution_count": 18,
   "metadata": {
    "scrolled": true
   },
   "outputs": [
    {
     "name": "stdout",
     "output_type": "stream",
     "text": [
      "SUV            12405\n",
      "truck          12353\n",
      "sedan          12154\n",
      "pickup          6988\n",
      "coupe           2303\n",
      "wagon           1541\n",
      "mini-van        1161\n",
      "hatchback       1047\n",
      "van              633\n",
      "convertible      446\n",
      "other            256\n",
      "offroad          214\n",
      "bus               24\n",
      "Name: type, dtype: int64\n",
      "\n",
      "Index(['SUV', 'truck', 'sedan', 'pickup', 'coupe', 'wagon', 'mini-van',\n",
      "       'hatchback', 'van', 'convertible', 'other', 'offroad', 'bus'],\n",
      "      dtype='object')\n"
     ]
    }
   ],
   "source": [
    "print(df['type'].value_counts())\n",
    "print()\n",
    "print(df['type'].value_counts().index)"
   ]
  },
  {
   "cell_type": "markdown",
   "metadata": {},
   "source": [
    "some of the models has different types. sometimes it can be as it is - like hatchback and sedan types for one model. but when one clearly defined model has the types - wagon, van and mini-van - more likely its same type of the model, so they can be replaced by one of them."
   ]
  },
  {
   "cell_type": "code",
   "execution_count": 19,
   "metadata": {},
   "outputs": [
    {
     "name": "stdout",
     "output_type": "stream",
     "text": [
      "automatic    46902\n",
      "manual        2829\n",
      "other         1794\n",
      "Name: transmission, dtype: int64\n"
     ]
    }
   ],
   "source": [
    "print(df['transmission'].value_counts())"
   ]
  },
  {
   "cell_type": "markdown",
   "metadata": {},
   "source": [
    "here is also everything good"
   ]
  },
  {
   "cell_type": "code",
   "execution_count": 20,
   "metadata": {
    "scrolled": true
   },
   "outputs": [
    {
     "name": "stdout",
     "output_type": "stream",
     "text": [
      "0.0         185\n",
      "140000.0    183\n",
      "120000.0    179\n",
      "130000.0    178\n",
      "160000.0    167\n",
      "           ... \n",
      "31100.0      21\n",
      "223000.0     20\n",
      "228000.0     20\n",
      "5031.0       20\n",
      "217000.0     20\n",
      "Name: odometer, Length: 250, dtype: int64\n"
     ]
    }
   ],
   "source": [
    "print(df['odometer'].value_counts().head(250))"
   ]
  },
  {
   "cell_type": "code",
   "execution_count": 21,
   "metadata": {
    "scrolled": true
   },
   "outputs": [
    {
     "name": "stdout",
     "output_type": "stream",
     "text": [
      "<class 'pandas.core.frame.DataFrame'>\n",
      "RangeIndex: 51525 entries, 0 to 51524\n",
      "Data columns (total 13 columns):\n",
      " #   Column        Non-Null Count  Dtype  \n",
      "---  ------        --------------  -----  \n",
      " 0   price         51525 non-null  int64  \n",
      " 1   model_year    47906 non-null  float64\n",
      " 2   model         51525 non-null  object \n",
      " 3   condition     51525 non-null  object \n",
      " 4   cylinders     51525 non-null  int64  \n",
      " 5   fuel          51525 non-null  object \n",
      " 6   odometer      43633 non-null  float64\n",
      " 7   transmission  51525 non-null  object \n",
      " 8   type          51525 non-null  object \n",
      " 9   paint_color   51525 non-null  object \n",
      " 10  is_4wd        51525 non-null  bool   \n",
      " 11  date_posted   51525 non-null  object \n",
      " 12  days_listed   51525 non-null  int64  \n",
      "dtypes: bool(1), float64(2), int64(3), object(7)\n",
      "memory usage: 4.8+ MB\n"
     ]
    }
   ],
   "source": [
    "df.info()"
   ]
  },
  {
   "cell_type": "code",
   "execution_count": 22,
   "metadata": {},
   "outputs": [
    {
     "name": "stdout",
     "output_type": "stream",
     "text": [
      "                 odometer\n",
      "model_year               \n",
      "2000.0      174683.634315\n",
      "2001.0      176735.451748\n",
      "2002.0      158508.842286\n",
      "2003.0      162071.751024\n",
      "2004.0      158872.435047\n",
      "2005.0      151960.236054\n",
      "2006.0      151854.205637\n",
      "2007.0      144958.583001\n",
      "2008.0      141790.299264\n",
      "2009.0      132707.089875\n",
      "2010.0      127865.910474\n",
      "2011.0      125142.825966\n",
      "2012.0      112614.014666\n",
      "2013.0      103403.558132\n",
      "2014.0       93699.084308\n",
      "2015.0       82501.745817\n",
      "2016.0       61455.480876\n",
      "2017.0       47557.926471\n",
      "2018.0       25231.253908\n",
      "2019.0       17076.810976\n"
     ]
    }
   ],
   "source": [
    "pivot_1_2 = df.pivot_table(index='model_year', values='odometer', aggfunc='mean')\n",
    "print(pivot_1_2.tail(20))"
   ]
  },
  {
   "cell_type": "code",
   "execution_count": 23,
   "metadata": {
    "scrolled": true
   },
   "outputs": [
    {
     "name": "stdout",
     "output_type": "stream",
     "text": [
      "          model_year\n",
      "odometer            \n",
      "0.0           2009.0\n",
      "1.0           2007.0\n",
      "2.0           2005.0\n",
      "3.0           2011.0\n",
      "5.0           2018.0\n",
      "...              ...\n",
      "840000.0      2010.0\n",
      "866000.0      2014.0\n",
      "920000.0      1996.0\n",
      "980000.0      2014.0\n",
      "990000.0      1988.5\n",
      "\n",
      "[16900 rows x 1 columns]\n"
     ]
    }
   ],
   "source": [
    "pivot_2_2 = df.pivot_table(index='odometer', values='model_year', aggfunc='median')\n",
    "print(pivot_2_2)"
   ]
  },
  {
   "cell_type": "code",
   "execution_count": 24,
   "metadata": {},
   "outputs": [
    {
     "data": {
      "text/plain": [
       "990000.0"
      ]
     },
     "execution_count": 24,
     "metadata": {},
     "output_type": "execute_result"
    }
   ],
   "source": [
    "df['odometer'].max()"
   ]
  },
  {
   "cell_type": "code",
   "execution_count": 25,
   "metadata": {
    "scrolled": true
   },
   "outputs": [
    {
     "name": "stdout",
     "output_type": "stream",
     "text": [
      "       price  model_year                  model  condition  cylinders    fuel  \\\n",
      "17869  59900      1964.0     chevrolet corvette   like new          6     gas   \n",
      "40729   4700      2013.0        chevrolet cruze       good          6     gas   \n",
      "48962  40000      2014.0               ram 3500  excellent          6  diesel   \n",
      "14245   6000      1996.0               ram 2500       good         10     gas   \n",
      "2840   18500      2014.0          ford explorer  excellent          6     gas   \n",
      "32973   5550      2010.0         toyota corolla  excellent          6     gas   \n",
      "2440    5300      2010.0         toyota corolla  excellent          4     gas   \n",
      "13027   8500      2015.0       chevrolet malibu  excellent          4     gas   \n",
      "41699  10300      2013.0            ford escape  excellent          6     gas   \n",
      "5735    7500      2015.0        hyundai elantra  excellent          4     gas   \n",
      "33578  12995      2014.0           chrysler 300   like new          6     gas   \n",
      "17816  20000      2011.0        gmc sierra 1500       good          8     gas   \n",
      "38202   8800      2012.0      volkswagen passat  excellent          4  diesel   \n",
      "23839  15000      1998.0     chevrolet corvette  excellent          8     gas   \n",
      "39104  14000      2011.0              ford f350       good          8  diesel   \n",
      "43966   5000      1986.0     chevrolet corvette  excellent          8     gas   \n",
      "13935  20000      2012.0          jeep wrangler  excellent          6     gas   \n",
      "22957  19999      2014.0               ram 2500  excellent          8     gas   \n",
      "29482   6500      2001.0               ram 2500       good          6  diesel   \n",
      "34008   3000      2005.0  chevrolet trailblazer       good          6     gas   \n",
      "11124   5900      2014.0        chevrolet cruze       good          4     gas   \n",
      "15685   7500      2005.0    chevrolet silverado       good          8  diesel   \n",
      "4818    8700      2013.0       chevrolet malibu       good          4     gas   \n",
      "28792  11995      2005.0    dodge grand caravan       good          6     gas   \n",
      "27169   2500      2003.0             ford f-250       fair          8  diesel   \n",
      "3107    3500      2002.0               ram 3500       good          6  diesel   \n",
      "2264    2500      2001.0          toyota tundra    salvage          8     gas   \n",
      "41766   3000      2002.0              ford f350       good          8  diesel   \n",
      "13853   6000      2001.0   ford f350 super duty       good          8  diesel   \n",
      "49206  11900      2004.0               ram 2500       good          6  diesel   \n",
      "\n",
      "       odometer transmission         type paint_color  is_4wd date_posted  \\\n",
      "17869  990000.0    automatic  convertible         red   False  2018-06-17   \n",
      "40729  990000.0    automatic        sedan       black   False  2018-05-02   \n",
      "48962  980000.0    automatic        truck       white    True  2018-12-06   \n",
      "14245  920000.0    automatic        truck        blue   False  2019-02-02   \n",
      "2840   866000.0    automatic          SUV       black    True  2018-07-20   \n",
      "32973  840000.0    automatic        sedan      silver   False  2018-10-21   \n",
      "2440   840000.0    automatic        sedan      silver   False  2019-02-04   \n",
      "13027  838095.0    automatic        sedan      silver   False  2018-05-30   \n",
      "41699  831000.0    automatic          SUV       brown   False  2018-05-27   \n",
      "5735   813542.0        other        coupe       brown   False  2018-11-21   \n",
      "33578  811956.0    automatic        sedan      noinfo   False  2018-11-13   \n",
      "17816  790000.0    automatic       pickup        grey    True  2018-09-08   \n",
      "38202  740000.0    automatic        sedan       brown   False  2018-06-07   \n",
      "23839  710000.0    automatic        coupe      silver   False  2019-01-29   \n",
      "39104  700047.0    automatic        truck        blue    True  2018-08-12   \n",
      "43966  660000.0    automatic        coupe       brown   False  2018-09-22   \n",
      "13935  650000.0    automatic        truck       white    True  2018-05-23   \n",
      "22957  580000.0    automatic        truck       white    True  2019-01-30   \n",
      "29482  527835.0    automatic       pickup      noinfo   False  2018-07-09   \n",
      "34008  520000.0    automatic          SUV       brown    True  2018-07-05   \n",
      "11124  510000.0    automatic        sedan      silver   False  2019-01-01   \n",
      "15685  506025.0    automatic        truck       black    True  2018-05-28   \n",
      "4818   500000.0    automatic        sedan        blue   False  2019-02-15   \n",
      "28792  500000.0    automatic     mini-van      silver   False  2018-06-24   \n",
      "27169  500000.0    automatic        truck      silver   False  2019-03-26   \n",
      "3107   498000.0       manual        other       white   False  2018-10-12   \n",
      "2264   482000.0    automatic       pickup       green    True  2019-02-08   \n",
      "41766  480000.0    automatic        truck         red    True  2019-03-03   \n",
      "13853  478000.0    automatic       pickup        blue    True  2019-02-15   \n",
      "49206  470000.0    automatic       pickup       white    True  2018-10-16   \n",
      "\n",
      "       days_listed  \n",
      "17869           28  \n",
      "40729            4  \n",
      "48962            7  \n",
      "14245           43  \n",
      "2840            14  \n",
      "32973           20  \n",
      "2440            13  \n",
      "13027           10  \n",
      "41699           30  \n",
      "5735             5  \n",
      "33578           44  \n",
      "17816           42  \n",
      "38202           32  \n",
      "23839           20  \n",
      "39104           63  \n",
      "43966           38  \n",
      "13935            6  \n",
      "22957           36  \n",
      "29482           30  \n",
      "34008            7  \n",
      "11124           21  \n",
      "15685           60  \n",
      "4818            31  \n",
      "28792           20  \n",
      "27169          125  \n",
      "3107            72  \n",
      "2264            22  \n",
      "41766          109  \n",
      "13853           36  \n",
      "49206           34  \n"
     ]
    }
   ],
   "source": [
    "print(df.sort_values(by = 'odometer', ascending=False).head(30))"
   ]
  },
  {
   "cell_type": "markdown",
   "metadata": {},
   "source": [
    "as we can see here, high values for odometer looks reasonable, all of them not like 1-2 years old. probably cars used for work or just old."
   ]
  },
  {
   "cell_type": "code",
   "execution_count": 26,
   "metadata": {},
   "outputs": [],
   "source": [
    "df['model_year'] = df['model_year'].fillna(df.groupby(['model'])['model_year'].transform('median'))"
   ]
  },
  {
   "cell_type": "code",
   "execution_count": 27,
   "metadata": {},
   "outputs": [],
   "source": [
    "df['odometer'] = df['odometer'].fillna(df.groupby(['model'])['odometer'].transform('median'))"
   ]
  },
  {
   "cell_type": "code",
   "execution_count": 28,
   "metadata": {},
   "outputs": [
    {
     "data": {
      "text/plain": [
       "41"
      ]
     },
     "execution_count": 28,
     "metadata": {},
     "output_type": "execute_result"
    }
   ],
   "source": [
    "df['odometer'].isnull().sum()"
   ]
  },
  {
   "cell_type": "code",
   "execution_count": 29,
   "metadata": {},
   "outputs": [],
   "source": [
    "df.loc[df['odometer'].isna(), 'odometer'] = df['odometer'].median()\n",
    "df['odometer'] = df['odometer'].astype('int')"
   ]
  },
  {
   "cell_type": "code",
   "execution_count": 30,
   "metadata": {},
   "outputs": [],
   "source": [
    "#df.loc[df['model_year'].isna(), 'model_year'] = df['model_year'].median()\n",
    "df['model_year'] = df['model_year'].astype('int')"
   ]
  },
  {
   "cell_type": "code",
   "execution_count": 31,
   "metadata": {
    "scrolled": true
   },
   "outputs": [
    {
     "name": "stdout",
     "output_type": "stream",
     "text": [
      "<class 'pandas.core.frame.DataFrame'>\n",
      "RangeIndex: 51525 entries, 0 to 51524\n",
      "Data columns (total 13 columns):\n",
      " #   Column        Non-Null Count  Dtype \n",
      "---  ------        --------------  ----- \n",
      " 0   price         51525 non-null  int64 \n",
      " 1   model_year    51525 non-null  int64 \n",
      " 2   model         51525 non-null  object\n",
      " 3   condition     51525 non-null  object\n",
      " 4   cylinders     51525 non-null  int64 \n",
      " 5   fuel          51525 non-null  object\n",
      " 6   odometer      51525 non-null  int64 \n",
      " 7   transmission  51525 non-null  object\n",
      " 8   type          51525 non-null  object\n",
      " 9   paint_color   51525 non-null  object\n",
      " 10  is_4wd        51525 non-null  bool  \n",
      " 11  date_posted   51525 non-null  object\n",
      " 12  days_listed   51525 non-null  int64 \n",
      "dtypes: bool(1), int64(5), object(7)\n",
      "memory usage: 4.8+ MB\n"
     ]
    }
   ],
   "source": [
    "df.info()"
   ]
  },
  {
   "cell_type": "markdown",
   "metadata": {},
   "source": [
    "Types converted, missing values - deleted and filled in.\n",
    "Duplicates - same cars, but different advertisements - kept."
   ]
  },
  {
   "cell_type": "markdown",
   "metadata": {},
   "source": [
    "## Make calculations and add them to the table"
   ]
  },
  {
   "cell_type": "markdown",
   "metadata": {},
   "source": [
    "* Day of the week, month, and year the ad was placed\n",
    "* \t\tThe vehicle's age (in years) when the ad was placed"
   ]
  },
  {
   "cell_type": "code",
   "execution_count": 32,
   "metadata": {
    "scrolled": true
   },
   "outputs": [
    {
     "data": {
      "text/html": [
       "<div>\n",
       "<style scoped>\n",
       "    .dataframe tbody tr th:only-of-type {\n",
       "        vertical-align: middle;\n",
       "    }\n",
       "\n",
       "    .dataframe tbody tr th {\n",
       "        vertical-align: top;\n",
       "    }\n",
       "\n",
       "    .dataframe thead th {\n",
       "        text-align: right;\n",
       "    }\n",
       "</style>\n",
       "<table border=\"1\" class=\"dataframe\">\n",
       "  <thead>\n",
       "    <tr style=\"text-align: right;\">\n",
       "      <th></th>\n",
       "      <th>price</th>\n",
       "      <th>model_year</th>\n",
       "      <th>model</th>\n",
       "      <th>condition</th>\n",
       "      <th>cylinders</th>\n",
       "      <th>fuel</th>\n",
       "      <th>odometer</th>\n",
       "      <th>transmission</th>\n",
       "      <th>type</th>\n",
       "      <th>paint_color</th>\n",
       "      <th>is_4wd</th>\n",
       "      <th>date_posted</th>\n",
       "      <th>days_listed</th>\n",
       "    </tr>\n",
       "  </thead>\n",
       "  <tbody>\n",
       "    <tr>\n",
       "      <th>0</th>\n",
       "      <td>9400</td>\n",
       "      <td>2011</td>\n",
       "      <td>bmw x5</td>\n",
       "      <td>good</td>\n",
       "      <td>6</td>\n",
       "      <td>gas</td>\n",
       "      <td>145000</td>\n",
       "      <td>automatic</td>\n",
       "      <td>SUV</td>\n",
       "      <td>noinfo</td>\n",
       "      <td>True</td>\n",
       "      <td>2018-06-23</td>\n",
       "      <td>19</td>\n",
       "    </tr>\n",
       "    <tr>\n",
       "      <th>1</th>\n",
       "      <td>25500</td>\n",
       "      <td>2011</td>\n",
       "      <td>ford f-150</td>\n",
       "      <td>good</td>\n",
       "      <td>6</td>\n",
       "      <td>gas</td>\n",
       "      <td>88705</td>\n",
       "      <td>automatic</td>\n",
       "      <td>pickup</td>\n",
       "      <td>white</td>\n",
       "      <td>True</td>\n",
       "      <td>2018-10-19</td>\n",
       "      <td>50</td>\n",
       "    </tr>\n",
       "    <tr>\n",
       "      <th>2</th>\n",
       "      <td>5500</td>\n",
       "      <td>2013</td>\n",
       "      <td>hyundai sonata</td>\n",
       "      <td>like new</td>\n",
       "      <td>4</td>\n",
       "      <td>gas</td>\n",
       "      <td>110000</td>\n",
       "      <td>automatic</td>\n",
       "      <td>sedan</td>\n",
       "      <td>red</td>\n",
       "      <td>False</td>\n",
       "      <td>2019-02-07</td>\n",
       "      <td>79</td>\n",
       "    </tr>\n",
       "    <tr>\n",
       "      <th>3</th>\n",
       "      <td>1500</td>\n",
       "      <td>2003</td>\n",
       "      <td>ford f-150</td>\n",
       "      <td>fair</td>\n",
       "      <td>8</td>\n",
       "      <td>gas</td>\n",
       "      <td>121928</td>\n",
       "      <td>automatic</td>\n",
       "      <td>pickup</td>\n",
       "      <td>noinfo</td>\n",
       "      <td>False</td>\n",
       "      <td>2019-03-22</td>\n",
       "      <td>9</td>\n",
       "    </tr>\n",
       "    <tr>\n",
       "      <th>4</th>\n",
       "      <td>14900</td>\n",
       "      <td>2017</td>\n",
       "      <td>chrysler 200</td>\n",
       "      <td>excellent</td>\n",
       "      <td>4</td>\n",
       "      <td>gas</td>\n",
       "      <td>80903</td>\n",
       "      <td>automatic</td>\n",
       "      <td>sedan</td>\n",
       "      <td>black</td>\n",
       "      <td>False</td>\n",
       "      <td>2019-04-02</td>\n",
       "      <td>28</td>\n",
       "    </tr>\n",
       "  </tbody>\n",
       "</table>\n",
       "</div>"
      ],
      "text/plain": [
       "   price  model_year           model  condition  cylinders fuel  odometer  \\\n",
       "0   9400        2011          bmw x5       good          6  gas    145000   \n",
       "1  25500        2011      ford f-150       good          6  gas     88705   \n",
       "2   5500        2013  hyundai sonata   like new          4  gas    110000   \n",
       "3   1500        2003      ford f-150       fair          8  gas    121928   \n",
       "4  14900        2017    chrysler 200  excellent          4  gas     80903   \n",
       "\n",
       "  transmission    type paint_color  is_4wd date_posted  days_listed  \n",
       "0    automatic     SUV      noinfo    True  2018-06-23           19  \n",
       "1    automatic  pickup       white    True  2018-10-19           50  \n",
       "2    automatic   sedan         red   False  2019-02-07           79  \n",
       "3    automatic  pickup      noinfo   False  2019-03-22            9  \n",
       "4    automatic   sedan       black   False  2019-04-02           28  "
      ]
     },
     "execution_count": 32,
     "metadata": {},
     "output_type": "execute_result"
    }
   ],
   "source": [
    "df['date_posted'] = pd.to_datetime(df['date_posted'])\n",
    "df.head()"
   ]
  },
  {
   "cell_type": "code",
   "execution_count": 33,
   "metadata": {},
   "outputs": [],
   "source": [
    "df['weekday'] = pd.DatetimeIndex(df['date_posted']).weekday\n",
    "df['month'] = pd.DatetimeIndex(df['date_posted']).month\n",
    "df['year'] = pd.DatetimeIndex(df['date_posted']).year\n"
   ]
  },
  {
   "cell_type": "code",
   "execution_count": 34,
   "metadata": {},
   "outputs": [],
   "source": [
    "df['age'] = df['year'] - df['model_year'] + 1"
   ]
  },
  {
   "cell_type": "code",
   "execution_count": 35,
   "metadata": {},
   "outputs": [
    {
     "data": {
      "text/html": [
       "<div>\n",
       "<style scoped>\n",
       "    .dataframe tbody tr th:only-of-type {\n",
       "        vertical-align: middle;\n",
       "    }\n",
       "\n",
       "    .dataframe tbody tr th {\n",
       "        vertical-align: top;\n",
       "    }\n",
       "\n",
       "    .dataframe thead th {\n",
       "        text-align: right;\n",
       "    }\n",
       "</style>\n",
       "<table border=\"1\" class=\"dataframe\">\n",
       "  <thead>\n",
       "    <tr style=\"text-align: right;\">\n",
       "      <th></th>\n",
       "      <th>price</th>\n",
       "      <th>model_year</th>\n",
       "      <th>model</th>\n",
       "      <th>condition</th>\n",
       "      <th>cylinders</th>\n",
       "      <th>fuel</th>\n",
       "      <th>odometer</th>\n",
       "      <th>transmission</th>\n",
       "      <th>type</th>\n",
       "      <th>paint_color</th>\n",
       "      <th>is_4wd</th>\n",
       "      <th>date_posted</th>\n",
       "      <th>days_listed</th>\n",
       "      <th>weekday</th>\n",
       "      <th>month</th>\n",
       "      <th>year</th>\n",
       "      <th>age</th>\n",
       "    </tr>\n",
       "  </thead>\n",
       "  <tbody>\n",
       "    <tr>\n",
       "      <th>12705</th>\n",
       "      <td>6700</td>\n",
       "      <td>2007</td>\n",
       "      <td>chevrolet suburban</td>\n",
       "      <td>good</td>\n",
       "      <td>8</td>\n",
       "      <td>gas</td>\n",
       "      <td>185000</td>\n",
       "      <td>automatic</td>\n",
       "      <td>SUV</td>\n",
       "      <td>grey</td>\n",
       "      <td>False</td>\n",
       "      <td>2018-05-14</td>\n",
       "      <td>28</td>\n",
       "      <td>0</td>\n",
       "      <td>5</td>\n",
       "      <td>2018</td>\n",
       "      <td>12</td>\n",
       "    </tr>\n",
       "    <tr>\n",
       "      <th>19616</th>\n",
       "      <td>6950</td>\n",
       "      <td>2009</td>\n",
       "      <td>nissan murano</td>\n",
       "      <td>good</td>\n",
       "      <td>6</td>\n",
       "      <td>gas</td>\n",
       "      <td>122000</td>\n",
       "      <td>automatic</td>\n",
       "      <td>SUV</td>\n",
       "      <td>brown</td>\n",
       "      <td>True</td>\n",
       "      <td>2018-09-29</td>\n",
       "      <td>25</td>\n",
       "      <td>5</td>\n",
       "      <td>9</td>\n",
       "      <td>2018</td>\n",
       "      <td>10</td>\n",
       "    </tr>\n",
       "    <tr>\n",
       "      <th>14962</th>\n",
       "      <td>13490</td>\n",
       "      <td>2012</td>\n",
       "      <td>ford econoline</td>\n",
       "      <td>good</td>\n",
       "      <td>8</td>\n",
       "      <td>gas</td>\n",
       "      <td>80836</td>\n",
       "      <td>automatic</td>\n",
       "      <td>truck</td>\n",
       "      <td>white</td>\n",
       "      <td>False</td>\n",
       "      <td>2018-08-15</td>\n",
       "      <td>33</td>\n",
       "      <td>2</td>\n",
       "      <td>8</td>\n",
       "      <td>2018</td>\n",
       "      <td>7</td>\n",
       "    </tr>\n",
       "    <tr>\n",
       "      <th>22753</th>\n",
       "      <td>22950</td>\n",
       "      <td>2014</td>\n",
       "      <td>chevrolet silverado 1500</td>\n",
       "      <td>like new</td>\n",
       "      <td>6</td>\n",
       "      <td>gas</td>\n",
       "      <td>87274</td>\n",
       "      <td>automatic</td>\n",
       "      <td>pickup</td>\n",
       "      <td>noinfo</td>\n",
       "      <td>True</td>\n",
       "      <td>2018-09-01</td>\n",
       "      <td>81</td>\n",
       "      <td>5</td>\n",
       "      <td>9</td>\n",
       "      <td>2018</td>\n",
       "      <td>5</td>\n",
       "    </tr>\n",
       "    <tr>\n",
       "      <th>10984</th>\n",
       "      <td>4999</td>\n",
       "      <td>2007</td>\n",
       "      <td>chevrolet silverado</td>\n",
       "      <td>excellent</td>\n",
       "      <td>6</td>\n",
       "      <td>gas</td>\n",
       "      <td>142000</td>\n",
       "      <td>automatic</td>\n",
       "      <td>pickup</td>\n",
       "      <td>white</td>\n",
       "      <td>False</td>\n",
       "      <td>2019-02-22</td>\n",
       "      <td>22</td>\n",
       "      <td>4</td>\n",
       "      <td>2</td>\n",
       "      <td>2019</td>\n",
       "      <td>13</td>\n",
       "    </tr>\n",
       "  </tbody>\n",
       "</table>\n",
       "</div>"
      ],
      "text/plain": [
       "       price  model_year                     model  condition  cylinders fuel  \\\n",
       "12705   6700        2007        chevrolet suburban       good          8  gas   \n",
       "19616   6950        2009             nissan murano       good          6  gas   \n",
       "14962  13490        2012            ford econoline       good          8  gas   \n",
       "22753  22950        2014  chevrolet silverado 1500   like new          6  gas   \n",
       "10984   4999        2007       chevrolet silverado  excellent          6  gas   \n",
       "\n",
       "       odometer transmission    type paint_color  is_4wd date_posted  \\\n",
       "12705    185000    automatic     SUV        grey   False  2018-05-14   \n",
       "19616    122000    automatic     SUV       brown    True  2018-09-29   \n",
       "14962     80836    automatic   truck       white   False  2018-08-15   \n",
       "22753     87274    automatic  pickup      noinfo    True  2018-09-01   \n",
       "10984    142000    automatic  pickup       white   False  2019-02-22   \n",
       "\n",
       "       days_listed  weekday  month  year  age  \n",
       "12705           28        0      5  2018   12  \n",
       "19616           25        5      9  2018   10  \n",
       "14962           33        2      8  2018    7  \n",
       "22753           81        5      9  2018    5  \n",
       "10984           22        4      2  2019   13  "
      ]
     },
     "execution_count": 35,
     "metadata": {},
     "output_type": "execute_result"
    }
   ],
   "source": [
    "df.sample(5)"
   ]
  },
  {
   "cell_type": "markdown",
   "metadata": {},
   "source": [
    "* \t\tThe vehicle's average mileage per year"
   ]
  },
  {
   "cell_type": "code",
   "execution_count": 36,
   "metadata": {},
   "outputs": [],
   "source": [
    "def ave_mile(row):\n",
    "    if row['age'] == 0:\n",
    "        return row['odometer']\n",
    "    else:\n",
    "        return row['odometer']/row['age']\n",
    "        "
   ]
  },
  {
   "cell_type": "code",
   "execution_count": 37,
   "metadata": {},
   "outputs": [],
   "source": [
    "df['odometer_per_year'] = df.apply(ave_mile, axis=1)"
   ]
  },
  {
   "cell_type": "code",
   "execution_count": 38,
   "metadata": {},
   "outputs": [
    {
     "data": {
      "text/html": [
       "<div>\n",
       "<style scoped>\n",
       "    .dataframe tbody tr th:only-of-type {\n",
       "        vertical-align: middle;\n",
       "    }\n",
       "\n",
       "    .dataframe tbody tr th {\n",
       "        vertical-align: top;\n",
       "    }\n",
       "\n",
       "    .dataframe thead th {\n",
       "        text-align: right;\n",
       "    }\n",
       "</style>\n",
       "<table border=\"1\" class=\"dataframe\">\n",
       "  <thead>\n",
       "    <tr style=\"text-align: right;\">\n",
       "      <th></th>\n",
       "      <th>price</th>\n",
       "      <th>model_year</th>\n",
       "      <th>model</th>\n",
       "      <th>condition</th>\n",
       "      <th>cylinders</th>\n",
       "      <th>fuel</th>\n",
       "      <th>odometer</th>\n",
       "      <th>transmission</th>\n",
       "      <th>type</th>\n",
       "      <th>paint_color</th>\n",
       "      <th>is_4wd</th>\n",
       "      <th>date_posted</th>\n",
       "      <th>days_listed</th>\n",
       "      <th>weekday</th>\n",
       "      <th>month</th>\n",
       "      <th>year</th>\n",
       "      <th>age</th>\n",
       "      <th>odometer_per_year</th>\n",
       "    </tr>\n",
       "  </thead>\n",
       "  <tbody>\n",
       "    <tr>\n",
       "      <th>0</th>\n",
       "      <td>9400</td>\n",
       "      <td>2011</td>\n",
       "      <td>bmw x5</td>\n",
       "      <td>good</td>\n",
       "      <td>6</td>\n",
       "      <td>gas</td>\n",
       "      <td>145000</td>\n",
       "      <td>automatic</td>\n",
       "      <td>SUV</td>\n",
       "      <td>noinfo</td>\n",
       "      <td>True</td>\n",
       "      <td>2018-06-23</td>\n",
       "      <td>19</td>\n",
       "      <td>5</td>\n",
       "      <td>6</td>\n",
       "      <td>2018</td>\n",
       "      <td>8</td>\n",
       "      <td>18125</td>\n",
       "    </tr>\n",
       "    <tr>\n",
       "      <th>1</th>\n",
       "      <td>25500</td>\n",
       "      <td>2011</td>\n",
       "      <td>ford f-150</td>\n",
       "      <td>good</td>\n",
       "      <td>6</td>\n",
       "      <td>gas</td>\n",
       "      <td>88705</td>\n",
       "      <td>automatic</td>\n",
       "      <td>pickup</td>\n",
       "      <td>white</td>\n",
       "      <td>True</td>\n",
       "      <td>2018-10-19</td>\n",
       "      <td>50</td>\n",
       "      <td>4</td>\n",
       "      <td>10</td>\n",
       "      <td>2018</td>\n",
       "      <td>8</td>\n",
       "      <td>11088</td>\n",
       "    </tr>\n",
       "    <tr>\n",
       "      <th>2</th>\n",
       "      <td>5500</td>\n",
       "      <td>2013</td>\n",
       "      <td>hyundai sonata</td>\n",
       "      <td>like new</td>\n",
       "      <td>4</td>\n",
       "      <td>gas</td>\n",
       "      <td>110000</td>\n",
       "      <td>automatic</td>\n",
       "      <td>sedan</td>\n",
       "      <td>red</td>\n",
       "      <td>False</td>\n",
       "      <td>2019-02-07</td>\n",
       "      <td>79</td>\n",
       "      <td>3</td>\n",
       "      <td>2</td>\n",
       "      <td>2019</td>\n",
       "      <td>7</td>\n",
       "      <td>15714</td>\n",
       "    </tr>\n",
       "    <tr>\n",
       "      <th>3</th>\n",
       "      <td>1500</td>\n",
       "      <td>2003</td>\n",
       "      <td>ford f-150</td>\n",
       "      <td>fair</td>\n",
       "      <td>8</td>\n",
       "      <td>gas</td>\n",
       "      <td>121928</td>\n",
       "      <td>automatic</td>\n",
       "      <td>pickup</td>\n",
       "      <td>noinfo</td>\n",
       "      <td>False</td>\n",
       "      <td>2019-03-22</td>\n",
       "      <td>9</td>\n",
       "      <td>4</td>\n",
       "      <td>3</td>\n",
       "      <td>2019</td>\n",
       "      <td>17</td>\n",
       "      <td>7172</td>\n",
       "    </tr>\n",
       "    <tr>\n",
       "      <th>4</th>\n",
       "      <td>14900</td>\n",
       "      <td>2017</td>\n",
       "      <td>chrysler 200</td>\n",
       "      <td>excellent</td>\n",
       "      <td>4</td>\n",
       "      <td>gas</td>\n",
       "      <td>80903</td>\n",
       "      <td>automatic</td>\n",
       "      <td>sedan</td>\n",
       "      <td>black</td>\n",
       "      <td>False</td>\n",
       "      <td>2019-04-02</td>\n",
       "      <td>28</td>\n",
       "      <td>1</td>\n",
       "      <td>4</td>\n",
       "      <td>2019</td>\n",
       "      <td>3</td>\n",
       "      <td>26967</td>\n",
       "    </tr>\n",
       "  </tbody>\n",
       "</table>\n",
       "</div>"
      ],
      "text/plain": [
       "   price  model_year           model  condition  cylinders fuel  odometer  \\\n",
       "0   9400        2011          bmw x5       good          6  gas    145000   \n",
       "1  25500        2011      ford f-150       good          6  gas     88705   \n",
       "2   5500        2013  hyundai sonata   like new          4  gas    110000   \n",
       "3   1500        2003      ford f-150       fair          8  gas    121928   \n",
       "4  14900        2017    chrysler 200  excellent          4  gas     80903   \n",
       "\n",
       "  transmission    type paint_color  is_4wd date_posted  days_listed  weekday  \\\n",
       "0    automatic     SUV      noinfo    True  2018-06-23           19        5   \n",
       "1    automatic  pickup       white    True  2018-10-19           50        4   \n",
       "2    automatic   sedan         red   False  2019-02-07           79        3   \n",
       "3    automatic  pickup      noinfo   False  2019-03-22            9        4   \n",
       "4    automatic   sedan       black   False  2019-04-02           28        1   \n",
       "\n",
       "   month  year  age  odometer_per_year  \n",
       "0      6  2018    8              18125  \n",
       "1     10  2018    8              11088  \n",
       "2      2  2019    7              15714  \n",
       "3      3  2019   17               7172  \n",
       "4      4  2019    3              26967  "
      ]
     },
     "execution_count": 38,
     "metadata": {},
     "output_type": "execute_result"
    }
   ],
   "source": [
    "df['odometer_per_year'] = df['odometer_per_year'].astype('int')\n",
    "df.head(5)"
   ]
  },
  {
   "cell_type": "markdown",
   "metadata": {},
   "source": [
    "In the condition column, replace string values with a numeric scale:\n",
    "* \t\tnew = 5\n",
    "* \t\tlike new = 4\n",
    "* \t\texcellent = 3\n",
    "* \t\tgood = 2\n",
    "* \t\tfair = 1\n",
    "* \t\tsalvage = 0"
   ]
  },
  {
   "cell_type": "code",
   "execution_count": 39,
   "metadata": {},
   "outputs": [],
   "source": [
    "def condition_num(row):\n",
    "    x = row['condition']\n",
    "    if x == 'new':\n",
    "        return 5\n",
    "    if x == 'like new':\n",
    "        return 4\n",
    "    if x == 'excellent':\n",
    "        return 3\n",
    "    if x == 'good':\n",
    "        return 2\n",
    "    if x == 'fair':\n",
    "        return 1\n",
    "    else:\n",
    "        return 0"
   ]
  },
  {
   "cell_type": "code",
   "execution_count": 40,
   "metadata": {},
   "outputs": [],
   "source": [
    "df['condition'] = df.apply(condition_num, axis=1)"
   ]
  },
  {
   "cell_type": "code",
   "execution_count": 41,
   "metadata": {
    "scrolled": true
   },
   "outputs": [
    {
     "data": {
      "text/html": [
       "<div>\n",
       "<style scoped>\n",
       "    .dataframe tbody tr th:only-of-type {\n",
       "        vertical-align: middle;\n",
       "    }\n",
       "\n",
       "    .dataframe tbody tr th {\n",
       "        vertical-align: top;\n",
       "    }\n",
       "\n",
       "    .dataframe thead th {\n",
       "        text-align: right;\n",
       "    }\n",
       "</style>\n",
       "<table border=\"1\" class=\"dataframe\">\n",
       "  <thead>\n",
       "    <tr style=\"text-align: right;\">\n",
       "      <th></th>\n",
       "      <th>price</th>\n",
       "      <th>model_year</th>\n",
       "      <th>model</th>\n",
       "      <th>condition</th>\n",
       "      <th>cylinders</th>\n",
       "      <th>fuel</th>\n",
       "      <th>odometer</th>\n",
       "      <th>transmission</th>\n",
       "      <th>type</th>\n",
       "      <th>paint_color</th>\n",
       "      <th>is_4wd</th>\n",
       "      <th>date_posted</th>\n",
       "      <th>days_listed</th>\n",
       "      <th>weekday</th>\n",
       "      <th>month</th>\n",
       "      <th>year</th>\n",
       "      <th>age</th>\n",
       "      <th>odometer_per_year</th>\n",
       "    </tr>\n",
       "  </thead>\n",
       "  <tbody>\n",
       "    <tr>\n",
       "      <th>29973</th>\n",
       "      <td>35995</td>\n",
       "      <td>2018</td>\n",
       "      <td>jeep wrangler unlimited</td>\n",
       "      <td>3</td>\n",
       "      <td>6</td>\n",
       "      <td>gas</td>\n",
       "      <td>79485</td>\n",
       "      <td>automatic</td>\n",
       "      <td>SUV</td>\n",
       "      <td>blue</td>\n",
       "      <td>True</td>\n",
       "      <td>2018-10-09</td>\n",
       "      <td>9</td>\n",
       "      <td>1</td>\n",
       "      <td>10</td>\n",
       "      <td>2018</td>\n",
       "      <td>1</td>\n",
       "      <td>79485</td>\n",
       "    </tr>\n",
       "    <tr>\n",
       "      <th>5873</th>\n",
       "      <td>4490</td>\n",
       "      <td>2002</td>\n",
       "      <td>honda civic lx</td>\n",
       "      <td>3</td>\n",
       "      <td>4</td>\n",
       "      <td>gas</td>\n",
       "      <td>90069</td>\n",
       "      <td>automatic</td>\n",
       "      <td>sedan</td>\n",
       "      <td>white</td>\n",
       "      <td>False</td>\n",
       "      <td>2019-03-16</td>\n",
       "      <td>51</td>\n",
       "      <td>5</td>\n",
       "      <td>3</td>\n",
       "      <td>2019</td>\n",
       "      <td>18</td>\n",
       "      <td>5003</td>\n",
       "    </tr>\n",
       "    <tr>\n",
       "      <th>16517</th>\n",
       "      <td>14995</td>\n",
       "      <td>2012</td>\n",
       "      <td>buick enclave</td>\n",
       "      <td>3</td>\n",
       "      <td>6</td>\n",
       "      <td>gas</td>\n",
       "      <td>68762</td>\n",
       "      <td>automatic</td>\n",
       "      <td>SUV</td>\n",
       "      <td>red</td>\n",
       "      <td>True</td>\n",
       "      <td>2018-09-15</td>\n",
       "      <td>78</td>\n",
       "      <td>5</td>\n",
       "      <td>9</td>\n",
       "      <td>2018</td>\n",
       "      <td>7</td>\n",
       "      <td>9823</td>\n",
       "    </tr>\n",
       "    <tr>\n",
       "      <th>8337</th>\n",
       "      <td>5699</td>\n",
       "      <td>2012</td>\n",
       "      <td>nissan sentra</td>\n",
       "      <td>3</td>\n",
       "      <td>4</td>\n",
       "      <td>gas</td>\n",
       "      <td>102812</td>\n",
       "      <td>manual</td>\n",
       "      <td>sedan</td>\n",
       "      <td>blue</td>\n",
       "      <td>False</td>\n",
       "      <td>2018-08-26</td>\n",
       "      <td>22</td>\n",
       "      <td>6</td>\n",
       "      <td>8</td>\n",
       "      <td>2018</td>\n",
       "      <td>7</td>\n",
       "      <td>14687</td>\n",
       "    </tr>\n",
       "    <tr>\n",
       "      <th>30775</th>\n",
       "      <td>1</td>\n",
       "      <td>2015</td>\n",
       "      <td>jeep grand cherokee</td>\n",
       "      <td>3</td>\n",
       "      <td>8</td>\n",
       "      <td>gas</td>\n",
       "      <td>122390</td>\n",
       "      <td>automatic</td>\n",
       "      <td>SUV</td>\n",
       "      <td>black</td>\n",
       "      <td>True</td>\n",
       "      <td>2018-07-07</td>\n",
       "      <td>18</td>\n",
       "      <td>5</td>\n",
       "      <td>7</td>\n",
       "      <td>2018</td>\n",
       "      <td>4</td>\n",
       "      <td>30597</td>\n",
       "    </tr>\n",
       "    <tr>\n",
       "      <th>5472</th>\n",
       "      <td>13435</td>\n",
       "      <td>2015</td>\n",
       "      <td>chevrolet colorado</td>\n",
       "      <td>2</td>\n",
       "      <td>4</td>\n",
       "      <td>gas</td>\n",
       "      <td>77400</td>\n",
       "      <td>automatic</td>\n",
       "      <td>truck</td>\n",
       "      <td>white</td>\n",
       "      <td>False</td>\n",
       "      <td>2018-06-06</td>\n",
       "      <td>19</td>\n",
       "      <td>2</td>\n",
       "      <td>6</td>\n",
       "      <td>2018</td>\n",
       "      <td>4</td>\n",
       "      <td>19350</td>\n",
       "    </tr>\n",
       "    <tr>\n",
       "      <th>12467</th>\n",
       "      <td>19900</td>\n",
       "      <td>2011</td>\n",
       "      <td>ford f-150</td>\n",
       "      <td>3</td>\n",
       "      <td>6</td>\n",
       "      <td>gas</td>\n",
       "      <td>112932</td>\n",
       "      <td>automatic</td>\n",
       "      <td>truck</td>\n",
       "      <td>white</td>\n",
       "      <td>True</td>\n",
       "      <td>2018-07-31</td>\n",
       "      <td>2</td>\n",
       "      <td>1</td>\n",
       "      <td>7</td>\n",
       "      <td>2018</td>\n",
       "      <td>8</td>\n",
       "      <td>14116</td>\n",
       "    </tr>\n",
       "    <tr>\n",
       "      <th>26734</th>\n",
       "      <td>17885</td>\n",
       "      <td>2015</td>\n",
       "      <td>gmc sierra</td>\n",
       "      <td>3</td>\n",
       "      <td>8</td>\n",
       "      <td>gas</td>\n",
       "      <td>16926</td>\n",
       "      <td>automatic</td>\n",
       "      <td>truck</td>\n",
       "      <td>white</td>\n",
       "      <td>False</td>\n",
       "      <td>2018-09-16</td>\n",
       "      <td>41</td>\n",
       "      <td>6</td>\n",
       "      <td>9</td>\n",
       "      <td>2018</td>\n",
       "      <td>4</td>\n",
       "      <td>4231</td>\n",
       "    </tr>\n",
       "    <tr>\n",
       "      <th>34509</th>\n",
       "      <td>26995</td>\n",
       "      <td>2014</td>\n",
       "      <td>jeep wrangler unlimited</td>\n",
       "      <td>3</td>\n",
       "      <td>6</td>\n",
       "      <td>gas</td>\n",
       "      <td>79485</td>\n",
       "      <td>automatic</td>\n",
       "      <td>offroad</td>\n",
       "      <td>white</td>\n",
       "      <td>True</td>\n",
       "      <td>2018-07-09</td>\n",
       "      <td>66</td>\n",
       "      <td>0</td>\n",
       "      <td>7</td>\n",
       "      <td>2018</td>\n",
       "      <td>5</td>\n",
       "      <td>15897</td>\n",
       "    </tr>\n",
       "    <tr>\n",
       "      <th>31952</th>\n",
       "      <td>7995</td>\n",
       "      <td>2011</td>\n",
       "      <td>toyota rav4</td>\n",
       "      <td>3</td>\n",
       "      <td>6</td>\n",
       "      <td>gas</td>\n",
       "      <td>194706</td>\n",
       "      <td>automatic</td>\n",
       "      <td>SUV</td>\n",
       "      <td>black</td>\n",
       "      <td>False</td>\n",
       "      <td>2018-12-14</td>\n",
       "      <td>44</td>\n",
       "      <td>4</td>\n",
       "      <td>12</td>\n",
       "      <td>2018</td>\n",
       "      <td>8</td>\n",
       "      <td>24338</td>\n",
       "    </tr>\n",
       "  </tbody>\n",
       "</table>\n",
       "</div>"
      ],
      "text/plain": [
       "       price  model_year                    model  condition  cylinders fuel  \\\n",
       "29973  35995        2018  jeep wrangler unlimited          3          6  gas   \n",
       "5873    4490        2002           honda civic lx          3          4  gas   \n",
       "16517  14995        2012            buick enclave          3          6  gas   \n",
       "8337    5699        2012            nissan sentra          3          4  gas   \n",
       "30775      1        2015      jeep grand cherokee          3          8  gas   \n",
       "5472   13435        2015       chevrolet colorado          2          4  gas   \n",
       "12467  19900        2011               ford f-150          3          6  gas   \n",
       "26734  17885        2015               gmc sierra          3          8  gas   \n",
       "34509  26995        2014  jeep wrangler unlimited          3          6  gas   \n",
       "31952   7995        2011              toyota rav4          3          6  gas   \n",
       "\n",
       "       odometer transmission     type paint_color  is_4wd date_posted  \\\n",
       "29973     79485    automatic      SUV        blue    True  2018-10-09   \n",
       "5873      90069    automatic    sedan       white   False  2019-03-16   \n",
       "16517     68762    automatic      SUV         red    True  2018-09-15   \n",
       "8337     102812       manual    sedan        blue   False  2018-08-26   \n",
       "30775    122390    automatic      SUV       black    True  2018-07-07   \n",
       "5472      77400    automatic    truck       white   False  2018-06-06   \n",
       "12467    112932    automatic    truck       white    True  2018-07-31   \n",
       "26734     16926    automatic    truck       white   False  2018-09-16   \n",
       "34509     79485    automatic  offroad       white    True  2018-07-09   \n",
       "31952    194706    automatic      SUV       black   False  2018-12-14   \n",
       "\n",
       "       days_listed  weekday  month  year  age  odometer_per_year  \n",
       "29973            9        1     10  2018    1              79485  \n",
       "5873            51        5      3  2019   18               5003  \n",
       "16517           78        5      9  2018    7               9823  \n",
       "8337            22        6      8  2018    7              14687  \n",
       "30775           18        5      7  2018    4              30597  \n",
       "5472            19        2      6  2018    4              19350  \n",
       "12467            2        1      7  2018    8              14116  \n",
       "26734           41        6      9  2018    4               4231  \n",
       "34509           66        0      7  2018    5              15897  \n",
       "31952           44        4     12  2018    8              24338  "
      ]
     },
     "execution_count": 41,
     "metadata": {},
     "output_type": "execute_result"
    }
   ],
   "source": [
    "df.sample(10)"
   ]
  },
  {
   "cell_type": "markdown",
   "metadata": {},
   "source": [
    "## Carry out exploratory data analysis"
   ]
  },
  {
   "cell_type": "markdown",
   "metadata": {},
   "source": [
    "Study the following parameters: price, vehicle's age when the ad was placed, mileage, number of cylinders, and condition. Plot histograms for each of these parameters. Study how outliers affect the form and readability of the histograms.\n"
   ]
  },
  {
   "cell_type": "code",
   "execution_count": 42,
   "metadata": {
    "scrolled": true
   },
   "outputs": [
    {
     "data": {
      "image/png": "[encoded data removed]",
      "text/plain": [
       "<Figure size 432x288 with 1 Axes>"
      ]
     },
     "metadata": {
      "needs_background": "light"
     },
     "output_type": "display_data"
    }
   ],
   "source": [
    "df['price'].hist()\n",
    "plt.title('Price distribution')\n",
    "plt.show()"
   ]
  },
  {
   "cell_type": "markdown",
   "metadata": {},
   "source": [
    "We see outliers with price higher than 50 th"
   ]
  },
  {
   "cell_type": "code",
   "execution_count": 43,
   "metadata": {
    "scrolled": true
   },
   "outputs": [
    {
     "data": {
      "image/png": "[encoded data removed]",
      "text/plain": [
       "<Figure size 432x288 with 1 Axes>"
      ]
     },
     "metadata": {
      "needs_background": "light"
     },
     "output_type": "display_data"
    }
   ],
   "source": [
    "df['age'].hist()\n",
    "plt.title('Age distribution')\n",
    "plt.show()"
   ]
  },
  {
   "cell_type": "markdown",
   "metadata": {},
   "source": [
    "older than 20 yo"
   ]
  },
  {
   "cell_type": "code",
   "execution_count": 44,
   "metadata": {
    "scrolled": false
   },
   "outputs": [
    {
     "data": {
      "image/png": "[encoded data removed]",
      "text/plain": [
       "<Figure size 432x288 with 1 Axes>"
      ]
     },
     "metadata": {
      "needs_background": "light"
     },
     "output_type": "display_data"
    }
   ],
   "source": [
    "df['odometer'].hist()\n",
    "plt.title('Odometer distribution')\n",
    "plt.show()"
   ]
  },
  {
   "cell_type": "markdown",
   "metadata": {},
   "source": [
    "more than 300 th "
   ]
  },
  {
   "cell_type": "code",
   "execution_count": 45,
   "metadata": {
    "scrolled": true
   },
   "outputs": [
    {
     "data": {
      "image/png": "[encoded data removed]",
      "text/plain": [
       "<Figure size 432x288 with 1 Axes>"
      ]
     },
     "metadata": {
      "needs_background": "light"
     },
     "output_type": "display_data"
    }
   ],
   "source": [
    "df['cylinders'].hist()\n",
    "plt.title('Cylinders distribution')\n",
    "plt.show()"
   ]
  },
  {
   "cell_type": "markdown",
   "metadata": {},
   "source": [
    "4 6 and 8 - most popular"
   ]
  },
  {
   "cell_type": "code",
   "execution_count": 46,
   "metadata": {
    "scrolled": true
   },
   "outputs": [
    {
     "data": {
      "image/png": "[encoded data removed]",
      "text/plain": [
       "<Figure size 432x288 with 1 Axes>"
      ]
     },
     "metadata": {
      "needs_background": "light"
     },
     "output_type": "display_data"
    }
   ],
   "source": [
    "df['condition'].hist()\n",
    "plt.title('Condition distribution')\n",
    "plt.show()"
   ]
  },
  {
   "cell_type": "markdown",
   "metadata": {},
   "source": [
    "0 and 5 are rare"
   ]
  },
  {
   "cell_type": "markdown",
   "metadata": {},
   "source": [
    "### Determine the upper limits of outliers, remove the outliers and store them in a separate DataFrame, and continue your work with the filtered data"
   ]
  },
  {
   "cell_type": "markdown",
   "metadata": {},
   "source": [
    "#### Price"
   ]
  },
  {
   "cell_type": "code",
   "execution_count": 47,
   "metadata": {},
   "outputs": [
    {
     "data": {
      "text/plain": [
       "count     51525.000000\n",
       "mean      12132.464920\n",
       "std       10040.803015\n",
       "min           1.000000\n",
       "25%        5000.000000\n",
       "50%        9000.000000\n",
       "75%       16839.000000\n",
       "max      375000.000000\n",
       "Name: price, dtype: float64"
      ]
     },
     "execution_count": 47,
     "metadata": {},
     "output_type": "execute_result"
    }
   ],
   "source": [
    "df['price'].describe()"
   ]
  },
  {
   "cell_type": "markdown",
   "metadata": {},
   "source": [
    "Main price range is 2000 - 22000"
   ]
  },
  {
   "cell_type": "code",
   "execution_count": 48,
   "metadata": {
    "scrolled": true
   },
   "outputs": [
    {
     "data": {
      "text/plain": [
       "(0.0, 35000.0)"
      ]
     },
     "execution_count": 48,
     "metadata": {},
     "output_type": "execute_result"
    },
    {
     "data": {
      "image/png": "[encoded data removed]",
      "text/plain": [
       "<Figure size 432x288 with 1 Axes>"
      ]
     },
     "metadata": {
      "needs_background": "light"
     },
     "output_type": "display_data"
    }
   ],
   "source": [
    "df.boxplot(column='price')\n",
    "plt.title('Price distribution')\n",
    "plt.ylim(0,35000)"
   ]
  },
  {
   "cell_type": "markdown",
   "metadata": {},
   "source": [
    "Look on boxplot and filter by 'borders' - from 0 to 35000"
   ]
  },
  {
   "cell_type": "code",
   "execution_count": 49,
   "metadata": {},
   "outputs": [],
   "source": [
    "df_filtered = df.query('price <= 35000')"
   ]
  },
  {
   "cell_type": "markdown",
   "metadata": {},
   "source": [
    "#### Age"
   ]
  },
  {
   "cell_type": "code",
   "execution_count": 50,
   "metadata": {
    "scrolled": true
   },
   "outputs": [
    {
     "data": {
      "text/plain": [
       "count    51525.000000\n",
       "mean         9.513906\n",
       "std          6.112976\n",
       "min          1.000000\n",
       "25%          5.000000\n",
       "50%          9.000000\n",
       "75%         13.000000\n",
       "max        111.000000\n",
       "Name: age, dtype: float64"
      ]
     },
     "execution_count": 50,
     "metadata": {},
     "output_type": "execute_result"
    }
   ],
   "source": [
    "df['age'].describe()"
   ]
  },
  {
   "cell_type": "markdown",
   "metadata": {},
   "source": [
    "average age are between 2 and 15 years"
   ]
  },
  {
   "cell_type": "code",
   "execution_count": 51,
   "metadata": {},
   "outputs": [
    {
     "data": {
      "text/plain": [
       "(0.0, 24.0)"
      ]
     },
     "execution_count": 51,
     "metadata": {},
     "output_type": "execute_result"
    },
    {
     "data": {
      "image/png": "[encoded data removed]",
      "text/plain": [
       "<Figure size 432x288 with 1 Axes>"
      ]
     },
     "metadata": {
      "needs_background": "light"
     },
     "output_type": "display_data"
    }
   ],
   "source": [
    "df.boxplot(column='age')\n",
    "plt.title('Age distribution')\n",
    "plt.ylim(0,24)"
   ]
  },
  {
   "cell_type": "code",
   "execution_count": 52,
   "metadata": {},
   "outputs": [],
   "source": [
    "df_filtered = df.query('age <= 24')"
   ]
  },
  {
   "cell_type": "markdown",
   "metadata": {},
   "source": [
    "#### Odometer"
   ]
  },
  {
   "cell_type": "code",
   "execution_count": 53,
   "metadata": {},
   "outputs": [
    {
     "data": {
      "text/plain": [
       "count     51525.000000\n",
       "mean     115338.084639\n",
       "std       60614.502047\n",
       "min           0.000000\n",
       "25%       77100.000000\n",
       "50%      115376.000000\n",
       "75%      148177.000000\n",
       "max      990000.000000\n",
       "Name: odometer, dtype: float64"
      ]
     },
     "execution_count": 53,
     "metadata": {},
     "output_type": "execute_result"
    }
   ],
   "source": [
    "df['odometer'].describe()"
   ]
  },
  {
   "cell_type": "code",
   "execution_count": 54,
   "metadata": {
    "scrolled": true
   },
   "outputs": [
    {
     "data": {
      "text/plain": [
       "Text(0.5, 1.0, 'Odometer distribution')"
      ]
     },
     "execution_count": 54,
     "metadata": {},
     "output_type": "execute_result"
    },
    {
     "data": {
      "image/png": "[encoded data removed]",
      "text/plain": [
       "<Figure size 432x288 with 1 Axes>"
      ]
     },
     "metadata": {
      "needs_background": "light"
     },
     "output_type": "display_data"
    }
   ],
   "source": [
    "df.boxplot(column='odometer')\n",
    "plt.ylim(0, 255000)\n",
    "plt.title('Odometer distribution')"
   ]
  },
  {
   "cell_type": "markdown",
   "metadata": {},
   "source": [
    "Look on boxplot and filter by 'borders' - from 0 to 255000"
   ]
  },
  {
   "cell_type": "code",
   "execution_count": 55,
   "metadata": {},
   "outputs": [],
   "source": [
    "df_filtered = df.query('odometer <= 255000')"
   ]
  },
  {
   "cell_type": "markdown",
   "metadata": {},
   "source": [
    "#### Cylinders"
   ]
  },
  {
   "cell_type": "code",
   "execution_count": 56,
   "metadata": {},
   "outputs": [
    {
     "data": {
      "text/plain": [
       "count    51525.000000\n",
       "mean         6.112450\n",
       "std          1.573784\n",
       "min          3.000000\n",
       "25%          4.000000\n",
       "50%          6.000000\n",
       "75%          8.000000\n",
       "max         12.000000\n",
       "Name: cylinders, dtype: float64"
      ]
     },
     "execution_count": 56,
     "metadata": {},
     "output_type": "execute_result"
    }
   ],
   "source": [
    "df['cylinders'].describe()"
   ]
  },
  {
   "cell_type": "markdown",
   "metadata": {},
   "source": [
    "Most values are 4 - 8"
   ]
  },
  {
   "cell_type": "code",
   "execution_count": 57,
   "metadata": {},
   "outputs": [
    {
     "data": {
      "text/plain": [
       "Text(0.5, 1.0, 'Cylinders distribution')"
      ]
     },
     "execution_count": 57,
     "metadata": {},
     "output_type": "execute_result"
    },
    {
     "data": {
      "image/png": "[encoded data removed]",
      "text/plain": [
       "<Figure size 432x288 with 1 Axes>"
      ]
     },
     "metadata": {
      "needs_background": "light"
     },
     "output_type": "display_data"
    }
   ],
   "source": [
    "df.boxplot(column='cylinders')\n",
    "plt.ylim(3,12)\n",
    "plt.title('Cylinders distribution')"
   ]
  },
  {
   "cell_type": "code",
   "execution_count": 58,
   "metadata": {},
   "outputs": [],
   "source": [
    "df_filtered = df.query('3 <= cylinders <= 12')"
   ]
  },
  {
   "cell_type": "markdown",
   "metadata": {},
   "source": [
    "#### Condition"
   ]
  },
  {
   "cell_type": "code",
   "execution_count": 59,
   "metadata": {},
   "outputs": [
    {
     "data": {
      "text/plain": [
       "count    51525.000000\n",
       "mean         2.637535\n",
       "std          0.712447\n",
       "min          0.000000\n",
       "25%          2.000000\n",
       "50%          3.000000\n",
       "75%          3.000000\n",
       "max          5.000000\n",
       "Name: condition, dtype: float64"
      ]
     },
     "execution_count": 59,
     "metadata": {},
     "output_type": "execute_result"
    }
   ],
   "source": [
    "df['condition'].describe()"
   ]
  },
  {
   "cell_type": "code",
   "execution_count": 60,
   "metadata": {},
   "outputs": [
    {
     "data": {
      "text/plain": [
       "Text(0.5, 1.0, 'Condition distribution')"
      ]
     },
     "execution_count": 60,
     "metadata": {},
     "output_type": "execute_result"
    },
    {
     "data": {
      "image/png": "[encoded data removed]",
      "text/plain": [
       "<Figure size 432x288 with 1 Axes>"
      ]
     },
     "metadata": {
      "needs_background": "light"
     },
     "output_type": "display_data"
    }
   ],
   "source": [
    "df.boxplot(column='condition')\n",
    "plt.ylim(1, 4)\n",
    "plt.title('Condition distribution')"
   ]
  },
  {
   "cell_type": "code",
   "execution_count": 61,
   "metadata": {},
   "outputs": [],
   "source": [
    "df_filtered = df.query('1 <= condition <= 4')"
   ]
  },
  {
   "cell_type": "code",
   "execution_count": 62,
   "metadata": {},
   "outputs": [],
   "source": [
    "df_filtered = df.query('1 <= condition <= 4 and 3 <= cylinders <= 12 and odometer <= 255000 and age <= 24 and price <= 35000')"
   ]
  },
  {
   "cell_type": "code",
   "execution_count": 63,
   "metadata": {
    "scrolled": false
   },
   "outputs": [
    {
     "name": "stdout",
     "output_type": "stream",
     "text": [
      "<class 'pandas.core.frame.DataFrame'>\n",
      "Int64Index: 48151 entries, 0 to 51524\n",
      "Data columns (total 18 columns):\n",
      " #   Column             Non-Null Count  Dtype         \n",
      "---  ------             --------------  -----         \n",
      " 0   price              48151 non-null  int64         \n",
      " 1   model_year         48151 non-null  int64         \n",
      " 2   model              48151 non-null  object        \n",
      " 3   condition          48151 non-null  int64         \n",
      " 4   cylinders          48151 non-null  int64         \n",
      " 5   fuel               48151 non-null  object        \n",
      " 6   odometer           48151 non-null  int64         \n",
      " 7   transmission       48151 non-null  object        \n",
      " 8   type               48151 non-null  object        \n",
      " 9   paint_color        48151 non-null  object        \n",
      " 10  is_4wd             48151 non-null  bool          \n",
      " 11  date_posted        48151 non-null  datetime64[ns]\n",
      " 12  days_listed        48151 non-null  int64         \n",
      " 13  weekday            48151 non-null  int64         \n",
      " 14  month              48151 non-null  int64         \n",
      " 15  year               48151 non-null  int64         \n",
      " 16  age                48151 non-null  int64         \n",
      " 17  odometer_per_year  48151 non-null  int64         \n",
      "dtypes: bool(1), datetime64[ns](1), int64(11), object(5)\n",
      "memory usage: 6.7+ MB\n"
     ]
    }
   ],
   "source": [
    "df_filtered.info()"
   ]
  },
  {
   "cell_type": "markdown",
   "metadata": {},
   "source": [
    "### Use the filtered data to plot new histograms. Compare them with the earlier histograms (the ones that included outliers). Draw conclusions for each histogram"
   ]
  },
  {
   "cell_type": "markdown",
   "metadata": {},
   "source": [
    "After remowing outliers and plotting new histograms with df_filterd, we can see different groups of data"
   ]
  },
  {
   "cell_type": "code",
   "execution_count": 64,
   "metadata": {
    "scrolled": false
   },
   "outputs": [
    {
     "data": {
      "image/png": "[encoded data removed]",
      "text/plain": [
       "<Figure size 432x288 with 1 Axes>"
      ]
     },
     "metadata": {
      "needs_background": "light"
     },
     "output_type": "display_data"
    }
   ],
   "source": [
    "df_filtered['price'].hist()\n",
    "plt.title('Price distribution')\n",
    "plt.show()"
   ]
  },
  {
   "cell_type": "markdown",
   "metadata": {},
   "source": [
    "Biggest group has price around 5000. From 10000 amount of cars are stedily decreasing."
   ]
  },
  {
   "cell_type": "code",
   "execution_count": 65,
   "metadata": {},
   "outputs": [
    {
     "data": {
      "text/plain": [
       "count    48151.000000\n",
       "mean     11378.167494\n",
       "std       7971.903148\n",
       "min          1.000000\n",
       "25%       5000.000000\n",
       "50%       8995.000000\n",
       "75%      15995.000000\n",
       "max      35000.000000\n",
       "Name: price, dtype: float64"
      ]
     },
     "execution_count": 65,
     "metadata": {},
     "output_type": "execute_result"
    }
   ],
   "source": [
    "df_filtered['price'].describe()\n"
   ]
  },
  {
   "cell_type": "code",
   "execution_count": 66,
   "metadata": {
    "scrolled": true
   },
   "outputs": [
    {
     "data": {
      "image/png": "[encoded data removed]",
      "text/plain": [
       "<Figure size 432x288 with 1 Axes>"
      ]
     },
     "metadata": {
      "needs_background": "light"
     },
     "output_type": "display_data"
    }
   ],
   "source": [
    "df_filtered['age'].hist()\n",
    "plt.title('Age distribution')\n",
    "plt.show()"
   ]
  },
  {
   "cell_type": "markdown",
   "metadata": {},
   "source": [
    "The most popular age for selling a car is 5 years. Next, each is twice smaller, goes age from 0 to 15. Less then a 1000 are in groups of 18-24 years"
   ]
  },
  {
   "cell_type": "code",
   "execution_count": 67,
   "metadata": {
    "scrolled": false
   },
   "outputs": [
    {
     "data": {
      "image/png": "[encoded data removed]",
      "text/plain": [
       "<Figure size 432x288 with 1 Axes>"
      ]
     },
     "metadata": {
      "needs_background": "light"
     },
     "output_type": "display_data"
    }
   ],
   "source": [
    "df_filtered['odometer'].hist()\n",
    "plt.title('Odometer distribution')\n",
    "plt.show()"
   ]
  },
  {
   "cell_type": "markdown",
   "metadata": {},
   "source": [
    "14000 cars are sold with mileage 100-120 th. km. Half of cars with 80 - 150 th. km on odometer."
   ]
  },
  {
   "cell_type": "code",
   "execution_count": 68,
   "metadata": {
    "scrolled": true
   },
   "outputs": [
    {
     "data": {
      "image/png": "[encoded data removed]",
      "text/plain": [
       "<Figure size 432x288 with 1 Axes>"
      ]
     },
     "metadata": {
      "needs_background": "light"
     },
     "output_type": "display_data"
    }
   ],
   "source": [
    "df_filtered['cylinders'].hist()\n",
    "plt.title('Cylinders distribution')\n",
    "plt.show()"
   ]
  },
  {
   "cell_type": "code",
   "execution_count": 69,
   "metadata": {},
   "outputs": [
    {
     "data": {
      "image/png": "[encoded data removed]",
      "text/plain": [
       "<Figure size 432x288 with 1 Axes>"
      ]
     },
     "metadata": {
      "needs_background": "light"
     },
     "output_type": "display_data"
    }
   ],
   "source": [
    "df_filtered['condition'].hist()\n",
    "plt.title('Condition distribution')\n",
    "plt.show()"
   ]
  },
  {
   "cell_type": "markdown",
   "metadata": {},
   "source": [
    "Two most popular conditions to sell cars is 3 and 2 = excellent and good."
   ]
  },
  {
   "cell_type": "markdown",
   "metadata": {},
   "source": [
    "### Study how many days advertisements were displayed (days_listed). Plot a histogram. Calculate the mean and median. Describe the typical lifetime of an ad. Determine when ads were removed quickly, and when they were listed for an abnormally long time"
   ]
  },
  {
   "cell_type": "code",
   "execution_count": 70,
   "metadata": {
    "scrolled": true
   },
   "outputs": [
    {
     "data": {
      "image/png": "[encoded data removed]",
      "text/plain": [
       "<Figure size 432x288 with 1 Axes>"
      ]
     },
     "metadata": {
      "needs_background": "light"
     },
     "output_type": "display_data"
    }
   ],
   "source": [
    "df_filtered['days_listed'].hist()\n",
    "plt.title('Days listed')\n",
    "plt.show()"
   ]
  },
  {
   "cell_type": "code",
   "execution_count": 71,
   "metadata": {},
   "outputs": [
    {
     "data": {
      "text/plain": [
       "count    48151.000000\n",
       "mean        39.536749\n",
       "std         28.202404\n",
       "min          0.000000\n",
       "25%         19.000000\n",
       "50%         33.000000\n",
       "75%         53.000000\n",
       "max        271.000000\n",
       "Name: days_listed, dtype: float64"
      ]
     },
     "execution_count": 71,
     "metadata": {},
     "output_type": "execute_result"
    }
   ],
   "source": [
    "df_filtered['days_listed'].describe()"
   ]
  },
  {
   "cell_type": "code",
   "execution_count": 72,
   "metadata": {},
   "outputs": [
    {
     "data": {
      "text/plain": [
       "33.0"
      ]
     },
     "execution_count": 72,
     "metadata": {},
     "output_type": "execute_result"
    }
   ],
   "source": [
    "df_filtered['days_listed'].median()"
   ]
  },
  {
   "cell_type": "code",
   "execution_count": 73,
   "metadata": {},
   "outputs": [
    {
     "data": {
      "text/plain": [
       "51519    89\n",
       "51520    37\n",
       "51522    32\n",
       "51523    71\n",
       "51524    10\n",
       "Name: days_listed, dtype: int64"
      ]
     },
     "execution_count": 73,
     "metadata": {},
     "output_type": "execute_result"
    }
   ],
   "source": [
    "df_filtered['days_listed'].tail()"
   ]
  },
  {
   "cell_type": "code",
   "execution_count": 74,
   "metadata": {},
   "outputs": [],
   "source": [
    "df_filtered_2 = df.query('days_listed <= 9')"
   ]
  },
  {
   "cell_type": "code",
   "execution_count": 75,
   "metadata": {
    "scrolled": true
   },
   "outputs": [
    {
     "data": {
      "image/png": "[encoded data removed]",
      "text/plain": [
       "<Figure size 432x288 with 1 Axes>"
      ]
     },
     "metadata": {
      "needs_background": "light"
     },
     "output_type": "display_data"
    }
   ],
   "source": [
    "df_filtered_2['days_listed'].hist()\n",
    "plt.show()"
   ]
  },
  {
   "cell_type": "markdown",
   "metadata": {},
   "source": [
    "Mostly advertisements were displayed (days_listed) from 10 days to 2.5 months. Mean is 39,5 days, median - 33. Standart deviation - 28. Only small number od ads were displayed less than a week, or more than 3 months. At the same time there are advertisements, which were placed about the same car, few times(same description + same odometer not equal rounded number). This means that in fact more cars were on sale for a longer period of time.\n",
    "\n"
   ]
  },
  {
   "cell_type": "markdown",
   "metadata": {},
   "source": [
    "#### Determine when ads were removed quickly, and when they were listed for an abnormally long time\n",
    "days_listed\tweekday\tmonth\tyear\tage\n",
    "All advertisements were placed in the years 2018-2019. No correlation with days of the week. At the same time, there is difference between months.  \n",
    "During the year number stays stable. There is gap in april, almost twicw lower than average."
   ]
  },
  {
   "cell_type": "code",
   "execution_count": 76,
   "metadata": {
    "scrolled": true
   },
   "outputs": [
    {
     "data": {
      "image/png": "[encoded data removed]",
      "text/plain": [
       "<Figure size 432x288 with 1 Axes>"
      ]
     },
     "metadata": {
      "needs_background": "light"
     },
     "output_type": "display_data"
    }
   ],
   "source": [
    "df_filtered['month'].hist()\n",
    "plt.show()"
   ]
  },
  {
   "cell_type": "code",
   "execution_count": 77,
   "metadata": {},
   "outputs": [],
   "source": [
    "df_month = df_filtered.pivot_table(index='month', values='price', aggfunc='count')"
   ]
  },
  {
   "cell_type": "code",
   "execution_count": 78,
   "metadata": {
    "scrolled": true
   },
   "outputs": [
    {
     "data": {
      "text/html": [
       "<div>\n",
       "<style scoped>\n",
       "    .dataframe tbody tr th:only-of-type {\n",
       "        vertical-align: middle;\n",
       "    }\n",
       "\n",
       "    .dataframe tbody tr th {\n",
       "        vertical-align: top;\n",
       "    }\n",
       "\n",
       "    .dataframe thead th {\n",
       "        text-align: right;\n",
       "    }\n",
       "</style>\n",
       "<table border=\"1\" class=\"dataframe\">\n",
       "  <thead>\n",
       "    <tr style=\"text-align: right;\">\n",
       "      <th></th>\n",
       "      <th>price</th>\n",
       "    </tr>\n",
       "    <tr>\n",
       "      <th>month</th>\n",
       "      <th></th>\n",
       "    </tr>\n",
       "  </thead>\n",
       "  <tbody>\n",
       "    <tr>\n",
       "      <th>1</th>\n",
       "      <td>4147</td>\n",
       "    </tr>\n",
       "    <tr>\n",
       "      <th>2</th>\n",
       "      <td>3736</td>\n",
       "    </tr>\n",
       "    <tr>\n",
       "      <th>3</th>\n",
       "      <td>4251</td>\n",
       "    </tr>\n",
       "    <tr>\n",
       "      <th>4</th>\n",
       "      <td>2631</td>\n",
       "    </tr>\n",
       "    <tr>\n",
       "      <th>5</th>\n",
       "      <td>4232</td>\n",
       "    </tr>\n",
       "    <tr>\n",
       "      <th>6</th>\n",
       "      <td>3921</td>\n",
       "    </tr>\n",
       "    <tr>\n",
       "      <th>7</th>\n",
       "      <td>4193</td>\n",
       "    </tr>\n",
       "    <tr>\n",
       "      <th>8</th>\n",
       "      <td>4181</td>\n",
       "    </tr>\n",
       "    <tr>\n",
       "      <th>9</th>\n",
       "      <td>4173</td>\n",
       "    </tr>\n",
       "    <tr>\n",
       "      <th>10</th>\n",
       "      <td>4320</td>\n",
       "    </tr>\n",
       "    <tr>\n",
       "      <th>11</th>\n",
       "      <td>4098</td>\n",
       "    </tr>\n",
       "    <tr>\n",
       "      <th>12</th>\n",
       "      <td>4268</td>\n",
       "    </tr>\n",
       "  </tbody>\n",
       "</table>\n",
       "</div>"
      ],
      "text/plain": [
       "       price\n",
       "month       \n",
       "1       4147\n",
       "2       3736\n",
       "3       4251\n",
       "4       2631\n",
       "5       4232\n",
       "6       3921\n",
       "7       4193\n",
       "8       4181\n",
       "9       4173\n",
       "10      4320\n",
       "11      4098\n",
       "12      4268"
      ]
     },
     "execution_count": 78,
     "metadata": {},
     "output_type": "execute_result"
    }
   ],
   "source": [
    "df_month"
   ]
  },
  {
   "cell_type": "code",
   "execution_count": 79,
   "metadata": {},
   "outputs": [
    {
     "data": {
      "text/html": [
       "<div>\n",
       "<style scoped>\n",
       "    .dataframe tbody tr th:only-of-type {\n",
       "        vertical-align: middle;\n",
       "    }\n",
       "\n",
       "    .dataframe tbody tr th {\n",
       "        vertical-align: top;\n",
       "    }\n",
       "\n",
       "    .dataframe thead th {\n",
       "        text-align: right;\n",
       "    }\n",
       "</style>\n",
       "<table border=\"1\" class=\"dataframe\">\n",
       "  <thead>\n",
       "    <tr style=\"text-align: right;\">\n",
       "      <th></th>\n",
       "      <th>price</th>\n",
       "      <th>model_year</th>\n",
       "      <th>model</th>\n",
       "      <th>condition</th>\n",
       "      <th>cylinders</th>\n",
       "      <th>fuel</th>\n",
       "      <th>odometer</th>\n",
       "      <th>transmission</th>\n",
       "      <th>type</th>\n",
       "      <th>paint_color</th>\n",
       "      <th>is_4wd</th>\n",
       "      <th>date_posted</th>\n",
       "      <th>days_listed</th>\n",
       "      <th>weekday</th>\n",
       "      <th>month</th>\n",
       "      <th>year</th>\n",
       "      <th>age</th>\n",
       "      <th>odometer_per_year</th>\n",
       "    </tr>\n",
       "  </thead>\n",
       "  <tbody>\n",
       "    <tr>\n",
       "      <th>0</th>\n",
       "      <td>9400</td>\n",
       "      <td>2011</td>\n",
       "      <td>bmw x5</td>\n",
       "      <td>2</td>\n",
       "      <td>6</td>\n",
       "      <td>gas</td>\n",
       "      <td>145000</td>\n",
       "      <td>automatic</td>\n",
       "      <td>SUV</td>\n",
       "      <td>noinfo</td>\n",
       "      <td>True</td>\n",
       "      <td>2018-06-23</td>\n",
       "      <td>19</td>\n",
       "      <td>5</td>\n",
       "      <td>6</td>\n",
       "      <td>2018</td>\n",
       "      <td>8</td>\n",
       "      <td>18125</td>\n",
       "    </tr>\n",
       "    <tr>\n",
       "      <th>1</th>\n",
       "      <td>25500</td>\n",
       "      <td>2011</td>\n",
       "      <td>ford f-150</td>\n",
       "      <td>2</td>\n",
       "      <td>6</td>\n",
       "      <td>gas</td>\n",
       "      <td>88705</td>\n",
       "      <td>automatic</td>\n",
       "      <td>pickup</td>\n",
       "      <td>white</td>\n",
       "      <td>True</td>\n",
       "      <td>2018-10-19</td>\n",
       "      <td>50</td>\n",
       "      <td>4</td>\n",
       "      <td>10</td>\n",
       "      <td>2018</td>\n",
       "      <td>8</td>\n",
       "      <td>11088</td>\n",
       "    </tr>\n",
       "    <tr>\n",
       "      <th>2</th>\n",
       "      <td>5500</td>\n",
       "      <td>2013</td>\n",
       "      <td>hyundai sonata</td>\n",
       "      <td>4</td>\n",
       "      <td>4</td>\n",
       "      <td>gas</td>\n",
       "      <td>110000</td>\n",
       "      <td>automatic</td>\n",
       "      <td>sedan</td>\n",
       "      <td>red</td>\n",
       "      <td>False</td>\n",
       "      <td>2019-02-07</td>\n",
       "      <td>79</td>\n",
       "      <td>3</td>\n",
       "      <td>2</td>\n",
       "      <td>2019</td>\n",
       "      <td>7</td>\n",
       "      <td>15714</td>\n",
       "    </tr>\n",
       "    <tr>\n",
       "      <th>3</th>\n",
       "      <td>1500</td>\n",
       "      <td>2003</td>\n",
       "      <td>ford f-150</td>\n",
       "      <td>1</td>\n",
       "      <td>8</td>\n",
       "      <td>gas</td>\n",
       "      <td>121928</td>\n",
       "      <td>automatic</td>\n",
       "      <td>pickup</td>\n",
       "      <td>noinfo</td>\n",
       "      <td>False</td>\n",
       "      <td>2019-03-22</td>\n",
       "      <td>9</td>\n",
       "      <td>4</td>\n",
       "      <td>3</td>\n",
       "      <td>2019</td>\n",
       "      <td>17</td>\n",
       "      <td>7172</td>\n",
       "    </tr>\n",
       "    <tr>\n",
       "      <th>4</th>\n",
       "      <td>14900</td>\n",
       "      <td>2017</td>\n",
       "      <td>chrysler 200</td>\n",
       "      <td>3</td>\n",
       "      <td>4</td>\n",
       "      <td>gas</td>\n",
       "      <td>80903</td>\n",
       "      <td>automatic</td>\n",
       "      <td>sedan</td>\n",
       "      <td>black</td>\n",
       "      <td>False</td>\n",
       "      <td>2019-04-02</td>\n",
       "      <td>28</td>\n",
       "      <td>1</td>\n",
       "      <td>4</td>\n",
       "      <td>2019</td>\n",
       "      <td>3</td>\n",
       "      <td>26967</td>\n",
       "    </tr>\n",
       "  </tbody>\n",
       "</table>\n",
       "</div>"
      ],
      "text/plain": [
       "   price  model_year           model  condition  cylinders fuel  odometer  \\\n",
       "0   9400        2011          bmw x5          2          6  gas    145000   \n",
       "1  25500        2011      ford f-150          2          6  gas     88705   \n",
       "2   5500        2013  hyundai sonata          4          4  gas    110000   \n",
       "3   1500        2003      ford f-150          1          8  gas    121928   \n",
       "4  14900        2017    chrysler 200          3          4  gas     80903   \n",
       "\n",
       "  transmission    type paint_color  is_4wd date_posted  days_listed  weekday  \\\n",
       "0    automatic     SUV      noinfo    True  2018-06-23           19        5   \n",
       "1    automatic  pickup       white    True  2018-10-19           50        4   \n",
       "2    automatic   sedan         red   False  2019-02-07           79        3   \n",
       "3    automatic  pickup      noinfo   False  2019-03-22            9        4   \n",
       "4    automatic   sedan       black   False  2019-04-02           28        1   \n",
       "\n",
       "   month  year  age  odometer_per_year  \n",
       "0      6  2018    8              18125  \n",
       "1     10  2018    8              11088  \n",
       "2      2  2019    7              15714  \n",
       "3      3  2019   17               7172  \n",
       "4      4  2019    3              26967  "
      ]
     },
     "execution_count": 79,
     "metadata": {},
     "output_type": "execute_result"
    }
   ],
   "source": [
    "df_filtered.head()"
   ]
  },
  {
   "cell_type": "code",
   "execution_count": 80,
   "metadata": {
    "scrolled": true
   },
   "outputs": [
    {
     "data": {
      "text/html": [
       "<div>\n",
       "<style scoped>\n",
       "    .dataframe tbody tr th:only-of-type {\n",
       "        vertical-align: middle;\n",
       "    }\n",
       "\n",
       "    .dataframe tbody tr th {\n",
       "        vertical-align: top;\n",
       "    }\n",
       "\n",
       "    .dataframe thead tr th {\n",
       "        text-align: left;\n",
       "    }\n",
       "\n",
       "    .dataframe thead tr:last-of-type th {\n",
       "        text-align: right;\n",
       "    }\n",
       "</style>\n",
       "<table border=\"1\" class=\"dataframe\">\n",
       "  <thead>\n",
       "    <tr>\n",
       "      <th></th>\n",
       "      <th>count</th>\n",
       "      <th>mean</th>\n",
       "    </tr>\n",
       "    <tr>\n",
       "      <th></th>\n",
       "      <th>days_listed</th>\n",
       "      <th>days_listed</th>\n",
       "    </tr>\n",
       "    <tr>\n",
       "      <th>year</th>\n",
       "      <th></th>\n",
       "      <th></th>\n",
       "    </tr>\n",
       "  </thead>\n",
       "  <tbody>\n",
       "    <tr>\n",
       "      <th>2018</th>\n",
       "      <td>33386</td>\n",
       "      <td>39.325136</td>\n",
       "    </tr>\n",
       "    <tr>\n",
       "      <th>2019</th>\n",
       "      <td>14765</td>\n",
       "      <td>40.015239</td>\n",
       "    </tr>\n",
       "  </tbody>\n",
       "</table>\n",
       "</div>"
      ],
      "text/plain": [
       "           count        mean\n",
       "     days_listed days_listed\n",
       "year                        \n",
       "2018       33386   39.325136\n",
       "2019       14765   40.015239"
      ]
     },
     "execution_count": 80,
     "metadata": {},
     "output_type": "execute_result"
    }
   ],
   "source": [
    "df_filtered.pivot_table(index='year', values='days_listed', aggfunc=['count', 'mean'])"
   ]
  },
  {
   "cell_type": "code",
   "execution_count": 81,
   "metadata": {
    "scrolled": true
   },
   "outputs": [
    {
     "data": {
      "text/plain": [
       "count    48151.000000\n",
       "mean        39.536749\n",
       "std         28.202404\n",
       "min          0.000000\n",
       "25%         19.000000\n",
       "50%         33.000000\n",
       "75%         53.000000\n",
       "max        271.000000\n",
       "Name: days_listed, dtype: float64"
      ]
     },
     "execution_count": 81,
     "metadata": {},
     "output_type": "execute_result"
    }
   ],
   "source": [
    "df_filtered['days_listed'].describe()"
   ]
  },
  {
   "cell_type": "code",
   "execution_count": 82,
   "metadata": {},
   "outputs": [
    {
     "data": {
      "image/png": "[encoded data removed]",
      "text/plain": [
       "<Figure size 432x288 with 1 Axes>"
      ]
     },
     "metadata": {
      "needs_background": "light"
     },
     "output_type": "display_data"
    }
   ],
   "source": [
    "df_filtered['days_listed'].hist()\n",
    "plt.show()"
   ]
  },
  {
   "cell_type": "markdown",
   "metadata": {},
   "source": [
    "Mean for days listed is 39 days, doesn't matter in which day of the week, month or year it was posted."
   ]
  },
  {
   "cell_type": "code",
   "execution_count": 83,
   "metadata": {},
   "outputs": [],
   "source": [
    "df_filtered_short = df.query('days_listed <= 2')"
   ]
  },
  {
   "cell_type": "code",
   "execution_count": 84,
   "metadata": {
    "scrolled": false
   },
   "outputs": [
    {
     "data": {
      "image/png": "[encoded data removed]",
      "text/plain": [
       "<Figure size 432x288 with 1 Axes>"
      ]
     },
     "metadata": {
      "needs_background": "light"
     },
     "output_type": "display_data"
    }
   ],
   "source": [
    "df_filtered_short['days_listed'].hist()\n",
    "plt.show()"
   ]
  },
  {
   "cell_type": "code",
   "execution_count": 85,
   "metadata": {
    "scrolled": false
   },
   "outputs": [
    {
     "data": {
      "text/html": [
       "<div>\n",
       "<style scoped>\n",
       "    .dataframe tbody tr th:only-of-type {\n",
       "        vertical-align: middle;\n",
       "    }\n",
       "\n",
       "    .dataframe tbody tr th {\n",
       "        vertical-align: top;\n",
       "    }\n",
       "\n",
       "    .dataframe thead th {\n",
       "        text-align: right;\n",
       "    }\n",
       "</style>\n",
       "<table border=\"1\" class=\"dataframe\">\n",
       "  <thead>\n",
       "    <tr style=\"text-align: right;\">\n",
       "      <th></th>\n",
       "      <th>price</th>\n",
       "    </tr>\n",
       "    <tr>\n",
       "      <th>year</th>\n",
       "      <th></th>\n",
       "    </tr>\n",
       "  </thead>\n",
       "  <tbody>\n",
       "    <tr>\n",
       "      <th>2018</th>\n",
       "      <td>338</td>\n",
       "    </tr>\n",
       "    <tr>\n",
       "      <th>2019</th>\n",
       "      <td>148</td>\n",
       "    </tr>\n",
       "  </tbody>\n",
       "</table>\n",
       "</div>"
      ],
      "text/plain": [
       "      price\n",
       "year       \n",
       "2018    338\n",
       "2019    148"
      ]
     },
     "execution_count": 85,
     "metadata": {},
     "output_type": "execute_result"
    }
   ],
   "source": [
    "df_filtered_short.pivot_table(index='year', values='price', aggfunc='count')"
   ]
  },
  {
   "cell_type": "code",
   "execution_count": 86,
   "metadata": {},
   "outputs": [],
   "source": [
    "df_filtered_long = df.query('days_listed >= 120')"
   ]
  },
  {
   "cell_type": "code",
   "execution_count": 87,
   "metadata": {},
   "outputs": [
    {
     "data": {
      "image/png": "[encoded data removed]",
      "text/plain": [
       "<Figure size 432x288 with 1 Axes>"
      ]
     },
     "metadata": {
      "needs_background": "light"
     },
     "output_type": "display_data"
    }
   ],
   "source": [
    "df_filtered_long['days_listed'].hist()\n",
    "plt.show()"
   ]
  },
  {
   "cell_type": "code",
   "execution_count": 88,
   "metadata": {
    "scrolled": true
   },
   "outputs": [
    {
     "data": {
      "text/html": [
       "<div>\n",
       "<style scoped>\n",
       "    .dataframe tbody tr th:only-of-type {\n",
       "        vertical-align: middle;\n",
       "    }\n",
       "\n",
       "    .dataframe tbody tr th {\n",
       "        vertical-align: top;\n",
       "    }\n",
       "\n",
       "    .dataframe thead th {\n",
       "        text-align: right;\n",
       "    }\n",
       "</style>\n",
       "<table border=\"1\" class=\"dataframe\">\n",
       "  <thead>\n",
       "    <tr style=\"text-align: right;\">\n",
       "      <th></th>\n",
       "      <th>price</th>\n",
       "    </tr>\n",
       "    <tr>\n",
       "      <th>month</th>\n",
       "      <th></th>\n",
       "    </tr>\n",
       "  </thead>\n",
       "  <tbody>\n",
       "    <tr>\n",
       "      <th>1</th>\n",
       "      <td>74</td>\n",
       "    </tr>\n",
       "    <tr>\n",
       "      <th>2</th>\n",
       "      <td>89</td>\n",
       "    </tr>\n",
       "    <tr>\n",
       "      <th>3</th>\n",
       "      <td>76</td>\n",
       "    </tr>\n",
       "    <tr>\n",
       "      <th>4</th>\n",
       "      <td>45</td>\n",
       "    </tr>\n",
       "    <tr>\n",
       "      <th>5</th>\n",
       "      <td>80</td>\n",
       "    </tr>\n",
       "    <tr>\n",
       "      <th>6</th>\n",
       "      <td>73</td>\n",
       "    </tr>\n",
       "    <tr>\n",
       "      <th>7</th>\n",
       "      <td>73</td>\n",
       "    </tr>\n",
       "    <tr>\n",
       "      <th>8</th>\n",
       "      <td>62</td>\n",
       "    </tr>\n",
       "    <tr>\n",
       "      <th>9</th>\n",
       "      <td>80</td>\n",
       "    </tr>\n",
       "    <tr>\n",
       "      <th>10</th>\n",
       "      <td>66</td>\n",
       "    </tr>\n",
       "    <tr>\n",
       "      <th>11</th>\n",
       "      <td>82</td>\n",
       "    </tr>\n",
       "    <tr>\n",
       "      <th>12</th>\n",
       "      <td>67</td>\n",
       "    </tr>\n",
       "  </tbody>\n",
       "</table>\n",
       "</div>"
      ],
      "text/plain": [
       "       price\n",
       "month       \n",
       "1         74\n",
       "2         89\n",
       "3         76\n",
       "4         45\n",
       "5         80\n",
       "6         73\n",
       "7         73\n",
       "8         62\n",
       "9         80\n",
       "10        66\n",
       "11        82\n",
       "12        67"
      ]
     },
     "execution_count": 88,
     "metadata": {},
     "output_type": "execute_result"
    }
   ],
   "source": [
    "df_filtered_long.pivot_table(index='month', values='price', aggfunc='count')"
   ]
  },
  {
   "cell_type": "markdown",
   "metadata": {},
   "source": [
    "In 2018 were posted twice more ads than in 2019. Mean for days listed is 39 days, doesn't matter in which day of the week, month or year it was posted. Most advertisements were displayed (days_listed) from 10 days to 2.5 months. With less than 3 and more than 120 days numbers strongly decrease, so removed as outliers."
   ]
  },
  {
   "cell_type": "markdown",
   "metadata": {},
   "source": [
    "### Analyze the number of ads and the average price for each type of vehicle. Plot a graph showing the dependence of the number of ads on the vehicle type. Select the two types with the greatest number of ads."
   ]
  },
  {
   "cell_type": "code",
   "execution_count": 89,
   "metadata": {},
   "outputs": [],
   "source": [
    "df_type = df_filtered.pivot_table(index='type', values='price', aggfunc=['count', 'mean'])"
   ]
  },
  {
   "cell_type": "code",
   "execution_count": 90,
   "metadata": {
    "scrolled": true
   },
   "outputs": [
    {
     "data": {
      "text/html": [
       "<div>\n",
       "<style scoped>\n",
       "    .dataframe tbody tr th:only-of-type {\n",
       "        vertical-align: middle;\n",
       "    }\n",
       "\n",
       "    .dataframe tbody tr th {\n",
       "        vertical-align: top;\n",
       "    }\n",
       "\n",
       "    .dataframe thead tr th {\n",
       "        text-align: left;\n",
       "    }\n",
       "\n",
       "    .dataframe thead tr:last-of-type th {\n",
       "        text-align: right;\n",
       "    }\n",
       "</style>\n",
       "<table border=\"1\" class=\"dataframe\">\n",
       "  <thead>\n",
       "    <tr>\n",
       "      <th></th>\n",
       "      <th>count</th>\n",
       "      <th>mean</th>\n",
       "    </tr>\n",
       "    <tr>\n",
       "      <th></th>\n",
       "      <th>price</th>\n",
       "      <th>price</th>\n",
       "    </tr>\n",
       "    <tr>\n",
       "      <th>type</th>\n",
       "      <th></th>\n",
       "      <th></th>\n",
       "    </tr>\n",
       "  </thead>\n",
       "  <tbody>\n",
       "    <tr>\n",
       "      <th>SUV</th>\n",
       "      <td>11860</td>\n",
       "      <td>10550.141737</td>\n",
       "    </tr>\n",
       "    <tr>\n",
       "      <th>bus</th>\n",
       "      <td>21</td>\n",
       "      <td>18107.428571</td>\n",
       "    </tr>\n",
       "    <tr>\n",
       "      <th>convertible</th>\n",
       "      <td>338</td>\n",
       "      <td>13084.289941</td>\n",
       "    </tr>\n",
       "    <tr>\n",
       "      <th>coupe</th>\n",
       "      <td>2007</td>\n",
       "      <td>13649.123069</td>\n",
       "    </tr>\n",
       "    <tr>\n",
       "      <th>hatchback</th>\n",
       "      <td>996</td>\n",
       "      <td>6851.245984</td>\n",
       "    </tr>\n",
       "    <tr>\n",
       "      <th>mini-van</th>\n",
       "      <td>1138</td>\n",
       "      <td>8057.882250</td>\n",
       "    </tr>\n",
       "    <tr>\n",
       "      <th>offroad</th>\n",
       "      <td>184</td>\n",
       "      <td>14568.298913</td>\n",
       "    </tr>\n",
       "    <tr>\n",
       "      <th>other</th>\n",
       "      <td>233</td>\n",
       "      <td>10542.137339</td>\n",
       "    </tr>\n",
       "    <tr>\n",
       "      <th>pickup</th>\n",
       "      <td>6260</td>\n",
       "      <td>15291.137380</td>\n",
       "    </tr>\n",
       "    <tr>\n",
       "      <th>sedan</th>\n",
       "      <td>11908</td>\n",
       "      <td>6983.578435</td>\n",
       "    </tr>\n",
       "    <tr>\n",
       "      <th>truck</th>\n",
       "      <td>11097</td>\n",
       "      <td>15362.792466</td>\n",
       "    </tr>\n",
       "    <tr>\n",
       "      <th>van</th>\n",
       "      <td>618</td>\n",
       "      <td>10613.624595</td>\n",
       "    </tr>\n",
       "    <tr>\n",
       "      <th>wagon</th>\n",
       "      <td>1491</td>\n",
       "      <td>9051.126761</td>\n",
       "    </tr>\n",
       "  </tbody>\n",
       "</table>\n",
       "</div>"
      ],
      "text/plain": [
       "             count          mean\n",
       "             price         price\n",
       "type                            \n",
       "SUV          11860  10550.141737\n",
       "bus             21  18107.428571\n",
       "convertible    338  13084.289941\n",
       "coupe         2007  13649.123069\n",
       "hatchback      996   6851.245984\n",
       "mini-van      1138   8057.882250\n",
       "offroad        184  14568.298913\n",
       "other          233  10542.137339\n",
       "pickup        6260  15291.137380\n",
       "sedan        11908   6983.578435\n",
       "truck        11097  15362.792466\n",
       "van            618  10613.624595\n",
       "wagon         1491   9051.126761"
      ]
     },
     "execution_count": 90,
     "metadata": {},
     "output_type": "execute_result"
    }
   ],
   "source": [
    "df_type"
   ]
  },
  {
   "cell_type": "code",
   "execution_count": 91,
   "metadata": {},
   "outputs": [],
   "source": [
    "df_type.columns = ['count', 'mean_price']"
   ]
  },
  {
   "cell_type": "code",
   "execution_count": 92,
   "metadata": {
    "scrolled": true
   },
   "outputs": [
    {
     "data": {
      "text/plain": [
       "<AxesSubplot:xlabel='type'>"
      ]
     },
     "execution_count": 92,
     "metadata": {},
     "output_type": "execute_result"
    },
    {
     "data": {
      "image/png": "[encoded data removed]",
      "text/plain": [
       "<Figure size 432x288 with 1 Axes>"
      ]
     },
     "metadata": {
      "needs_background": "light"
     },
     "output_type": "display_data"
    }
   ],
   "source": [
    "df_type.sort_values(by='count', ascending=False).plot(y='count', kind='bar')"
   ]
  },
  {
   "cell_type": "code",
   "execution_count": 111,
   "metadata": {
    "scrolled": false
   },
   "outputs": [
    {
     "data": {
      "image/png": "[encoded data removed]",
      "text/plain": [
       "<Figure size 864x288 with 1 Axes>"
      ]
     },
     "metadata": {
      "needs_background": "light"
     },
     "output_type": "display_data"
    }
   ],
   "source": [
    "df_type = df_filtered.pivot_table(index='type', values='price', aggfunc=['count', 'mean', 'median'])\n",
    "df_type.plot(grid=True, figsize=(12,4))\n",
    "plt.legend(title='Number of ads by type')\n",
    "plt.show()"
   ]
  },
  {
   "cell_type": "markdown",
   "metadata": {
    "scrolled": false
   },
   "source": [
    "The two types with the greatest number of ads are SUV and sedan with almost 12th each (11860 and 11908 accordingly). At the same time mean price for SUV is much higher - 10550, while for sedan is 6983.\n"
   ]
  },
  {
   "cell_type": "markdown",
   "metadata": {},
   "source": [
    "### What factors impact the price most? Take each of the popular types you detected at the previous stage and study whether the price depends on age, mileage, condition, transmission type, and color. For categorical variables (transmission type and color), plot box-and-whisker charts, and create scatterplots for the rest. When analyzing categorical variables, note that the categories must have at least 50 ads; otherwise, their parameters won't be valid for analysis.\n"
   ]
  },
  {
   "cell_type": "code",
   "execution_count": 94,
   "metadata": {
    "scrolled": true
   },
   "outputs": [
    {
     "name": "stdout",
     "output_type": "stream",
     "text": [
      "Index(['SUV', 'truck', 'sedan', 'pickup', 'coupe', 'wagon', 'mini-van',\n",
      "       'hatchback', 'van', 'convertible', 'other', 'offroad', 'bus'],\n",
      "      dtype='object')\n"
     ]
    }
   ],
   "source": [
    "print(df['type'].value_counts().index)"
   ]
  },
  {
   "cell_type": "code",
   "execution_count": 95,
   "metadata": {
    "scrolled": true
   },
   "outputs": [
    {
     "data": {
      "text/html": [
       "<div>\n",
       "<style scoped>\n",
       "    .dataframe tbody tr th:only-of-type {\n",
       "        vertical-align: middle;\n",
       "    }\n",
       "\n",
       "    .dataframe tbody tr th {\n",
       "        vertical-align: top;\n",
       "    }\n",
       "\n",
       "    .dataframe thead th {\n",
       "        text-align: right;\n",
       "    }\n",
       "</style>\n",
       "<table border=\"1\" class=\"dataframe\">\n",
       "  <thead>\n",
       "    <tr style=\"text-align: right;\">\n",
       "      <th></th>\n",
       "      <th>price</th>\n",
       "      <th>model_year</th>\n",
       "      <th>condition</th>\n",
       "      <th>cylinders</th>\n",
       "      <th>odometer</th>\n",
       "      <th>days_listed</th>\n",
       "      <th>weekday</th>\n",
       "      <th>month</th>\n",
       "      <th>year</th>\n",
       "      <th>age</th>\n",
       "      <th>odometer_per_year</th>\n",
       "    </tr>\n",
       "  </thead>\n",
       "  <tbody>\n",
       "    <tr>\n",
       "      <th>count</th>\n",
       "      <td>11860.000000</td>\n",
       "      <td>11860.000000</td>\n",
       "      <td>11860.000000</td>\n",
       "      <td>11860.000000</td>\n",
       "      <td>11860.000000</td>\n",
       "      <td>11860.000000</td>\n",
       "      <td>11860.00000</td>\n",
       "      <td>11860.000000</td>\n",
       "      <td>11860.000000</td>\n",
       "      <td>11860.000000</td>\n",
       "      <td>11860.000000</td>\n",
       "    </tr>\n",
       "    <tr>\n",
       "      <th>mean</th>\n",
       "      <td>10550.141737</td>\n",
       "      <td>2009.875632</td>\n",
       "      <td>2.693929</td>\n",
       "      <td>5.877234</td>\n",
       "      <td>117938.217875</td>\n",
       "      <td>39.779511</td>\n",
       "      <td>2.99258</td>\n",
       "      <td>6.639292</td>\n",
       "      <td>2018.309781</td>\n",
       "      <td>9.434148</td>\n",
       "      <td>15144.518044</td>\n",
       "    </tr>\n",
       "    <tr>\n",
       "      <th>std</th>\n",
       "      <td>7205.484474</td>\n",
       "      <td>4.858722</td>\n",
       "      <td>0.665926</td>\n",
       "      <td>1.338654</td>\n",
       "      <td>51497.007377</td>\n",
       "      <td>28.247518</td>\n",
       "      <td>2.00525</td>\n",
       "      <td>3.480916</td>\n",
       "      <td>0.462423</td>\n",
       "      <td>4.875234</td>\n",
       "      <td>10524.253376</td>\n",
       "    </tr>\n",
       "    <tr>\n",
       "      <th>min</th>\n",
       "      <td>1.000000</td>\n",
       "      <td>1995.000000</td>\n",
       "      <td>1.000000</td>\n",
       "      <td>3.000000</td>\n",
       "      <td>0.000000</td>\n",
       "      <td>0.000000</td>\n",
       "      <td>0.00000</td>\n",
       "      <td>1.000000</td>\n",
       "      <td>2018.000000</td>\n",
       "      <td>1.000000</td>\n",
       "      <td>0.000000</td>\n",
       "    </tr>\n",
       "    <tr>\n",
       "      <th>25%</th>\n",
       "      <td>5000.000000</td>\n",
       "      <td>2007.000000</td>\n",
       "      <td>2.000000</td>\n",
       "      <td>4.000000</td>\n",
       "      <td>86793.000000</td>\n",
       "      <td>19.000000</td>\n",
       "      <td>1.00000</td>\n",
       "      <td>3.000000</td>\n",
       "      <td>2018.000000</td>\n",
       "      <td>6.000000</td>\n",
       "      <td>9898.750000</td>\n",
       "    </tr>\n",
       "    <tr>\n",
       "      <th>50%</th>\n",
       "      <td>8900.000000</td>\n",
       "      <td>2010.000000</td>\n",
       "      <td>3.000000</td>\n",
       "      <td>6.000000</td>\n",
       "      <td>121558.000000</td>\n",
       "      <td>33.000000</td>\n",
       "      <td>3.00000</td>\n",
       "      <td>7.000000</td>\n",
       "      <td>2018.000000</td>\n",
       "      <td>9.000000</td>\n",
       "      <td>13190.500000</td>\n",
       "    </tr>\n",
       "    <tr>\n",
       "      <th>75%</th>\n",
       "      <td>14799.000000</td>\n",
       "      <td>2014.000000</td>\n",
       "      <td>3.000000</td>\n",
       "      <td>6.000000</td>\n",
       "      <td>150000.000000</td>\n",
       "      <td>54.000000</td>\n",
       "      <td>5.00000</td>\n",
       "      <td>10.000000</td>\n",
       "      <td>2019.000000</td>\n",
       "      <td>12.000000</td>\n",
       "      <td>17660.250000</td>\n",
       "    </tr>\n",
       "    <tr>\n",
       "      <th>max</th>\n",
       "      <td>35000.000000</td>\n",
       "      <td>2019.000000</td>\n",
       "      <td>4.000000</td>\n",
       "      <td>10.000000</td>\n",
       "      <td>255000.000000</td>\n",
       "      <td>243.000000</td>\n",
       "      <td>6.00000</td>\n",
       "      <td>12.000000</td>\n",
       "      <td>2019.000000</td>\n",
       "      <td>24.000000</td>\n",
       "      <td>195700.000000</td>\n",
       "    </tr>\n",
       "  </tbody>\n",
       "</table>\n",
       "</div>"
      ],
      "text/plain": [
       "              price    model_year     condition     cylinders       odometer  \\\n",
       "count  11860.000000  11860.000000  11860.000000  11860.000000   11860.000000   \n",
       "mean   10550.141737   2009.875632      2.693929      5.877234  117938.217875   \n",
       "std     7205.484474      4.858722      0.665926      1.338654   51497.007377   \n",
       "min        1.000000   1995.000000      1.000000      3.000000       0.000000   \n",
       "25%     5000.000000   2007.000000      2.000000      4.000000   86793.000000   \n",
       "50%     8900.000000   2010.000000      3.000000      6.000000  121558.000000   \n",
       "75%    14799.000000   2014.000000      3.000000      6.000000  150000.000000   \n",
       "max    35000.000000   2019.000000      4.000000     10.000000  255000.000000   \n",
       "\n",
       "        days_listed      weekday         month          year           age  \\\n",
       "count  11860.000000  11860.00000  11860.000000  11860.000000  11860.000000   \n",
       "mean      39.779511      2.99258      6.639292   2018.309781      9.434148   \n",
       "std       28.247518      2.00525      3.480916      0.462423      4.875234   \n",
       "min        0.000000      0.00000      1.000000   2018.000000      1.000000   \n",
       "25%       19.000000      1.00000      3.000000   2018.000000      6.000000   \n",
       "50%       33.000000      3.00000      7.000000   2018.000000      9.000000   \n",
       "75%       54.000000      5.00000     10.000000   2019.000000     12.000000   \n",
       "max      243.000000      6.00000     12.000000   2019.000000     24.000000   \n",
       "\n",
       "       odometer_per_year  \n",
       "count       11860.000000  \n",
       "mean        15144.518044  \n",
       "std         10524.253376  \n",
       "min             0.000000  \n",
       "25%          9898.750000  \n",
       "50%         13190.500000  \n",
       "75%         17660.250000  \n",
       "max        195700.000000  "
      ]
     },
     "execution_count": 95,
     "metadata": {},
     "output_type": "execute_result"
    }
   ],
   "source": [
    "df_filtered_SUV = df_filtered.loc[df_filtered['type'] == 'SUV']\n",
    "df_filtered_SUV.describe()"
   ]
  },
  {
   "cell_type": "code",
   "execution_count": 96,
   "metadata": {},
   "outputs": [
    {
     "data": {
      "text/html": [
       "<div>\n",
       "<style scoped>\n",
       "    .dataframe tbody tr th:only-of-type {\n",
       "        vertical-align: middle;\n",
       "    }\n",
       "\n",
       "    .dataframe tbody tr th {\n",
       "        vertical-align: top;\n",
       "    }\n",
       "\n",
       "    .dataframe thead th {\n",
       "        text-align: right;\n",
       "    }\n",
       "</style>\n",
       "<table border=\"1\" class=\"dataframe\">\n",
       "  <thead>\n",
       "    <tr style=\"text-align: right;\">\n",
       "      <th></th>\n",
       "      <th>price</th>\n",
       "      <th>model_year</th>\n",
       "      <th>condition</th>\n",
       "      <th>cylinders</th>\n",
       "      <th>odometer</th>\n",
       "      <th>is_4wd</th>\n",
       "      <th>days_listed</th>\n",
       "      <th>weekday</th>\n",
       "      <th>month</th>\n",
       "      <th>year</th>\n",
       "      <th>age</th>\n",
       "      <th>odometer_per_year</th>\n",
       "    </tr>\n",
       "  </thead>\n",
       "  <tbody>\n",
       "    <tr>\n",
       "      <th>price</th>\n",
       "      <td>1.000000</td>\n",
       "      <td>0.574878</td>\n",
       "      <td>0.255056</td>\n",
       "      <td>0.000888</td>\n",
       "      <td>-0.480809</td>\n",
       "      <td>0.115390</td>\n",
       "      <td>-0.019037</td>\n",
       "      <td>0.008733</td>\n",
       "      <td>-0.007276</td>\n",
       "      <td>0.002221</td>\n",
       "      <td>-0.572721</td>\n",
       "      <td>0.214903</td>\n",
       "    </tr>\n",
       "    <tr>\n",
       "      <th>model_year</th>\n",
       "      <td>0.574878</td>\n",
       "      <td>1.000000</td>\n",
       "      <td>0.303920</td>\n",
       "      <td>-0.268305</td>\n",
       "      <td>-0.561211</td>\n",
       "      <td>-0.069062</td>\n",
       "      <td>-0.015800</td>\n",
       "      <td>0.002190</td>\n",
       "      <td>-0.015262</td>\n",
       "      <td>0.011820</td>\n",
       "      <td>-0.995492</td>\n",
       "      <td>0.477806</td>\n",
       "    </tr>\n",
       "    <tr>\n",
       "      <th>condition</th>\n",
       "      <td>0.255056</td>\n",
       "      <td>0.303920</td>\n",
       "      <td>1.000000</td>\n",
       "      <td>-0.088788</td>\n",
       "      <td>-0.298030</td>\n",
       "      <td>-0.012239</td>\n",
       "      <td>-0.011070</td>\n",
       "      <td>0.008277</td>\n",
       "      <td>0.001478</td>\n",
       "      <td>-0.002874</td>\n",
       "      <td>-0.303164</td>\n",
       "      <td>0.074092</td>\n",
       "    </tr>\n",
       "    <tr>\n",
       "      <th>cylinders</th>\n",
       "      <td>0.000888</td>\n",
       "      <td>-0.268305</td>\n",
       "      <td>-0.088788</td>\n",
       "      <td>1.000000</td>\n",
       "      <td>0.226637</td>\n",
       "      <td>0.117605</td>\n",
       "      <td>0.014954</td>\n",
       "      <td>-0.012088</td>\n",
       "      <td>-0.003460</td>\n",
       "      <td>0.000823</td>\n",
       "      <td>0.267474</td>\n",
       "      <td>-0.107933</td>\n",
       "    </tr>\n",
       "    <tr>\n",
       "      <th>odometer</th>\n",
       "      <td>-0.480809</td>\n",
       "      <td>-0.561211</td>\n",
       "      <td>-0.298030</td>\n",
       "      <td>0.226637</td>\n",
       "      <td>1.000000</td>\n",
       "      <td>0.024974</td>\n",
       "      <td>0.012227</td>\n",
       "      <td>0.004646</td>\n",
       "      <td>0.010346</td>\n",
       "      <td>-0.007517</td>\n",
       "      <td>0.558597</td>\n",
       "      <td>0.126927</td>\n",
       "    </tr>\n",
       "    <tr>\n",
       "      <th>is_4wd</th>\n",
       "      <td>0.115390</td>\n",
       "      <td>-0.069062</td>\n",
       "      <td>-0.012239</td>\n",
       "      <td>0.117605</td>\n",
       "      <td>0.024974</td>\n",
       "      <td>1.000000</td>\n",
       "      <td>-0.005574</td>\n",
       "      <td>0.016100</td>\n",
       "      <td>-0.002009</td>\n",
       "      <td>-0.006464</td>\n",
       "      <td>0.068215</td>\n",
       "      <td>-0.029214</td>\n",
       "    </tr>\n",
       "    <tr>\n",
       "      <th>days_listed</th>\n",
       "      <td>-0.019037</td>\n",
       "      <td>-0.015800</td>\n",
       "      <td>-0.011070</td>\n",
       "      <td>0.014954</td>\n",
       "      <td>0.012227</td>\n",
       "      <td>-0.005574</td>\n",
       "      <td>1.000000</td>\n",
       "      <td>-0.010664</td>\n",
       "      <td>-0.007448</td>\n",
       "      <td>0.000904</td>\n",
       "      <td>0.015832</td>\n",
       "      <td>-0.010626</td>\n",
       "    </tr>\n",
       "    <tr>\n",
       "      <th>weekday</th>\n",
       "      <td>0.008733</td>\n",
       "      <td>0.002190</td>\n",
       "      <td>0.008277</td>\n",
       "      <td>-0.012088</td>\n",
       "      <td>0.004646</td>\n",
       "      <td>0.016100</td>\n",
       "      <td>-0.010664</td>\n",
       "      <td>1.000000</td>\n",
       "      <td>0.019864</td>\n",
       "      <td>-0.016982</td>\n",
       "      <td>-0.003793</td>\n",
       "      <td>0.002176</td>\n",
       "    </tr>\n",
       "    <tr>\n",
       "      <th>month</th>\n",
       "      <td>-0.007276</td>\n",
       "      <td>-0.015262</td>\n",
       "      <td>0.001478</td>\n",
       "      <td>-0.003460</td>\n",
       "      <td>0.010346</td>\n",
       "      <td>-0.002009</td>\n",
       "      <td>-0.007448</td>\n",
       "      <td>0.019864</td>\n",
       "      <td>1.000000</td>\n",
       "      <td>-0.816955</td>\n",
       "      <td>-0.062279</td>\n",
       "      <td>0.082053</td>\n",
       "    </tr>\n",
       "    <tr>\n",
       "      <th>year</th>\n",
       "      <td>0.002221</td>\n",
       "      <td>0.011820</td>\n",
       "      <td>-0.002874</td>\n",
       "      <td>0.000823</td>\n",
       "      <td>-0.007517</td>\n",
       "      <td>-0.006464</td>\n",
       "      <td>0.000904</td>\n",
       "      <td>-0.016982</td>\n",
       "      <td>-0.816955</td>\n",
       "      <td>1.000000</td>\n",
       "      <td>0.083072</td>\n",
       "      <td>-0.104965</td>\n",
       "    </tr>\n",
       "    <tr>\n",
       "      <th>age</th>\n",
       "      <td>-0.572721</td>\n",
       "      <td>-0.995492</td>\n",
       "      <td>-0.303164</td>\n",
       "      <td>0.267474</td>\n",
       "      <td>0.558597</td>\n",
       "      <td>0.068215</td>\n",
       "      <td>0.015832</td>\n",
       "      <td>-0.003793</td>\n",
       "      <td>-0.062279</td>\n",
       "      <td>0.083072</td>\n",
       "      <td>1.000000</td>\n",
       "      <td>-0.486144</td>\n",
       "    </tr>\n",
       "    <tr>\n",
       "      <th>odometer_per_year</th>\n",
       "      <td>0.214903</td>\n",
       "      <td>0.477806</td>\n",
       "      <td>0.074092</td>\n",
       "      <td>-0.107933</td>\n",
       "      <td>0.126927</td>\n",
       "      <td>-0.029214</td>\n",
       "      <td>-0.010626</td>\n",
       "      <td>0.002176</td>\n",
       "      <td>0.082053</td>\n",
       "      <td>-0.104965</td>\n",
       "      <td>-0.486144</td>\n",
       "      <td>1.000000</td>\n",
       "    </tr>\n",
       "  </tbody>\n",
       "</table>\n",
       "</div>"
      ],
      "text/plain": [
       "                      price  model_year  condition  cylinders  odometer  \\\n",
       "price              1.000000    0.574878   0.255056   0.000888 -0.480809   \n",
       "model_year         0.574878    1.000000   0.303920  -0.268305 -0.561211   \n",
       "condition          0.255056    0.303920   1.000000  -0.088788 -0.298030   \n",
       "cylinders          0.000888   -0.268305  -0.088788   1.000000  0.226637   \n",
       "odometer          -0.480809   -0.561211  -0.298030   0.226637  1.000000   \n",
       "is_4wd             0.115390   -0.069062  -0.012239   0.117605  0.024974   \n",
       "days_listed       -0.019037   -0.015800  -0.011070   0.014954  0.012227   \n",
       "weekday            0.008733    0.002190   0.008277  -0.012088  0.004646   \n",
       "month             -0.007276   -0.015262   0.001478  -0.003460  0.010346   \n",
       "year               0.002221    0.011820  -0.002874   0.000823 -0.007517   \n",
       "age               -0.572721   -0.995492  -0.303164   0.267474  0.558597   \n",
       "odometer_per_year  0.214903    0.477806   0.074092  -0.107933  0.126927   \n",
       "\n",
       "                     is_4wd  days_listed   weekday     month      year  \\\n",
       "price              0.115390    -0.019037  0.008733 -0.007276  0.002221   \n",
       "model_year        -0.069062    -0.015800  0.002190 -0.015262  0.011820   \n",
       "condition         -0.012239    -0.011070  0.008277  0.001478 -0.002874   \n",
       "cylinders          0.117605     0.014954 -0.012088 -0.003460  0.000823   \n",
       "odometer           0.024974     0.012227  0.004646  0.010346 -0.007517   \n",
       "is_4wd             1.000000    -0.005574  0.016100 -0.002009 -0.006464   \n",
       "days_listed       -0.005574     1.000000 -0.010664 -0.007448  0.000904   \n",
       "weekday            0.016100    -0.010664  1.000000  0.019864 -0.016982   \n",
       "month             -0.002009    -0.007448  0.019864  1.000000 -0.816955   \n",
       "year              -0.006464     0.000904 -0.016982 -0.816955  1.000000   \n",
       "age                0.068215     0.015832 -0.003793 -0.062279  0.083072   \n",
       "odometer_per_year -0.029214    -0.010626  0.002176  0.082053 -0.104965   \n",
       "\n",
       "                        age  odometer_per_year  \n",
       "price             -0.572721           0.214903  \n",
       "model_year        -0.995492           0.477806  \n",
       "condition         -0.303164           0.074092  \n",
       "cylinders          0.267474          -0.107933  \n",
       "odometer           0.558597           0.126927  \n",
       "is_4wd             0.068215          -0.029214  \n",
       "days_listed        0.015832          -0.010626  \n",
       "weekday           -0.003793           0.002176  \n",
       "month             -0.062279           0.082053  \n",
       "year               0.083072          -0.104965  \n",
       "age                1.000000          -0.486144  \n",
       "odometer_per_year -0.486144           1.000000  "
      ]
     },
     "execution_count": 96,
     "metadata": {},
     "output_type": "execute_result"
    }
   ],
   "source": [
    "df_filtered_SUV.corr()\n"
   ]
  },
  {
   "cell_type": "code",
   "execution_count": 97,
   "metadata": {
    "scrolled": false
   },
   "outputs": [
    {
     "data": {
      "text/html": [
       "<div>\n",
       "<style scoped>\n",
       "    .dataframe tbody tr th:only-of-type {\n",
       "        vertical-align: middle;\n",
       "    }\n",
       "\n",
       "    .dataframe tbody tr th {\n",
       "        vertical-align: top;\n",
       "    }\n",
       "\n",
       "    .dataframe thead th {\n",
       "        text-align: right;\n",
       "    }\n",
       "</style>\n",
       "<table border=\"1\" class=\"dataframe\">\n",
       "  <thead>\n",
       "    <tr style=\"text-align: right;\">\n",
       "      <th></th>\n",
       "      <th>price</th>\n",
       "      <th>model_year</th>\n",
       "      <th>condition</th>\n",
       "      <th>cylinders</th>\n",
       "      <th>odometer</th>\n",
       "      <th>days_listed</th>\n",
       "      <th>weekday</th>\n",
       "      <th>month</th>\n",
       "      <th>year</th>\n",
       "      <th>age</th>\n",
       "      <th>odometer_per_year</th>\n",
       "    </tr>\n",
       "  </thead>\n",
       "  <tbody>\n",
       "    <tr>\n",
       "      <th>count</th>\n",
       "      <td>11908.000000</td>\n",
       "      <td>11908.000000</td>\n",
       "      <td>11908.000000</td>\n",
       "      <td>11908.000000</td>\n",
       "      <td>11908.000000</td>\n",
       "      <td>11908.000000</td>\n",
       "      <td>11908.000000</td>\n",
       "      <td>11908.000000</td>\n",
       "      <td>11908.000000</td>\n",
       "      <td>11908.000000</td>\n",
       "      <td>11908.000000</td>\n",
       "    </tr>\n",
       "    <tr>\n",
       "      <th>mean</th>\n",
       "      <td>6983.578435</td>\n",
       "      <td>2010.920474</td>\n",
       "      <td>2.709439</td>\n",
       "      <td>4.719852</td>\n",
       "      <td>105979.332885</td>\n",
       "      <td>39.389150</td>\n",
       "      <td>2.988663</td>\n",
       "      <td>6.634363</td>\n",
       "      <td>2018.304837</td>\n",
       "      <td>8.384363</td>\n",
       "      <td>15320.793248</td>\n",
       "    </tr>\n",
       "    <tr>\n",
       "      <th>std</th>\n",
       "      <td>4234.207767</td>\n",
       "      <td>4.446161</td>\n",
       "      <td>0.685220</td>\n",
       "      <td>1.086323</td>\n",
       "      <td>48884.841096</td>\n",
       "      <td>28.237336</td>\n",
       "      <td>2.003220</td>\n",
       "      <td>3.480042</td>\n",
       "      <td>0.460358</td>\n",
       "      <td>4.459647</td>\n",
       "      <td>10543.570592</td>\n",
       "    </tr>\n",
       "    <tr>\n",
       "      <th>min</th>\n",
       "      <td>1.000000</td>\n",
       "      <td>1995.000000</td>\n",
       "      <td>1.000000</td>\n",
       "      <td>3.000000</td>\n",
       "      <td>0.000000</td>\n",
       "      <td>0.000000</td>\n",
       "      <td>0.000000</td>\n",
       "      <td>1.000000</td>\n",
       "      <td>2018.000000</td>\n",
       "      <td>1.000000</td>\n",
       "      <td>0.000000</td>\n",
       "    </tr>\n",
       "    <tr>\n",
       "      <th>25%</th>\n",
       "      <td>3995.000000</td>\n",
       "      <td>2008.000000</td>\n",
       "      <td>2.000000</td>\n",
       "      <td>4.000000</td>\n",
       "      <td>76829.000000</td>\n",
       "      <td>19.000000</td>\n",
       "      <td>1.000000</td>\n",
       "      <td>3.000000</td>\n",
       "      <td>2018.000000</td>\n",
       "      <td>5.000000</td>\n",
       "      <td>9758.000000</td>\n",
       "    </tr>\n",
       "    <tr>\n",
       "      <th>50%</th>\n",
       "      <td>5995.000000</td>\n",
       "      <td>2012.000000</td>\n",
       "      <td>3.000000</td>\n",
       "      <td>4.000000</td>\n",
       "      <td>104122.000000</td>\n",
       "      <td>33.000000</td>\n",
       "      <td>3.000000</td>\n",
       "      <td>7.000000</td>\n",
       "      <td>2018.000000</td>\n",
       "      <td>8.000000</td>\n",
       "      <td>13285.000000</td>\n",
       "    </tr>\n",
       "    <tr>\n",
       "      <th>75%</th>\n",
       "      <td>9000.000000</td>\n",
       "      <td>2014.000000</td>\n",
       "      <td>3.000000</td>\n",
       "      <td>6.000000</td>\n",
       "      <td>135000.000000</td>\n",
       "      <td>53.000000</td>\n",
       "      <td>5.000000</td>\n",
       "      <td>10.000000</td>\n",
       "      <td>2019.000000</td>\n",
       "      <td>11.000000</td>\n",
       "      <td>17855.500000</td>\n",
       "    </tr>\n",
       "    <tr>\n",
       "      <th>max</th>\n",
       "      <td>32999.000000</td>\n",
       "      <td>2019.000000</td>\n",
       "      <td>4.000000</td>\n",
       "      <td>10.000000</td>\n",
       "      <td>255000.000000</td>\n",
       "      <td>271.000000</td>\n",
       "      <td>6.000000</td>\n",
       "      <td>12.000000</td>\n",
       "      <td>2019.000000</td>\n",
       "      <td>24.000000</td>\n",
       "      <td>131000.000000</td>\n",
       "    </tr>\n",
       "  </tbody>\n",
       "</table>\n",
       "</div>"
      ],
      "text/plain": [
       "              price    model_year     condition     cylinders       odometer  \\\n",
       "count  11908.000000  11908.000000  11908.000000  11908.000000   11908.000000   \n",
       "mean    6983.578435   2010.920474      2.709439      4.719852  105979.332885   \n",
       "std     4234.207767      4.446161      0.685220      1.086323   48884.841096   \n",
       "min        1.000000   1995.000000      1.000000      3.000000       0.000000   \n",
       "25%     3995.000000   2008.000000      2.000000      4.000000   76829.000000   \n",
       "50%     5995.000000   2012.000000      3.000000      4.000000  104122.000000   \n",
       "75%     9000.000000   2014.000000      3.000000      6.000000  135000.000000   \n",
       "max    32999.000000   2019.000000      4.000000     10.000000  255000.000000   \n",
       "\n",
       "        days_listed       weekday         month          year           age  \\\n",
       "count  11908.000000  11908.000000  11908.000000  11908.000000  11908.000000   \n",
       "mean      39.389150      2.988663      6.634363   2018.304837      8.384363   \n",
       "std       28.237336      2.003220      3.480042      0.460358      4.459647   \n",
       "min        0.000000      0.000000      1.000000   2018.000000      1.000000   \n",
       "25%       19.000000      1.000000      3.000000   2018.000000      5.000000   \n",
       "50%       33.000000      3.000000      7.000000   2018.000000      8.000000   \n",
       "75%       53.000000      5.000000     10.000000   2019.000000     11.000000   \n",
       "max      271.000000      6.000000     12.000000   2019.000000     24.000000   \n",
       "\n",
       "       odometer_per_year  \n",
       "count       11908.000000  \n",
       "mean        15320.793248  \n",
       "std         10543.570592  \n",
       "min             0.000000  \n",
       "25%          9758.000000  \n",
       "50%         13285.000000  \n",
       "75%         17855.500000  \n",
       "max        131000.000000  "
      ]
     },
     "execution_count": 97,
     "metadata": {},
     "output_type": "execute_result"
    }
   ],
   "source": [
    "df_filtered_sedan = df_filtered.loc[df_filtered['type'] == 'sedan']\n",
    "df_filtered_sedan.describe()\n"
   ]
  },
  {
   "cell_type": "code",
   "execution_count": 98,
   "metadata": {},
   "outputs": [
    {
     "data": {
      "text/html": [
       "<div>\n",
       "<style scoped>\n",
       "    .dataframe tbody tr th:only-of-type {\n",
       "        vertical-align: middle;\n",
       "    }\n",
       "\n",
       "    .dataframe tbody tr th {\n",
       "        vertical-align: top;\n",
       "    }\n",
       "\n",
       "    .dataframe thead th {\n",
       "        text-align: right;\n",
       "    }\n",
       "</style>\n",
       "<table border=\"1\" class=\"dataframe\">\n",
       "  <thead>\n",
       "    <tr style=\"text-align: right;\">\n",
       "      <th></th>\n",
       "      <th>price</th>\n",
       "      <th>model_year</th>\n",
       "      <th>condition</th>\n",
       "      <th>cylinders</th>\n",
       "      <th>odometer</th>\n",
       "      <th>is_4wd</th>\n",
       "      <th>days_listed</th>\n",
       "      <th>weekday</th>\n",
       "      <th>month</th>\n",
       "      <th>year</th>\n",
       "      <th>age</th>\n",
       "      <th>odometer_per_year</th>\n",
       "    </tr>\n",
       "  </thead>\n",
       "  <tbody>\n",
       "    <tr>\n",
       "      <th>price</th>\n",
       "      <td>1.000000</td>\n",
       "      <td>0.619224</td>\n",
       "      <td>0.288343</td>\n",
       "      <td>-0.040720</td>\n",
       "      <td>-0.504747</td>\n",
       "      <td>0.041361</td>\n",
       "      <td>0.002375</td>\n",
       "      <td>-0.003866</td>\n",
       "      <td>-0.019872</td>\n",
       "      <td>0.016037</td>\n",
       "      <td>-0.615696</td>\n",
       "      <td>0.246258</td>\n",
       "    </tr>\n",
       "    <tr>\n",
       "      <th>model_year</th>\n",
       "      <td>0.619224</td>\n",
       "      <td>1.000000</td>\n",
       "      <td>0.298514</td>\n",
       "      <td>-0.108473</td>\n",
       "      <td>-0.545081</td>\n",
       "      <td>0.069851</td>\n",
       "      <td>-0.000746</td>\n",
       "      <td>0.002803</td>\n",
       "      <td>-0.028519</td>\n",
       "      <td>0.022431</td>\n",
       "      <td>-0.994660</td>\n",
       "      <td>0.467539</td>\n",
       "    </tr>\n",
       "    <tr>\n",
       "      <th>condition</th>\n",
       "      <td>0.288343</td>\n",
       "      <td>0.298514</td>\n",
       "      <td>1.000000</td>\n",
       "      <td>-0.041217</td>\n",
       "      <td>-0.299390</td>\n",
       "      <td>0.020653</td>\n",
       "      <td>-0.008137</td>\n",
       "      <td>-0.002216</td>\n",
       "      <td>-0.008738</td>\n",
       "      <td>0.007917</td>\n",
       "      <td>-0.296794</td>\n",
       "      <td>0.083549</td>\n",
       "    </tr>\n",
       "    <tr>\n",
       "      <th>cylinders</th>\n",
       "      <td>-0.040720</td>\n",
       "      <td>-0.108473</td>\n",
       "      <td>-0.041217</td>\n",
       "      <td>1.000000</td>\n",
       "      <td>0.062070</td>\n",
       "      <td>0.198882</td>\n",
       "      <td>0.006506</td>\n",
       "      <td>-0.003351</td>\n",
       "      <td>-0.007392</td>\n",
       "      <td>0.008722</td>\n",
       "      <td>0.109045</td>\n",
       "      <td>-0.040598</td>\n",
       "    </tr>\n",
       "    <tr>\n",
       "      <th>odometer</th>\n",
       "      <td>-0.504747</td>\n",
       "      <td>-0.545081</td>\n",
       "      <td>-0.299390</td>\n",
       "      <td>0.062070</td>\n",
       "      <td>1.000000</td>\n",
       "      <td>-0.048852</td>\n",
       "      <td>0.006863</td>\n",
       "      <td>-0.002913</td>\n",
       "      <td>0.017870</td>\n",
       "      <td>-0.007312</td>\n",
       "      <td>0.542677</td>\n",
       "      <td>0.172475</td>\n",
       "    </tr>\n",
       "    <tr>\n",
       "      <th>is_4wd</th>\n",
       "      <td>0.041361</td>\n",
       "      <td>0.069851</td>\n",
       "      <td>0.020653</td>\n",
       "      <td>0.198882</td>\n",
       "      <td>-0.048852</td>\n",
       "      <td>1.000000</td>\n",
       "      <td>0.005394</td>\n",
       "      <td>-0.017823</td>\n",
       "      <td>0.006897</td>\n",
       "      <td>-0.003017</td>\n",
       "      <td>-0.069952</td>\n",
       "      <td>0.032044</td>\n",
       "    </tr>\n",
       "    <tr>\n",
       "      <th>days_listed</th>\n",
       "      <td>0.002375</td>\n",
       "      <td>-0.000746</td>\n",
       "      <td>-0.008137</td>\n",
       "      <td>0.006506</td>\n",
       "      <td>0.006863</td>\n",
       "      <td>0.005394</td>\n",
       "      <td>1.000000</td>\n",
       "      <td>0.013365</td>\n",
       "      <td>-0.007554</td>\n",
       "      <td>0.013279</td>\n",
       "      <td>0.002115</td>\n",
       "      <td>0.005644</td>\n",
       "    </tr>\n",
       "    <tr>\n",
       "      <th>weekday</th>\n",
       "      <td>-0.003866</td>\n",
       "      <td>0.002803</td>\n",
       "      <td>-0.002216</td>\n",
       "      <td>-0.003351</td>\n",
       "      <td>-0.002913</td>\n",
       "      <td>-0.017823</td>\n",
       "      <td>0.013365</td>\n",
       "      <td>1.000000</td>\n",
       "      <td>0.001465</td>\n",
       "      <td>-0.003811</td>\n",
       "      <td>-0.003188</td>\n",
       "      <td>0.005809</td>\n",
       "    </tr>\n",
       "    <tr>\n",
       "      <th>month</th>\n",
       "      <td>-0.019872</td>\n",
       "      <td>-0.028519</td>\n",
       "      <td>-0.008738</td>\n",
       "      <td>-0.007392</td>\n",
       "      <td>0.017870</td>\n",
       "      <td>0.006897</td>\n",
       "      <td>-0.007554</td>\n",
       "      <td>0.001465</td>\n",
       "      <td>1.000000</td>\n",
       "      <td>-0.818459</td>\n",
       "      <td>-0.056054</td>\n",
       "      <td>0.095960</td>\n",
       "    </tr>\n",
       "    <tr>\n",
       "      <th>year</th>\n",
       "      <td>0.016037</td>\n",
       "      <td>0.022431</td>\n",
       "      <td>0.007917</td>\n",
       "      <td>0.008722</td>\n",
       "      <td>-0.007312</td>\n",
       "      <td>-0.003017</td>\n",
       "      <td>0.013279</td>\n",
       "      <td>-0.003811</td>\n",
       "      <td>-0.818459</td>\n",
       "      <td>1.000000</td>\n",
       "      <td>0.080864</td>\n",
       "      <td>-0.116055</td>\n",
       "    </tr>\n",
       "    <tr>\n",
       "      <th>age</th>\n",
       "      <td>-0.615696</td>\n",
       "      <td>-0.994660</td>\n",
       "      <td>-0.296794</td>\n",
       "      <td>0.109045</td>\n",
       "      <td>0.542677</td>\n",
       "      <td>-0.069952</td>\n",
       "      <td>0.002115</td>\n",
       "      <td>-0.003188</td>\n",
       "      <td>-0.056054</td>\n",
       "      <td>0.080864</td>\n",
       "      <td>1.000000</td>\n",
       "      <td>-0.478106</td>\n",
       "    </tr>\n",
       "    <tr>\n",
       "      <th>odometer_per_year</th>\n",
       "      <td>0.246258</td>\n",
       "      <td>0.467539</td>\n",
       "      <td>0.083549</td>\n",
       "      <td>-0.040598</td>\n",
       "      <td>0.172475</td>\n",
       "      <td>0.032044</td>\n",
       "      <td>0.005644</td>\n",
       "      <td>0.005809</td>\n",
       "      <td>0.095960</td>\n",
       "      <td>-0.116055</td>\n",
       "      <td>-0.478106</td>\n",
       "      <td>1.000000</td>\n",
       "    </tr>\n",
       "  </tbody>\n",
       "</table>\n",
       "</div>"
      ],
      "text/plain": [
       "                      price  model_year  condition  cylinders  odometer  \\\n",
       "price              1.000000    0.619224   0.288343  -0.040720 -0.504747   \n",
       "model_year         0.619224    1.000000   0.298514  -0.108473 -0.545081   \n",
       "condition          0.288343    0.298514   1.000000  -0.041217 -0.299390   \n",
       "cylinders         -0.040720   -0.108473  -0.041217   1.000000  0.062070   \n",
       "odometer          -0.504747   -0.545081  -0.299390   0.062070  1.000000   \n",
       "is_4wd             0.041361    0.069851   0.020653   0.198882 -0.048852   \n",
       "days_listed        0.002375   -0.000746  -0.008137   0.006506  0.006863   \n",
       "weekday           -0.003866    0.002803  -0.002216  -0.003351 -0.002913   \n",
       "month             -0.019872   -0.028519  -0.008738  -0.007392  0.017870   \n",
       "year               0.016037    0.022431   0.007917   0.008722 -0.007312   \n",
       "age               -0.615696   -0.994660  -0.296794   0.109045  0.542677   \n",
       "odometer_per_year  0.246258    0.467539   0.083549  -0.040598  0.172475   \n",
       "\n",
       "                     is_4wd  days_listed   weekday     month      year  \\\n",
       "price              0.041361     0.002375 -0.003866 -0.019872  0.016037   \n",
       "model_year         0.069851    -0.000746  0.002803 -0.028519  0.022431   \n",
       "condition          0.020653    -0.008137 -0.002216 -0.008738  0.007917   \n",
       "cylinders          0.198882     0.006506 -0.003351 -0.007392  0.008722   \n",
       "odometer          -0.048852     0.006863 -0.002913  0.017870 -0.007312   \n",
       "is_4wd             1.000000     0.005394 -0.017823  0.006897 -0.003017   \n",
       "days_listed        0.005394     1.000000  0.013365 -0.007554  0.013279   \n",
       "weekday           -0.017823     0.013365  1.000000  0.001465 -0.003811   \n",
       "month              0.006897    -0.007554  0.001465  1.000000 -0.818459   \n",
       "year              -0.003017     0.013279 -0.003811 -0.818459  1.000000   \n",
       "age               -0.069952     0.002115 -0.003188 -0.056054  0.080864   \n",
       "odometer_per_year  0.032044     0.005644  0.005809  0.095960 -0.116055   \n",
       "\n",
       "                        age  odometer_per_year  \n",
       "price             -0.615696           0.246258  \n",
       "model_year        -0.994660           0.467539  \n",
       "condition         -0.296794           0.083549  \n",
       "cylinders          0.109045          -0.040598  \n",
       "odometer           0.542677           0.172475  \n",
       "is_4wd            -0.069952           0.032044  \n",
       "days_listed        0.002115           0.005644  \n",
       "weekday           -0.003188           0.005809  \n",
       "month             -0.056054           0.095960  \n",
       "year               0.080864          -0.116055  \n",
       "age                1.000000          -0.478106  \n",
       "odometer_per_year -0.478106           1.000000  "
      ]
     },
     "execution_count": 98,
     "metadata": {},
     "output_type": "execute_result"
    }
   ],
   "source": [
    "df_filtered_sedan.corr()"
   ]
  },
  {
   "cell_type": "code",
   "execution_count": 112,
   "metadata": {
    "scrolled": true
   },
   "outputs": [
    {
     "data": {
      "image/png": "[encoded data removed]",
      "text/plain": [
       "<Figure size 432x288 with 1 Axes>"
      ]
     },
     "metadata": {
      "needs_background": "light"
     },
     "output_type": "display_data"
    }
   ],
   "source": [
    "df_filtered_sedan.plot(x='odometer', y='price', kind='scatter', alpha=0.3)\n",
    "plt.show()"
   ]
  },
  {
   "cell_type": "code",
   "execution_count": 113,
   "metadata": {},
   "outputs": [
    {
     "data": {
      "image/png": "[encoded data removed]",
      "text/plain": [
       "<Figure size 432x288 with 1 Axes>"
      ]
     },
     "metadata": {
      "needs_background": "light"
     },
     "output_type": "display_data"
    }
   ],
   "source": [
    "df_filtered_SUV.plot(x='odometer', y='price', kind='scatter', alpha=0.3)\n",
    "plt.show()"
   ]
  },
  {
   "cell_type": "code",
   "execution_count": 114,
   "metadata": {
    "scrolled": true
   },
   "outputs": [
    {
     "data": {
      "image/png": "[encoded data removed]",
      "text/plain": [
       "<Figure size 720x288 with 1 Axes>"
      ]
     },
     "metadata": {
      "needs_background": "light"
     },
     "output_type": "display_data"
    }
   ],
   "source": [
    "df_type3 = df_filtered_sedan.pivot_table(index='age', values='price', aggfunc=['mean', 'median'])\n",
    "df_type3.plot(grid=True, figsize=(10,4))\n",
    "plt.legend(title='Price by age')\n",
    "plt.show()"
   ]
  },
  {
   "cell_type": "code",
   "execution_count": 115,
   "metadata": {
    "scrolled": true
   },
   "outputs": [
    {
     "data": {
      "image/png": "[encoded data removed]",
      "text/plain": [
       "<Figure size 720x288 with 1 Axes>"
      ]
     },
     "metadata": {
      "needs_background": "light"
     },
     "output_type": "display_data"
    }
   ],
   "source": [
    "df_type3 = df_filtered_SUV.pivot_table(index='age', values='price', aggfunc=['mean', 'median'])\n",
    "df_type3.plot(grid=True, figsize=(10,4))\n",
    "plt.legend(title='Price by age')\n",
    "plt.show()"
   ]
  },
  {
   "cell_type": "markdown",
   "metadata": {},
   "source": [
    "#### Box-and-whisker charts for categorical variables:"
   ]
  },
  {
   "cell_type": "code",
   "execution_count": 116,
   "metadata": {
    "scrolled": true
   },
   "outputs": [
    {
     "data": {
      "image/png": "[encoded data removed]",
      "text/plain": [
       "<Figure size 432x288 with 1 Axes>"
      ]
     },
     "metadata": {
      "needs_background": "light"
     },
     "output_type": "display_data"
    }
   ],
   "source": [
    "df_filtered_sedan.boxplot(column='price', by='transmission')\n",
    "plt.show()"
   ]
  },
  {
   "cell_type": "code",
   "execution_count": 117,
   "metadata": {
    "scrolled": true
   },
   "outputs": [
    {
     "data": {
      "image/png": "[encoded data removed]",
      "text/plain": [
       "<Figure size 432x288 with 1 Axes>"
      ]
     },
     "metadata": {
      "needs_background": "light"
     },
     "output_type": "display_data"
    }
   ],
   "source": [
    "df_filtered_SUV.boxplot(column='price', by='transmission')\n",
    "plt.show()"
   ]
  },
  {
   "cell_type": "markdown",
   "metadata": {},
   "source": [
    "Data by transmission nearly equal, plus type other shoud be additionaly examined. Possible types of transmittions like robotics could be only more expensive, so most likely others can be related to one of to groups."
   ]
  },
  {
   "cell_type": "code",
   "execution_count": 118,
   "metadata": {},
   "outputs": [
    {
     "data": {
      "image/png": "[encoded data removed]",
      "text/plain": [
       "<Figure size 432x288 with 1 Axes>"
      ]
     },
     "metadata": {
      "needs_background": "light"
     },
     "output_type": "display_data"
    }
   ],
   "source": [
    "df_filtered_sedan.boxplot(column='price', by='condition')\n",
    "plt.show()"
   ]
  },
  {
   "cell_type": "code",
   "execution_count": 119,
   "metadata": {
    "scrolled": true
   },
   "outputs": [
    {
     "data": {
      "image/png": "[encoded data removed]",
      "text/plain": [
       "<Figure size 432x288 with 1 Axes>"
      ]
     },
     "metadata": {
      "needs_background": "light"
     },
     "output_type": "display_data"
    }
   ],
   "source": [
    "df_filtered_SUV.boxplot(column='price', by='condition')\n",
    "plt.show()"
   ]
  },
  {
   "cell_type": "markdown",
   "metadata": {},
   "source": [
    "Correlation for both types is similar, SUVs have wider price range."
   ]
  },
  {
   "cell_type": "code",
   "execution_count": 107,
   "metadata": {
    "scrolled": true
   },
   "outputs": [
    {
     "data": {
      "text/html": [
       "<div>\n",
       "<style scoped>\n",
       "    .dataframe tbody tr th:only-of-type {\n",
       "        vertical-align: middle;\n",
       "    }\n",
       "\n",
       "    .dataframe tbody tr th {\n",
       "        vertical-align: top;\n",
       "    }\n",
       "\n",
       "    .dataframe thead tr th {\n",
       "        text-align: left;\n",
       "    }\n",
       "\n",
       "    .dataframe thead tr:last-of-type th {\n",
       "        text-align: right;\n",
       "    }\n",
       "</style>\n",
       "<table border=\"1\" class=\"dataframe\">\n",
       "  <thead>\n",
       "    <tr>\n",
       "      <th></th>\n",
       "      <th>count</th>\n",
       "      <th>mean</th>\n",
       "      <th>median</th>\n",
       "      <th>min</th>\n",
       "      <th>max</th>\n",
       "    </tr>\n",
       "    <tr>\n",
       "      <th></th>\n",
       "      <th>price</th>\n",
       "      <th>price</th>\n",
       "      <th>price</th>\n",
       "      <th>price</th>\n",
       "      <th>price</th>\n",
       "    </tr>\n",
       "    <tr>\n",
       "      <th>paint_color</th>\n",
       "      <th></th>\n",
       "      <th></th>\n",
       "      <th></th>\n",
       "      <th></th>\n",
       "      <th></th>\n",
       "    </tr>\n",
       "  </thead>\n",
       "  <tbody>\n",
       "    <tr>\n",
       "      <th>black</th>\n",
       "      <td>1747</td>\n",
       "      <td>7561.970807</td>\n",
       "      <td>6950</td>\n",
       "      <td>1</td>\n",
       "      <td>32999</td>\n",
       "    </tr>\n",
       "    <tr>\n",
       "      <th>blue</th>\n",
       "      <td>1211</td>\n",
       "      <td>6572.038811</td>\n",
       "      <td>5750</td>\n",
       "      <td>1</td>\n",
       "      <td>25947</td>\n",
       "    </tr>\n",
       "    <tr>\n",
       "      <th>brown</th>\n",
       "      <td>250</td>\n",
       "      <td>5314.700000</td>\n",
       "      <td>4498</td>\n",
       "      <td>800</td>\n",
       "      <td>22199</td>\n",
       "    </tr>\n",
       "    <tr>\n",
       "      <th>custom</th>\n",
       "      <td>291</td>\n",
       "      <td>6401.993127</td>\n",
       "      <td>5495</td>\n",
       "      <td>1</td>\n",
       "      <td>23995</td>\n",
       "    </tr>\n",
       "    <tr>\n",
       "      <th>green</th>\n",
       "      <td>201</td>\n",
       "      <td>4795.412935</td>\n",
       "      <td>3900</td>\n",
       "      <td>1</td>\n",
       "      <td>17999</td>\n",
       "    </tr>\n",
       "    <tr>\n",
       "      <th>grey</th>\n",
       "      <td>1600</td>\n",
       "      <td>7097.756875</td>\n",
       "      <td>6325</td>\n",
       "      <td>1</td>\n",
       "      <td>29777</td>\n",
       "    </tr>\n",
       "    <tr>\n",
       "      <th>noinfo</th>\n",
       "      <td>2142</td>\n",
       "      <td>6939.536881</td>\n",
       "      <td>5995</td>\n",
       "      <td>1</td>\n",
       "      <td>32999</td>\n",
       "    </tr>\n",
       "    <tr>\n",
       "      <th>orange</th>\n",
       "      <td>9</td>\n",
       "      <td>10593.888889</td>\n",
       "      <td>8902</td>\n",
       "      <td>1950</td>\n",
       "      <td>21900</td>\n",
       "    </tr>\n",
       "    <tr>\n",
       "      <th>purple</th>\n",
       "      <td>23</td>\n",
       "      <td>6229.217391</td>\n",
       "      <td>5495</td>\n",
       "      <td>750</td>\n",
       "      <td>13991</td>\n",
       "    </tr>\n",
       "    <tr>\n",
       "      <th>red</th>\n",
       "      <td>926</td>\n",
       "      <td>6987.488121</td>\n",
       "      <td>5995</td>\n",
       "      <td>1</td>\n",
       "      <td>25390</td>\n",
       "    </tr>\n",
       "    <tr>\n",
       "      <th>silver</th>\n",
       "      <td>2017</td>\n",
       "      <td>6841.763014</td>\n",
       "      <td>5990</td>\n",
       "      <td>12</td>\n",
       "      <td>25995</td>\n",
       "    </tr>\n",
       "    <tr>\n",
       "      <th>white</th>\n",
       "      <td>1470</td>\n",
       "      <td>7482.189796</td>\n",
       "      <td>6700</td>\n",
       "      <td>1</td>\n",
       "      <td>31000</td>\n",
       "    </tr>\n",
       "    <tr>\n",
       "      <th>yellow</th>\n",
       "      <td>21</td>\n",
       "      <td>5087.238095</td>\n",
       "      <td>3750</td>\n",
       "      <td>299</td>\n",
       "      <td>30999</td>\n",
       "    </tr>\n",
       "  </tbody>\n",
       "</table>\n",
       "</div>"
      ],
      "text/plain": [
       "            count          mean median   min    max\n",
       "            price         price  price price  price\n",
       "paint_color                                        \n",
       "black        1747   7561.970807   6950     1  32999\n",
       "blue         1211   6572.038811   5750     1  25947\n",
       "brown         250   5314.700000   4498   800  22199\n",
       "custom        291   6401.993127   5495     1  23995\n",
       "green         201   4795.412935   3900     1  17999\n",
       "grey         1600   7097.756875   6325     1  29777\n",
       "noinfo       2142   6939.536881   5995     1  32999\n",
       "orange          9  10593.888889   8902  1950  21900\n",
       "purple         23   6229.217391   5495   750  13991\n",
       "red           926   6987.488121   5995     1  25390\n",
       "silver       2017   6841.763014   5990    12  25995\n",
       "white        1470   7482.189796   6700     1  31000\n",
       "yellow         21   5087.238095   3750   299  30999"
      ]
     },
     "execution_count": 107,
     "metadata": {},
     "output_type": "execute_result"
    }
   ],
   "source": [
    "df_filtered_sedan.pivot_table(index='paint_color', values='price', aggfunc=['count','mean', 'median', 'min', 'max'])"
   ]
  },
  {
   "cell_type": "code",
   "execution_count": 108,
   "metadata": {
    "scrolled": true
   },
   "outputs": [
    {
     "data": {
      "text/html": [
       "<div>\n",
       "<style scoped>\n",
       "    .dataframe tbody tr th:only-of-type {\n",
       "        vertical-align: middle;\n",
       "    }\n",
       "\n",
       "    .dataframe tbody tr th {\n",
       "        vertical-align: top;\n",
       "    }\n",
       "\n",
       "    .dataframe thead tr th {\n",
       "        text-align: left;\n",
       "    }\n",
       "\n",
       "    .dataframe thead tr:last-of-type th {\n",
       "        text-align: right;\n",
       "    }\n",
       "</style>\n",
       "<table border=\"1\" class=\"dataframe\">\n",
       "  <thead>\n",
       "    <tr>\n",
       "      <th></th>\n",
       "      <th>count</th>\n",
       "      <th>mean</th>\n",
       "      <th>median</th>\n",
       "      <th>min</th>\n",
       "      <th>max</th>\n",
       "    </tr>\n",
       "    <tr>\n",
       "      <th></th>\n",
       "      <th>price</th>\n",
       "      <th>price</th>\n",
       "      <th>price</th>\n",
       "      <th>price</th>\n",
       "      <th>price</th>\n",
       "    </tr>\n",
       "    <tr>\n",
       "      <th>paint_color</th>\n",
       "      <th></th>\n",
       "      <th></th>\n",
       "      <th></th>\n",
       "      <th></th>\n",
       "      <th></th>\n",
       "    </tr>\n",
       "  </thead>\n",
       "  <tbody>\n",
       "    <tr>\n",
       "      <th>black</th>\n",
       "      <td>2084</td>\n",
       "      <td>12193.547025</td>\n",
       "      <td>10994.5</td>\n",
       "      <td>1</td>\n",
       "      <td>35000</td>\n",
       "    </tr>\n",
       "    <tr>\n",
       "      <th>blue</th>\n",
       "      <td>1008</td>\n",
       "      <td>8559.313492</td>\n",
       "      <td>6992.5</td>\n",
       "      <td>1</td>\n",
       "      <td>34988</td>\n",
       "    </tr>\n",
       "    <tr>\n",
       "      <th>brown</th>\n",
       "      <td>352</td>\n",
       "      <td>8768.778409</td>\n",
       "      <td>7488.0</td>\n",
       "      <td>500</td>\n",
       "      <td>34988</td>\n",
       "    </tr>\n",
       "    <tr>\n",
       "      <th>custom</th>\n",
       "      <td>297</td>\n",
       "      <td>9306.690236</td>\n",
       "      <td>7999.0</td>\n",
       "      <td>1</td>\n",
       "      <td>35000</td>\n",
       "    </tr>\n",
       "    <tr>\n",
       "      <th>green</th>\n",
       "      <td>406</td>\n",
       "      <td>8239.926108</td>\n",
       "      <td>6447.5</td>\n",
       "      <td>1</td>\n",
       "      <td>25950</td>\n",
       "    </tr>\n",
       "    <tr>\n",
       "      <th>grey</th>\n",
       "      <td>1147</td>\n",
       "      <td>10480.613775</td>\n",
       "      <td>8500.0</td>\n",
       "      <td>1</td>\n",
       "      <td>34994</td>\n",
       "    </tr>\n",
       "    <tr>\n",
       "      <th>noinfo</th>\n",
       "      <td>2140</td>\n",
       "      <td>10607.950000</td>\n",
       "      <td>8800.0</td>\n",
       "      <td>1</td>\n",
       "      <td>35000</td>\n",
       "    </tr>\n",
       "    <tr>\n",
       "      <th>orange</th>\n",
       "      <td>81</td>\n",
       "      <td>15041.222222</td>\n",
       "      <td>16900.0</td>\n",
       "      <td>900</td>\n",
       "      <td>30000</td>\n",
       "    </tr>\n",
       "    <tr>\n",
       "      <th>purple</th>\n",
       "      <td>38</td>\n",
       "      <td>7240.000000</td>\n",
       "      <td>5550.0</td>\n",
       "      <td>1000</td>\n",
       "      <td>28000</td>\n",
       "    </tr>\n",
       "    <tr>\n",
       "      <th>red</th>\n",
       "      <td>865</td>\n",
       "      <td>9688.313295</td>\n",
       "      <td>7850.0</td>\n",
       "      <td>1</td>\n",
       "      <td>34999</td>\n",
       "    </tr>\n",
       "    <tr>\n",
       "      <th>silver</th>\n",
       "      <td>1528</td>\n",
       "      <td>9939.357984</td>\n",
       "      <td>8397.5</td>\n",
       "      <td>1</td>\n",
       "      <td>34995</td>\n",
       "    </tr>\n",
       "    <tr>\n",
       "      <th>white</th>\n",
       "      <td>1869</td>\n",
       "      <td>11485.351525</td>\n",
       "      <td>9900.0</td>\n",
       "      <td>1</td>\n",
       "      <td>35000</td>\n",
       "    </tr>\n",
       "    <tr>\n",
       "      <th>yellow</th>\n",
       "      <td>45</td>\n",
       "      <td>14218.800000</td>\n",
       "      <td>13488.0</td>\n",
       "      <td>500</td>\n",
       "      <td>29997</td>\n",
       "    </tr>\n",
       "  </tbody>\n",
       "</table>\n",
       "</div>"
      ],
      "text/plain": [
       "            count          mean   median   min    max\n",
       "            price         price    price price  price\n",
       "paint_color                                          \n",
       "black        2084  12193.547025  10994.5     1  35000\n",
       "blue         1008   8559.313492   6992.5     1  34988\n",
       "brown         352   8768.778409   7488.0   500  34988\n",
       "custom        297   9306.690236   7999.0     1  35000\n",
       "green         406   8239.926108   6447.5     1  25950\n",
       "grey         1147  10480.613775   8500.0     1  34994\n",
       "noinfo       2140  10607.950000   8800.0     1  35000\n",
       "orange         81  15041.222222  16900.0   900  30000\n",
       "purple         38   7240.000000   5550.0  1000  28000\n",
       "red           865   9688.313295   7850.0     1  34999\n",
       "silver       1528   9939.357984   8397.5     1  34995\n",
       "white        1869  11485.351525   9900.0     1  35000\n",
       "yellow         45  14218.800000  13488.0   500  29997"
      ]
     },
     "execution_count": 108,
     "metadata": {},
     "output_type": "execute_result"
    }
   ],
   "source": [
    "df_filtered_SUV.pivot_table(index='paint_color', values='price', aggfunc=['count','mean', 'median', 'min', 'max'])"
   ]
  },
  {
   "cell_type": "code",
   "execution_count": 120,
   "metadata": {
    "scrolled": true
   },
   "outputs": [
    {
     "data": {
      "image/png": "[encoded data removed]",
      "text/plain": [
       "<Figure size 432x288 with 1 Axes>"
      ]
     },
     "metadata": {
      "needs_background": "light"
     },
     "output_type": "display_data"
    }
   ],
   "source": [
    "df_filtered_sedan.query(\"paint_color != 'orange' and paint_color != 'yellow'\").boxplot(column='price', by='paint_color')\n",
    "plt.show()"
   ]
  },
  {
   "cell_type": "code",
   "execution_count": 121,
   "metadata": {
    "scrolled": false
   },
   "outputs": [
    {
     "data": {
      "image/png": "[encoded data removed]",
      "text/plain": [
       "<Figure size 432x288 with 1 Axes>"
      ]
     },
     "metadata": {
      "needs_background": "light"
     },
     "output_type": "display_data"
    }
   ],
   "source": [
    "df_filtered_SUV.query(\"paint_color != 'purple' and paint_color != 'yellow'\").boxplot(column='price', by='paint_color')\n",
    "plt.show()"
   ]
  },
  {
   "cell_type": "markdown",
   "metadata": {},
   "source": [
    "For sedans - yellow and orange are out of scope. So black is becoming the most expensive. For SUVs colors - yellow and purple has less than 50 positions. So the most expensive group is orange color. Most popular and second in price range is black."
   ]
  },
  {
   "cell_type": "markdown",
   "metadata": {},
   "source": [
    "## Overall conclusion"
   ]
  },
  {
   "cell_type": "markdown",
   "metadata": {},
   "source": [
    "Data consists of advertisements for car sales in 2018-2019. Most advertisements were displayed (days_listed) from 10 days to 2.5 months. Mean is 39,5 days, median - 33. Standard deviation - 28. An only a small number of ads were displayed in less than a week or more than 3 months. At the same time, there are advertisements, which were placed about the same car, few times(same description + same odometer not the equal rounded number). This means that in fact, more cars were on sale for a longer period.\n",
    "After cleaning data from missing and cutting outliers, it decreased by 9%. Data types mainly were converted from float to int, as data in columns - whole numbers. Plus-type of drive converted to boolean, as we can see frow data, there were no options like front/full/rear, just full - yes or no.\n",
    "Deleting outliers helped to make histograms look more clear.\n",
    "The main price range is 2000 - 22000. A clear positive correlation of price is seen with model_year and negative with the odometer. The younger a car, the higher price. The more kilometers on the odometer - the lower price.\n",
    "The two most popular types are SUVs and sedans, even in the case of grouping together wagon+van+mini-van nothing changes. Different parameters in these two groups shows similar correlation.\n",
    "Paint color is not the main part of the car price, but we can see some dependence. Two colors - yellow and purple has less than 50 positions for SUV, so are not taken into account. So the most expensive group for SUV is orange color, for the sedan - too fewer cars. The most popular and second in the price range for SUVs is black, for sedans black is in the 1st place."
   ]
  }
 ],
 "metadata": {
  "ExecuteTimeLog": [
   {
    "duration": 408,
    "start_time": "2021-10-22T08:49:06.075Z"
   },
   {
    "duration": 369,
    "start_time": "2021-10-22T08:49:14.682Z"
   },
   {
    "duration": 638,
    "start_time": "2021-10-22T08:49:50.877Z"
   },
   {
    "duration": 3748,
    "start_time": "2021-10-22T08:49:59.321Z"
   },
   {
    "duration": 91,
    "start_time": "2021-10-22T08:50:21.649Z"
   },
   {
    "duration": 141,
    "start_time": "2021-10-22T08:50:43.125Z"
   },
   {
    "duration": 139,
    "start_time": "2021-10-22T08:52:26.783Z"
   },
   {
    "duration": 19,
    "start_time": "2021-10-22T08:52:51.588Z"
   },
   {
    "duration": 37,
    "start_time": "2021-10-22T08:52:59.561Z"
   },
   {
    "duration": 185,
    "start_time": "2021-10-22T09:04:26.298Z"
   },
   {
    "duration": 122,
    "start_time": "2021-10-22T09:04:33.192Z"
   },
   {
    "duration": 436,
    "start_time": "2021-10-22T12:58:13.386Z"
   },
   {
    "duration": 348,
    "start_time": "2021-10-22T12:58:18.685Z"
   },
   {
    "duration": 993,
    "start_time": "2021-10-22T12:58:25.736Z"
   },
   {
    "duration": 4,
    "start_time": "2021-10-22T12:58:30.271Z"
   },
   {
    "duration": 187,
    "start_time": "2021-10-22T12:58:31.981Z"
   },
   {
    "duration": 378,
    "start_time": "2021-10-22T12:58:36.060Z"
   },
   {
    "duration": 13,
    "start_time": "2021-10-22T12:58:48.495Z"
   },
   {
    "duration": 129,
    "start_time": "2021-10-22T13:01:48.776Z"
   },
   {
    "duration": 427,
    "start_time": "2021-10-22T13:01:56.926Z"
   },
   {
    "duration": 12,
    "start_time": "2021-10-22T13:02:03.298Z"
   },
   {
    "duration": 5,
    "start_time": "2021-10-22T13:10:43.332Z"
   },
   {
    "duration": 15,
    "start_time": "2021-10-22T13:10:56.576Z"
   },
   {
    "duration": 58,
    "start_time": "2021-10-22T13:11:31.445Z"
   },
   {
    "duration": 8,
    "start_time": "2021-10-22T13:12:05.705Z"
   },
   {
    "duration": 31,
    "start_time": "2021-10-22T13:14:00.153Z"
   },
   {
    "duration": 34,
    "start_time": "2021-10-22T13:14:32.390Z"
   },
   {
    "duration": 411,
    "start_time": "2021-10-22T13:16:19.532Z"
   },
   {
    "duration": 3,
    "start_time": "2021-10-22T13:17:15.082Z"
   },
   {
    "duration": 45,
    "start_time": "2021-10-22T13:17:19.970Z"
   },
   {
    "duration": 418,
    "start_time": "2021-10-22T13:17:48.152Z"
   },
   {
    "duration": 393,
    "start_time": "2021-10-22T13:18:43.688Z"
   },
   {
    "duration": 1511,
    "start_time": "2021-10-22T13:18:56.360Z"
   },
   {
    "duration": 415,
    "start_time": "2021-10-22T13:19:20.469Z"
   },
   {
    "duration": 8,
    "start_time": "2021-10-22T13:30:39.070Z"
   },
   {
    "duration": 369,
    "start_time": "2021-10-22T13:30:57.957Z"
   },
   {
    "duration": 9,
    "start_time": "2021-10-22T13:31:52.428Z"
   },
   {
    "duration": 9,
    "start_time": "2021-10-22T13:32:02.831Z"
   },
   {
    "duration": 9,
    "start_time": "2021-10-22T13:32:11.828Z"
   },
   {
    "duration": 3,
    "start_time": "2021-10-22T13:32:20.655Z"
   },
   {
    "duration": 5,
    "start_time": "2021-10-22T13:32:29.304Z"
   },
   {
    "duration": 10,
    "start_time": "2021-10-22T13:32:46.684Z"
   },
   {
    "duration": 964,
    "start_time": "2021-10-24T12:00:20.320Z"
   },
   {
    "duration": 302,
    "start_time": "2021-10-24T12:01:05.832Z"
   },
   {
    "duration": 4,
    "start_time": "2021-10-24T12:01:16.788Z"
   },
   {
    "duration": 183,
    "start_time": "2021-10-24T12:01:18.742Z"
   },
   {
    "duration": 41,
    "start_time": "2021-10-24T12:01:22.438Z"
   },
   {
    "duration": 65,
    "start_time": "2021-10-24T12:01:24.878Z"
   },
   {
    "duration": 225,
    "start_time": "2021-10-24T12:02:04.188Z"
   },
   {
    "duration": 13,
    "start_time": "2021-10-24T12:03:09.377Z"
   },
   {
    "duration": 16,
    "start_time": "2021-10-24T12:26:07.409Z"
   },
   {
    "duration": -102,
    "start_time": "2021-10-24T12:39:32.710Z"
   },
   {
    "duration": 5234,
    "start_time": "2021-10-24T12:39:45.000Z"
   },
   {
    "duration": 7,
    "start_time": "2021-10-24T12:39:56.408Z"
   },
   {
    "duration": 11,
    "start_time": "2021-10-24T12:40:25.650Z"
   },
   {
    "duration": 18,
    "start_time": "2021-10-24T12:41:48.455Z"
   },
   {
    "duration": 7,
    "start_time": "2021-10-24T12:42:30.203Z"
   },
   {
    "duration": 15,
    "start_time": "2021-10-24T12:43:22.247Z"
   },
   {
    "duration": 11,
    "start_time": "2021-10-24T12:44:09.189Z"
   },
   {
    "duration": 11,
    "start_time": "2021-10-24T12:44:21.174Z"
   },
   {
    "duration": 23,
    "start_time": "2021-10-24T12:45:02.738Z"
   },
   {
    "duration": 11,
    "start_time": "2021-10-24T12:45:24.769Z"
   },
   {
    "duration": 57,
    "start_time": "2021-10-24T12:55:49.616Z"
   },
   {
    "duration": 8,
    "start_time": "2021-10-24T12:56:12.561Z"
   },
   {
    "duration": 11,
    "start_time": "2021-10-24T12:57:38.040Z"
   },
   {
    "duration": 11,
    "start_time": "2021-10-24T12:57:58.618Z"
   },
   {
    "duration": 12,
    "start_time": "2021-10-24T12:58:12.697Z"
   },
   {
    "duration": 13,
    "start_time": "2021-10-24T12:58:20.820Z"
   },
   {
    "duration": 11,
    "start_time": "2021-10-24T12:58:45.484Z"
   },
   {
    "duration": 11,
    "start_time": "2021-10-24T12:58:55.050Z"
   },
   {
    "duration": 11,
    "start_time": "2021-10-24T12:58:59.438Z"
   },
   {
    "duration": 12,
    "start_time": "2021-10-24T12:59:03.799Z"
   },
   {
    "duration": 46,
    "start_time": "2021-10-24T14:05:56.196Z"
   },
   {
    "duration": 43,
    "start_time": "2021-10-24T14:06:19.554Z"
   },
   {
    "duration": 44,
    "start_time": "2021-10-24T14:07:34.185Z"
   },
   {
    "duration": 71,
    "start_time": "2021-10-24T14:07:52.472Z"
   },
   {
    "duration": 51,
    "start_time": "2021-10-24T14:10:19.119Z"
   },
   {
    "duration": 46,
    "start_time": "2021-10-24T14:10:37.375Z"
   },
   {
    "duration": 44,
    "start_time": "2021-10-24T14:11:22.381Z"
   },
   {
    "duration": 48,
    "start_time": "2021-10-24T14:14:13.160Z"
   },
   {
    "duration": 19,
    "start_time": "2021-10-24T14:20:47.679Z"
   },
   {
    "duration": 19,
    "start_time": "2021-10-24T14:20:54.063Z"
   },
   {
    "duration": 30,
    "start_time": "2021-10-24T14:21:11.220Z"
   },
   {
    "duration": 20,
    "start_time": "2021-10-24T14:21:26.320Z"
   },
   {
    "duration": 26,
    "start_time": "2021-10-24T14:22:27.572Z"
   },
   {
    "duration": 12,
    "start_time": "2021-10-24T14:28:50.654Z"
   },
   {
    "duration": 14,
    "start_time": "2021-10-24T14:33:36.980Z"
   },
   {
    "duration": 16,
    "start_time": "2021-10-24T14:33:47.250Z"
   },
   {
    "duration": 10,
    "start_time": "2021-10-24T14:34:11.559Z"
   },
   {
    "duration": 25,
    "start_time": "2021-10-24T14:34:43.737Z"
   },
   {
    "duration": 39,
    "start_time": "2021-10-24T14:39:23.022Z"
   },
   {
    "duration": 27,
    "start_time": "2021-10-24T14:40:15.065Z"
   },
   {
    "duration": 181,
    "start_time": "2021-10-24T14:47:18.964Z"
   },
   {
    "duration": 246,
    "start_time": "2021-10-24T14:48:50.852Z"
   },
   {
    "duration": 35,
    "start_time": "2021-10-24T14:49:18.850Z"
   },
   {
    "duration": 52,
    "start_time": "2021-10-24T14:49:35.535Z"
   },
   {
    "duration": 151,
    "start_time": "2021-10-24T14:51:19.466Z"
   },
   {
    "duration": 20,
    "start_time": "2021-10-24T15:00:08.980Z"
   },
   {
    "duration": 25,
    "start_time": "2021-10-24T15:00:47.309Z"
   },
   {
    "duration": 36,
    "start_time": "2021-10-24T15:02:17.819Z"
   },
   {
    "duration": 6,
    "start_time": "2021-10-24T15:03:34.613Z"
   },
   {
    "duration": 49,
    "start_time": "2021-10-24T15:04:25.048Z"
   },
   {
    "duration": 43,
    "start_time": "2021-10-24T15:05:47.716Z"
   },
   {
    "duration": 17,
    "start_time": "2021-10-24T15:19:05.709Z"
   },
   {
    "duration": 610,
    "start_time": "2021-10-25T11:33:12.102Z"
   },
   {
    "duration": 89,
    "start_time": "2021-10-25T11:33:13.947Z"
   },
   {
    "duration": 20,
    "start_time": "2021-10-25T11:33:16.996Z"
   },
   {
    "duration": 41,
    "start_time": "2021-10-25T11:33:19.162Z"
   },
   {
    "duration": 10,
    "start_time": "2021-10-25T11:33:22.000Z"
   },
   {
    "duration": 3,
    "start_time": "2021-10-25T11:33:29.171Z"
   },
   {
    "duration": 20,
    "start_time": "2021-10-25T11:33:32.396Z"
   },
   {
    "duration": 11,
    "start_time": "2021-10-25T11:33:50.637Z"
   },
   {
    "duration": 19,
    "start_time": "2021-10-25T11:33:52.620Z"
   },
   {
    "duration": 8,
    "start_time": "2021-10-25T11:33:57.736Z"
   },
   {
    "duration": 28,
    "start_time": "2021-10-25T11:34:05.062Z"
   },
   {
    "duration": 8,
    "start_time": "2021-10-25T11:34:07.759Z"
   },
   {
    "duration": 11,
    "start_time": "2021-10-25T11:38:11.037Z"
   },
   {
    "duration": 10,
    "start_time": "2021-10-25T11:38:22.655Z"
   },
   {
    "duration": 10,
    "start_time": "2021-10-25T11:38:34.778Z"
   },
   {
    "duration": 9,
    "start_time": "2021-10-25T11:38:39.394Z"
   },
   {
    "duration": 17,
    "start_time": "2021-10-25T11:39:01.879Z"
   },
   {
    "duration": 13,
    "start_time": "2021-10-25T11:39:07.381Z"
   },
   {
    "duration": 13,
    "start_time": "2021-10-25T11:39:24.765Z"
   },
   {
    "duration": 5,
    "start_time": "2021-10-25T11:39:26.829Z"
   },
   {
    "duration": 28,
    "start_time": "2021-10-25T11:39:30.420Z"
   },
   {
    "duration": 14,
    "start_time": "2021-10-25T11:40:04.766Z"
   },
   {
    "duration": 22,
    "start_time": "2021-10-25T11:41:11.816Z"
   },
   {
    "duration": 5,
    "start_time": "2021-10-25T11:41:14.529Z"
   },
   {
    "duration": 9,
    "start_time": "2021-10-25T11:41:15.689Z"
   },
   {
    "duration": 22,
    "start_time": "2021-10-25T11:41:18.732Z"
   },
   {
    "duration": 59,
    "start_time": "2021-10-25T11:41:28.609Z"
   },
   {
    "duration": 59,
    "start_time": "2021-10-25T11:41:37.827Z"
   },
   {
    "duration": 63,
    "start_time": "2021-10-25T11:41:46.694Z"
   },
   {
    "duration": 34,
    "start_time": "2021-10-25T11:41:56.176Z"
   },
   {
    "duration": 21,
    "start_time": "2021-10-25T11:42:00.815Z"
   },
   {
    "duration": 21,
    "start_time": "2021-10-25T11:42:43.653Z"
   },
   {
    "duration": 18,
    "start_time": "2021-10-25T11:43:01.768Z"
   },
   {
    "duration": 17,
    "start_time": "2021-10-25T11:43:06.410Z"
   },
   {
    "duration": 17,
    "start_time": "2021-10-25T11:46:42.974Z"
   },
   {
    "duration": 17,
    "start_time": "2021-10-25T11:46:46.939Z"
   },
   {
    "duration": 31,
    "start_time": "2021-10-25T11:46:59.172Z"
   },
   {
    "duration": 31,
    "start_time": "2021-10-25T11:47:11.075Z"
   },
   {
    "duration": 32,
    "start_time": "2021-10-25T11:47:16.053Z"
   },
   {
    "duration": 32,
    "start_time": "2021-10-25T11:48:30.439Z"
   },
   {
    "duration": 8,
    "start_time": "2021-10-25T11:48:44.300Z"
   },
   {
    "duration": 12,
    "start_time": "2021-10-25T11:49:10.562Z"
   },
   {
    "duration": 11,
    "start_time": "2021-10-25T11:49:15.724Z"
   },
   {
    "duration": 7,
    "start_time": "2021-10-25T11:53:26.012Z"
   },
   {
    "duration": 9,
    "start_time": "2021-10-25T11:53:45.276Z"
   },
   {
    "duration": 5,
    "start_time": "2021-10-25T11:53:49.317Z"
   },
   {
    "duration": 9,
    "start_time": "2021-10-25T11:53:52.215Z"
   },
   {
    "duration": 11,
    "start_time": "2021-10-25T11:53:54.655Z"
   },
   {
    "duration": 8,
    "start_time": "2021-10-25T11:53:57.147Z"
   },
   {
    "duration": 9,
    "start_time": "2021-10-25T11:54:00.631Z"
   },
   {
    "duration": 9,
    "start_time": "2021-10-25T11:54:02.971Z"
   },
   {
    "duration": 18,
    "start_time": "2021-10-25T11:54:06.078Z"
   },
   {
    "duration": 26,
    "start_time": "2021-10-25T11:54:14.658Z"
   },
   {
    "duration": 10,
    "start_time": "2021-10-25T11:54:17.517Z"
   },
   {
    "duration": 69,
    "start_time": "2021-10-25T11:54:22.720Z"
   },
   {
    "duration": 17,
    "start_time": "2021-10-25T11:54:25.676Z"
   },
   {
    "duration": 4,
    "start_time": "2021-10-25T11:54:28.781Z"
   },
   {
    "duration": 22,
    "start_time": "2021-10-25T11:54:30.983Z"
   },
   {
    "duration": 7,
    "start_time": "2021-10-25T11:54:34.541Z"
   },
   {
    "duration": 7,
    "start_time": "2021-10-25T11:54:42.056Z"
   },
   {
    "duration": 19,
    "start_time": "2021-10-25T11:54:59.839Z"
   },
   {
    "duration": 23,
    "start_time": "2021-10-25T11:55:11.817Z"
   },
   {
    "duration": 23,
    "start_time": "2021-10-25T11:56:16.849Z"
   },
   {
    "duration": 23,
    "start_time": "2021-10-25T11:57:20.367Z"
   },
   {
    "duration": 24,
    "start_time": "2021-10-25T11:57:26.833Z"
   },
   {
    "duration": 857,
    "start_time": "2021-10-25T16:45:43.478Z"
   },
   {
    "duration": 124,
    "start_time": "2021-10-25T16:45:44.338Z"
   },
   {
    "duration": 27,
    "start_time": "2021-10-25T16:45:44.721Z"
   },
   {
    "duration": 58,
    "start_time": "2021-10-25T16:45:44.948Z"
   },
   {
    "duration": 13,
    "start_time": "2021-10-25T16:45:45.219Z"
   },
   {
    "duration": 3,
    "start_time": "2021-10-25T16:45:45.331Z"
   },
   {
    "duration": 4,
    "start_time": "2021-10-25T16:45:46.117Z"
   },
   {
    "duration": 27,
    "start_time": "2021-10-25T16:45:46.640Z"
   },
   {
    "duration": 20,
    "start_time": "2021-10-25T16:45:47.419Z"
   },
   {
    "duration": 26,
    "start_time": "2021-10-25T16:45:47.635Z"
   },
   {
    "duration": 11,
    "start_time": "2021-10-25T16:45:47.850Z"
   },
   {
    "duration": 37,
    "start_time": "2021-10-25T16:45:48.246Z"
   },
   {
    "duration": 13,
    "start_time": "2021-10-25T16:45:48.614Z"
   },
   {
    "duration": 8,
    "start_time": "2021-10-25T16:45:48.990Z"
   },
   {
    "duration": 12,
    "start_time": "2021-10-25T16:45:49.198Z"
   },
   {
    "duration": 17,
    "start_time": "2021-10-25T16:45:49.386Z"
   },
   {
    "duration": 17,
    "start_time": "2021-10-25T16:45:49.752Z"
   },
   {
    "duration": 11,
    "start_time": "2021-10-25T16:45:50.156Z"
   },
   {
    "duration": 12,
    "start_time": "2021-10-25T16:45:50.556Z"
   },
   {
    "duration": 27,
    "start_time": "2021-10-25T16:45:50.942Z"
   },
   {
    "duration": 45,
    "start_time": "2021-10-25T16:45:51.147Z"
   },
   {
    "duration": 17,
    "start_time": "2021-10-25T16:45:51.368Z"
   },
   {
    "duration": 123,
    "start_time": "2021-10-25T16:45:55.542Z"
   },
   {
    "duration": 118,
    "start_time": "2021-10-25T16:45:56.123Z"
   },
   {
    "duration": 26,
    "start_time": "2021-10-25T16:46:00.788Z"
   },
   {
    "duration": 7,
    "start_time": "2021-10-25T16:46:01.213Z"
   },
   {
    "duration": 40,
    "start_time": "2021-10-25T16:46:02.247Z"
   },
   {
    "duration": 34,
    "start_time": "2021-10-25T16:46:04.830Z"
   },
   {
    "duration": 4,
    "start_time": "2021-10-25T16:48:31.583Z"
   },
   {
    "duration": 133,
    "start_time": "2021-10-25T16:48:33.889Z"
   },
   {
    "duration": 4,
    "start_time": "2021-10-25T16:48:57.803Z"
   },
   {
    "duration": 29,
    "start_time": "2021-10-25T16:48:59.747Z"
   },
   {
    "duration": 16,
    "start_time": "2021-10-25T16:49:24.515Z"
   },
   {
    "duration": 27,
    "start_time": "2021-10-25T16:49:27.166Z"
   },
   {
    "duration": 13,
    "start_time": "2021-10-25T16:49:31.707Z"
   },
   {
    "duration": 39,
    "start_time": "2021-10-25T16:49:35.821Z"
   },
   {
    "duration": 14,
    "start_time": "2021-10-25T16:49:44.315Z"
   },
   {
    "duration": 34,
    "start_time": "2021-10-25T16:49:56.408Z"
   },
   {
    "duration": 348,
    "start_time": "2021-10-25T16:50:15.568Z"
   },
   {
    "duration": 37,
    "start_time": "2021-10-25T16:51:05.540Z"
   },
   {
    "duration": 19,
    "start_time": "2021-10-25T16:52:11.693Z"
   },
   {
    "duration": 18,
    "start_time": "2021-10-25T16:52:24.145Z"
   },
   {
    "duration": 18,
    "start_time": "2021-10-25T16:52:41.231Z"
   },
   {
    "duration": 18,
    "start_time": "2021-10-25T16:53:10.472Z"
   },
   {
    "duration": 19,
    "start_time": "2021-10-25T16:53:19.403Z"
   },
   {
    "duration": 17,
    "start_time": "2021-10-25T16:53:47.207Z"
   },
   {
    "duration": 32,
    "start_time": "2021-10-25T17:09:42.126Z"
   },
   {
    "duration": 13,
    "start_time": "2021-10-25T17:11:17.384Z"
   },
   {
    "duration": 27,
    "start_time": "2021-10-25T17:14:13.653Z"
   },
   {
    "duration": 23,
    "start_time": "2021-10-25T17:14:35.728Z"
   },
   {
    "duration": 1279,
    "start_time": "2021-10-26T12:40:58.030Z"
   },
   {
    "duration": 177,
    "start_time": "2021-10-26T12:40:59.313Z"
   },
   {
    "duration": 44,
    "start_time": "2021-10-26T12:40:59.495Z"
   },
   {
    "duration": 98,
    "start_time": "2021-10-26T12:40:59.543Z"
   },
   {
    "duration": 28,
    "start_time": "2021-10-26T12:40:59.644Z"
   },
   {
    "duration": 4,
    "start_time": "2021-10-26T12:40:59.675Z"
   },
   {
    "duration": 8,
    "start_time": "2021-10-26T12:40:59.681Z"
   },
   {
    "duration": 69,
    "start_time": "2021-10-26T12:40:59.693Z"
   },
   {
    "duration": 18,
    "start_time": "2021-10-26T12:40:59.765Z"
   },
   {
    "duration": 27,
    "start_time": "2021-10-26T12:40:59.785Z"
   },
   {
    "duration": 11,
    "start_time": "2021-10-26T12:40:59.814Z"
   },
   {
    "duration": 40,
    "start_time": "2021-10-26T12:40:59.859Z"
   },
   {
    "duration": 58,
    "start_time": "2021-10-26T12:40:59.901Z"
   },
   {
    "duration": 7,
    "start_time": "2021-10-26T12:40:59.962Z"
   },
   {
    "duration": 20,
    "start_time": "2021-10-26T12:40:59.971Z"
   },
   {
    "duration": 23,
    "start_time": "2021-10-26T12:40:59.994Z"
   },
   {
    "duration": 64,
    "start_time": "2021-10-26T12:41:00.021Z"
   },
   {
    "duration": 18,
    "start_time": "2021-10-26T12:41:00.088Z"
   },
   {
    "duration": 16,
    "start_time": "2021-10-26T12:41:00.109Z"
   },
   {
    "duration": 43,
    "start_time": "2021-10-26T12:41:00.158Z"
   },
   {
    "duration": 87,
    "start_time": "2021-10-26T12:41:00.205Z"
   },
   {
    "duration": 25,
    "start_time": "2021-10-26T12:41:00.295Z"
   },
   {
    "duration": 120,
    "start_time": "2021-10-26T12:41:00.327Z"
   },
   {
    "duration": -14,
    "start_time": "2021-10-26T12:41:00.464Z"
   },
   {
    "duration": -18,
    "start_time": "2021-10-26T12:41:00.470Z"
   },
   {
    "duration": -18,
    "start_time": "2021-10-26T12:41:00.471Z"
   },
   {
    "duration": -29,
    "start_time": "2021-10-26T12:41:00.484Z"
   },
   {
    "duration": -28,
    "start_time": "2021-10-26T12:41:00.485Z"
   },
   {
    "duration": -28,
    "start_time": "2021-10-26T12:41:00.486Z"
   },
   {
    "duration": -28,
    "start_time": "2021-10-26T12:41:00.488Z"
   },
   {
    "duration": -33,
    "start_time": "2021-10-26T12:41:00.494Z"
   },
   {
    "duration": -34,
    "start_time": "2021-10-26T12:41:00.496Z"
   },
   {
    "duration": -35,
    "start_time": "2021-10-26T12:41:00.499Z"
   },
   {
    "duration": -36,
    "start_time": "2021-10-26T12:41:00.501Z"
   },
   {
    "duration": 118,
    "start_time": "2021-10-26T12:48:44.544Z"
   },
   {
    "duration": 1055,
    "start_time": "2021-10-26T12:49:14.875Z"
   },
   {
    "duration": 633,
    "start_time": "2021-10-26T12:49:27.287Z"
   },
   {
    "duration": 651,
    "start_time": "2021-10-26T12:49:39.956Z"
   },
   {
    "duration": 114,
    "start_time": "2021-10-26T12:49:49.822Z"
   },
   {
    "duration": 86,
    "start_time": "2021-10-26T12:50:00.862Z"
   },
   {
    "duration": 106,
    "start_time": "2021-10-26T12:50:30.492Z"
   },
   {
    "duration": 78,
    "start_time": "2021-10-26T12:53:14.249Z"
   },
   {
    "duration": 84,
    "start_time": "2021-10-26T12:53:28.878Z"
   },
   {
    "duration": 736,
    "start_time": "2021-10-26T12:57:17.492Z"
   },
   {
    "duration": 9369,
    "start_time": "2021-10-26T12:57:39.160Z"
   },
   {
    "duration": 464,
    "start_time": "2021-10-26T12:58:22.285Z"
   },
   {
    "duration": 114,
    "start_time": "2021-10-26T12:58:34.808Z"
   },
   {
    "duration": 117,
    "start_time": "2021-10-26T13:00:44.092Z"
   },
   {
    "duration": 1026,
    "start_time": "2021-10-26T13:01:08.453Z"
   },
   {
    "duration": 134,
    "start_time": "2021-10-26T13:01:17.786Z"
   },
   {
    "duration": 117,
    "start_time": "2021-10-26T13:01:23.416Z"
   },
   {
    "duration": 120,
    "start_time": "2021-10-26T13:01:31.324Z"
   },
   {
    "duration": 115,
    "start_time": "2021-10-26T13:01:51.890Z"
   },
   {
    "duration": 464,
    "start_time": "2021-10-26T13:03:46.044Z"
   },
   {
    "duration": 83,
    "start_time": "2021-10-26T13:04:11.812Z"
   },
   {
    "duration": 4460,
    "start_time": "2021-10-26T13:06:37.432Z"
   },
   {
    "duration": 1785,
    "start_time": "2021-10-26T13:09:48.185Z"
   },
   {
    "duration": 800,
    "start_time": "2021-10-26T13:10:13.738Z"
   },
   {
    "duration": 651,
    "start_time": "2021-10-26T13:13:07.814Z"
   },
   {
    "duration": 708,
    "start_time": "2021-10-26T13:13:33.429Z"
   },
   {
    "duration": 426,
    "start_time": "2021-10-26T13:13:58.104Z"
   },
   {
    "duration": 454,
    "start_time": "2021-10-26T13:14:11.447Z"
   },
   {
    "duration": 466,
    "start_time": "2021-10-26T13:14:58.340Z"
   },
   {
    "duration": 647,
    "start_time": "2021-10-26T13:15:10.347Z"
   },
   {
    "duration": 540,
    "start_time": "2021-10-26T13:15:42.167Z"
   },
   {
    "duration": 108,
    "start_time": "2021-10-26T13:18:22.263Z"
   },
   {
    "duration": 3,
    "start_time": "2021-10-26T13:18:34.212Z"
   },
   {
    "duration": 26,
    "start_time": "2021-10-26T13:18:36.360Z"
   },
   {
    "duration": 5,
    "start_time": "2021-10-26T13:18:41.595Z"
   },
   {
    "duration": 12,
    "start_time": "2021-10-26T13:19:12.765Z"
   },
   {
    "duration": 27,
    "start_time": "2021-10-26T13:19:28.107Z"
   },
   {
    "duration": 32,
    "start_time": "2021-10-26T13:21:22.799Z"
   },
   {
    "duration": 11,
    "start_time": "2021-10-26T13:21:45.043Z"
   },
   {
    "duration": 31,
    "start_time": "2021-10-26T13:21:47.736Z"
   },
   {
    "duration": 36,
    "start_time": "2021-10-26T13:24:19.385Z"
   },
   {
    "duration": 28,
    "start_time": "2021-10-26T13:24:23.427Z"
   },
   {
    "duration": 29,
    "start_time": "2021-10-26T13:24:26.978Z"
   },
   {
    "duration": 32,
    "start_time": "2021-10-26T13:24:29.046Z"
   },
   {
    "duration": 35,
    "start_time": "2021-10-26T13:24:31.652Z"
   },
   {
    "duration": 4,
    "start_time": "2021-10-26T13:29:41.031Z"
   },
   {
    "duration": 22,
    "start_time": "2021-10-26T13:30:57.908Z"
   },
   {
    "duration": 16,
    "start_time": "2021-10-26T13:31:40.684Z"
   },
   {
    "duration": 2172,
    "start_time": "2021-10-26T13:31:54.259Z"
   },
   {
    "duration": 16,
    "start_time": "2021-10-26T13:31:57.001Z"
   },
   {
    "duration": 22,
    "start_time": "2021-10-26T13:32:22.223Z"
   },
   {
    "duration": 6,
    "start_time": "2021-10-26T13:32:34.977Z"
   },
   {
    "duration": 23,
    "start_time": "2021-10-26T13:32:43.908Z"
   },
   {
    "duration": -71,
    "start_time": "2021-10-26T13:35:34.283Z"
   },
   {
    "duration": -124,
    "start_time": "2021-10-26T13:35:51.693Z"
   },
   {
    "duration": -463,
    "start_time": "2021-10-26T13:36:06.543Z"
   },
   {
    "duration": -463,
    "start_time": "2021-10-26T13:36:06.545Z"
   },
   {
    "duration": 26,
    "start_time": "2021-10-26T13:45:23.084Z"
   },
   {
    "duration": 5,
    "start_time": "2021-10-26T13:45:31.206Z"
   },
   {
    "duration": 1182,
    "start_time": "2021-10-26T13:45:32.918Z"
   },
   {
    "duration": 32,
    "start_time": "2021-10-26T13:45:36.925Z"
   },
   {
    "duration": 288,
    "start_time": "2021-10-26T13:59:46.289Z"
   },
   {
    "duration": 443,
    "start_time": "2021-10-26T14:01:57.059Z"
   },
   {
    "duration": 2260,
    "start_time": "2021-10-26T14:02:34.053Z"
   },
   {
    "duration": 474,
    "start_time": "2021-10-26T14:03:05.158Z"
   },
   {
    "duration": 297,
    "start_time": "2021-10-26T14:03:29.374Z"
   },
   {
    "duration": 320,
    "start_time": "2021-10-26T14:11:57.428Z"
   },
   {
    "duration": 284,
    "start_time": "2021-10-26T14:12:12.679Z"
   },
   {
    "duration": 302,
    "start_time": "2021-10-26T14:12:52.527Z"
   },
   {
    "duration": 1463,
    "start_time": "2021-10-26T14:13:01.321Z"
   },
   {
    "duration": 812,
    "start_time": "2021-10-26T14:13:24.322Z"
   },
   {
    "duration": 890,
    "start_time": "2021-10-26T14:13:54.363Z"
   },
   {
    "duration": 859,
    "start_time": "2021-10-26T14:13:59.061Z"
   },
   {
    "duration": 312,
    "start_time": "2021-10-26T14:14:08.055Z"
   },
   {
    "duration": 378,
    "start_time": "2021-10-26T14:14:39.293Z"
   },
   {
    "duration": 350,
    "start_time": "2021-10-26T14:15:19.372Z"
   },
   {
    "duration": 265,
    "start_time": "2021-10-26T14:15:31.546Z"
   },
   {
    "duration": 892,
    "start_time": "2021-10-26T14:17:52.983Z"
   },
   {
    "duration": 120,
    "start_time": "2021-10-26T14:17:53.877Z"
   },
   {
    "duration": 25,
    "start_time": "2021-10-26T14:17:54.001Z"
   },
   {
    "duration": 63,
    "start_time": "2021-10-26T14:17:54.029Z"
   },
   {
    "duration": 15,
    "start_time": "2021-10-26T14:17:54.094Z"
   },
   {
    "duration": 11,
    "start_time": "2021-10-26T14:17:54.111Z"
   },
   {
    "duration": 11,
    "start_time": "2021-10-26T14:17:54.124Z"
   },
   {
    "duration": 44,
    "start_time": "2021-10-26T14:17:54.137Z"
   },
   {
    "duration": 17,
    "start_time": "2021-10-26T14:17:54.185Z"
   },
   {
    "duration": 25,
    "start_time": "2021-10-26T14:17:54.205Z"
   },
   {
    "duration": 18,
    "start_time": "2021-10-26T14:17:54.232Z"
   },
   {
    "duration": 48,
    "start_time": "2021-10-26T14:17:54.252Z"
   },
   {
    "duration": 38,
    "start_time": "2021-10-26T14:17:54.303Z"
   },
   {
    "duration": 6,
    "start_time": "2021-10-26T14:17:54.344Z"
   },
   {
    "duration": 31,
    "start_time": "2021-10-26T14:17:54.353Z"
   },
   {
    "duration": 20,
    "start_time": "2021-10-26T14:17:54.386Z"
   },
   {
    "duration": 24,
    "start_time": "2021-10-26T14:17:54.409Z"
   },
   {
    "duration": 12,
    "start_time": "2021-10-26T14:17:54.435Z"
   },
   {
    "duration": 17,
    "start_time": "2021-10-26T14:17:54.449Z"
   },
   {
    "duration": 30,
    "start_time": "2021-10-26T14:17:54.468Z"
   },
   {
    "duration": 43,
    "start_time": "2021-10-26T14:17:54.501Z"
   },
   {
    "duration": 19,
    "start_time": "2021-10-26T14:17:54.546Z"
   },
   {
    "duration": 3,
    "start_time": "2021-10-26T14:17:54.568Z"
   },
   {
    "duration": 14,
    "start_time": "2021-10-26T14:17:54.573Z"
   },
   {
    "duration": 31,
    "start_time": "2021-10-26T14:17:54.590Z"
   },
   {
    "duration": 5,
    "start_time": "2021-10-26T14:17:54.623Z"
   },
   {
    "duration": 40,
    "start_time": "2021-10-26T14:17:54.634Z"
   },
   {
    "duration": 10,
    "start_time": "2021-10-26T14:17:54.676Z"
   },
   {
    "duration": 10,
    "start_time": "2021-10-26T14:17:54.689Z"
   },
   {
    "duration": 26,
    "start_time": "2021-10-26T14:17:54.702Z"
   },
   {
    "duration": 3,
    "start_time": "2021-10-26T14:17:54.730Z"
   },
   {
    "duration": 137,
    "start_time": "2021-10-26T14:17:54.736Z"
   },
   {
    "duration": -1258,
    "start_time": "2021-10-26T14:17:56.133Z"
   },
   {
    "duration": -1261,
    "start_time": "2021-10-26T14:17:56.137Z"
   },
   {
    "duration": -1262,
    "start_time": "2021-10-26T14:17:56.139Z"
   },
   {
    "duration": -1262,
    "start_time": "2021-10-26T14:17:56.141Z"
   },
   {
    "duration": -1354,
    "start_time": "2021-10-26T14:17:56.234Z"
   },
   {
    "duration": -1367,
    "start_time": "2021-10-26T14:17:56.248Z"
   },
   {
    "duration": -1368,
    "start_time": "2021-10-26T14:17:56.250Z"
   },
   {
    "duration": -1371,
    "start_time": "2021-10-26T14:17:56.254Z"
   },
   {
    "duration": -1373,
    "start_time": "2021-10-26T14:17:56.257Z"
   },
   {
    "duration": -1373,
    "start_time": "2021-10-26T14:17:56.259Z"
   },
   {
    "duration": -1375,
    "start_time": "2021-10-26T14:17:56.262Z"
   },
   {
    "duration": -1377,
    "start_time": "2021-10-26T14:17:56.265Z"
   },
   {
    "duration": -1377,
    "start_time": "2021-10-26T14:17:56.266Z"
   },
   {
    "duration": -1543,
    "start_time": "2021-10-26T14:17:56.433Z"
   },
   {
    "duration": -1543,
    "start_time": "2021-10-26T14:17:56.435Z"
   },
   {
    "duration": -1543,
    "start_time": "2021-10-26T14:17:56.436Z"
   },
   {
    "duration": 298,
    "start_time": "2021-10-26T14:18:06.403Z"
   },
   {
    "duration": -254,
    "start_time": "2021-10-26T14:18:19.621Z"
   },
   {
    "duration": 8893,
    "start_time": "2021-10-26T14:18:21.114Z"
   },
   {
    "duration": -122,
    "start_time": "2021-10-26T14:18:30.132Z"
   },
   {
    "duration": 962,
    "start_time": "2021-10-26T14:32:02.569Z"
   },
   {
    "duration": 125,
    "start_time": "2021-10-26T14:32:03.533Z"
   },
   {
    "duration": 25,
    "start_time": "2021-10-26T14:32:03.661Z"
   },
   {
    "duration": 78,
    "start_time": "2021-10-26T14:32:03.689Z"
   },
   {
    "duration": 13,
    "start_time": "2021-10-26T14:32:03.769Z"
   },
   {
    "duration": 10,
    "start_time": "2021-10-26T14:32:03.785Z"
   },
   {
    "duration": 15,
    "start_time": "2021-10-26T14:32:03.797Z"
   },
   {
    "duration": 43,
    "start_time": "2021-10-26T14:32:03.814Z"
   },
   {
    "duration": 20,
    "start_time": "2021-10-26T14:32:03.862Z"
   },
   {
    "duration": 27,
    "start_time": "2021-10-26T14:32:03.885Z"
   },
   {
    "duration": 11,
    "start_time": "2021-10-26T14:32:03.914Z"
   },
   {
    "duration": 38,
    "start_time": "2021-10-26T14:32:03.958Z"
   },
   {
    "duration": 35,
    "start_time": "2021-10-26T14:32:03.999Z"
   },
   {
    "duration": 23,
    "start_time": "2021-10-26T14:32:04.037Z"
   },
   {
    "duration": 12,
    "start_time": "2021-10-26T14:32:04.062Z"
   },
   {
    "duration": 30,
    "start_time": "2021-10-26T14:32:04.076Z"
   },
   {
    "duration": 24,
    "start_time": "2021-10-26T14:32:04.109Z"
   },
   {
    "duration": 29,
    "start_time": "2021-10-26T14:32:04.135Z"
   },
   {
    "duration": 18,
    "start_time": "2021-10-26T14:32:04.166Z"
   },
   {
    "duration": 23,
    "start_time": "2021-10-26T14:32:04.187Z"
   },
   {
    "duration": 74,
    "start_time": "2021-10-26T14:32:04.213Z"
   },
   {
    "duration": 16,
    "start_time": "2021-10-26T14:32:04.289Z"
   },
   {
    "duration": 4,
    "start_time": "2021-10-26T14:32:04.308Z"
   },
   {
    "duration": 7,
    "start_time": "2021-10-26T14:32:04.314Z"
   },
   {
    "duration": 55,
    "start_time": "2021-10-26T14:32:04.324Z"
   },
   {
    "duration": 5,
    "start_time": "2021-10-26T14:32:04.381Z"
   },
   {
    "duration": 40,
    "start_time": "2021-10-26T14:32:04.392Z"
   },
   {
    "duration": 10,
    "start_time": "2021-10-26T14:32:04.459Z"
   },
   {
    "duration": 11,
    "start_time": "2021-10-26T14:32:04.472Z"
   },
   {
    "duration": 26,
    "start_time": "2021-10-26T14:32:04.486Z"
   },
   {
    "duration": 4,
    "start_time": "2021-10-26T14:32:04.514Z"
   },
   {
    "duration": 163,
    "start_time": "2021-10-26T14:32:04.520Z"
   },
   {
    "duration": 17,
    "start_time": "2021-10-26T14:32:04.668Z"
   },
   {
    "duration": 17,
    "start_time": "2021-10-26T14:32:04.670Z"
   },
   {
    "duration": 18,
    "start_time": "2021-10-26T14:32:04.671Z"
   },
   {
    "duration": 6,
    "start_time": "2021-10-26T14:32:04.685Z"
   },
   {
    "duration": 7,
    "start_time": "2021-10-26T14:32:04.686Z"
   },
   {
    "duration": 7,
    "start_time": "2021-10-26T14:32:04.688Z"
   },
   {
    "duration": 9,
    "start_time": "2021-10-26T14:32:04.689Z"
   },
   {
    "duration": 9,
    "start_time": "2021-10-26T14:32:04.691Z"
   },
   {
    "duration": 1,
    "start_time": "2021-10-26T14:32:04.701Z"
   },
   {
    "duration": 1,
    "start_time": "2021-10-26T14:32:04.703Z"
   },
   {
    "duration": 1,
    "start_time": "2021-10-26T14:32:04.705Z"
   },
   {
    "duration": 2,
    "start_time": "2021-10-26T14:32:04.706Z"
   },
   {
    "duration": 2,
    "start_time": "2021-10-26T14:32:04.708Z"
   },
   {
    "duration": 3,
    "start_time": "2021-10-26T14:32:04.709Z"
   },
   {
    "duration": 4,
    "start_time": "2021-10-26T14:32:04.711Z"
   },
   {
    "duration": -12,
    "start_time": "2021-10-26T14:32:04.729Z"
   },
   {
    "duration": 4,
    "start_time": "2021-10-26T14:32:11.097Z"
   },
   {
    "duration": 121,
    "start_time": "2021-10-26T14:32:14.144Z"
   },
   {
    "duration": 26,
    "start_time": "2021-10-26T14:32:20.132Z"
   },
   {
    "duration": 53,
    "start_time": "2021-10-26T14:32:23.740Z"
   },
   {
    "duration": 5,
    "start_time": "2021-10-26T14:32:30.821Z"
   },
   {
    "duration": 27,
    "start_time": "2021-10-26T14:32:34.075Z"
   },
   {
    "duration": 16,
    "start_time": "2021-10-26T14:32:37.728Z"
   },
   {
    "duration": 26,
    "start_time": "2021-10-26T14:32:39.472Z"
   },
   {
    "duration": 11,
    "start_time": "2021-10-26T14:32:42.310Z"
   },
   {
    "duration": 38,
    "start_time": "2021-10-26T14:32:44.609Z"
   },
   {
    "duration": 37,
    "start_time": "2021-10-26T14:32:47.661Z"
   },
   {
    "duration": 7,
    "start_time": "2021-10-26T14:32:50.607Z"
   },
   {
    "duration": 12,
    "start_time": "2021-10-26T14:32:52.666Z"
   },
   {
    "duration": 15,
    "start_time": "2021-10-26T14:32:55.260Z"
   },
   {
    "duration": 17,
    "start_time": "2021-10-26T14:32:59.389Z"
   },
   {
    "duration": 11,
    "start_time": "2021-10-26T14:33:03.179Z"
   },
   {
    "duration": 12,
    "start_time": "2021-10-26T14:33:05.838Z"
   },
   {
    "duration": 26,
    "start_time": "2021-10-26T14:33:16.319Z"
   },
   {
    "duration": 39,
    "start_time": "2021-10-26T14:33:20.066Z"
   },
   {
    "duration": 12,
    "start_time": "2021-10-26T14:33:23.703Z"
   },
   {
    "duration": 12,
    "start_time": "2021-10-26T14:33:26.254Z"
   },
   {
    "duration": 32,
    "start_time": "2021-10-26T14:33:43.389Z"
   },
   {
    "duration": 28,
    "start_time": "2021-10-26T14:33:45.963Z"
   },
   {
    "duration": 12,
    "start_time": "2021-10-26T14:33:48.448Z"
   },
   {
    "duration": 40,
    "start_time": "2021-10-26T14:33:50.393Z"
   },
   {
    "duration": 4,
    "start_time": "2021-10-26T14:33:53.581Z"
   },
   {
    "duration": 2137,
    "start_time": "2021-10-26T14:33:56.033Z"
   },
   {
    "duration": 23,
    "start_time": "2021-10-26T14:34:01.474Z"
   },
   {
    "duration": 5,
    "start_time": "2021-10-26T14:34:05.579Z"
   },
   {
    "duration": 1148,
    "start_time": "2021-10-26T14:34:08.263Z"
   },
   {
    "duration": 31,
    "start_time": "2021-10-26T14:34:10.532Z"
   },
   {
    "duration": 293,
    "start_time": "2021-10-26T14:34:15.528Z"
   },
   {
    "duration": 288,
    "start_time": "2021-10-26T14:34:18.809Z"
   },
   {
    "duration": 342,
    "start_time": "2021-10-26T14:34:22.051Z"
   },
   {
    "duration": 281,
    "start_time": "2021-10-26T14:34:53.269Z"
   },
   {
    "duration": 294,
    "start_time": "2021-10-26T14:34:57.064Z"
   },
   {
    "duration": 277,
    "start_time": "2021-10-26T14:35:00.711Z"
   },
   {
    "duration": 12,
    "start_time": "2021-10-26T14:44:31.938Z"
   },
   {
    "duration": 239,
    "start_time": "2021-10-26T14:47:37.669Z"
   },
   {
    "duration": 210,
    "start_time": "2021-10-26T14:50:14.650Z"
   },
   {
    "duration": 251,
    "start_time": "2021-10-26T14:50:22.147Z"
   },
   {
    "duration": 229,
    "start_time": "2021-10-26T14:50:29.515Z"
   },
   {
    "duration": 12,
    "start_time": "2021-10-26T14:56:14.272Z"
   },
   {
    "duration": 224,
    "start_time": "2021-10-26T14:57:30.846Z"
   },
   {
    "duration": 236,
    "start_time": "2021-10-26T14:57:44.631Z"
   },
   {
    "duration": 217,
    "start_time": "2021-10-26T14:57:55.125Z"
   },
   {
    "duration": 265,
    "start_time": "2021-10-26T14:58:06.469Z"
   },
   {
    "duration": 216,
    "start_time": "2021-10-26T14:58:17.857Z"
   },
   {
    "duration": 14,
    "start_time": "2021-10-26T15:00:06.094Z"
   },
   {
    "duration": 11,
    "start_time": "2021-10-26T15:00:13.953Z"
   },
   {
    "duration": 209,
    "start_time": "2021-10-26T15:00:53.880Z"
   },
   {
    "duration": 220,
    "start_time": "2021-10-26T15:01:22.534Z"
   },
   {
    "duration": 236,
    "start_time": "2021-10-26T15:01:28.108Z"
   },
   {
    "duration": 209,
    "start_time": "2021-10-26T15:01:36.426Z"
   },
   {
    "duration": 12,
    "start_time": "2021-10-26T15:03:25.508Z"
   },
   {
    "duration": 204,
    "start_time": "2021-10-26T15:04:04.170Z"
   },
   {
    "duration": 220,
    "start_time": "2021-10-26T15:04:25.142Z"
   },
   {
    "duration": 238,
    "start_time": "2021-10-26T15:04:32.227Z"
   },
   {
    "duration": 18,
    "start_time": "2021-10-26T15:05:14.059Z"
   },
   {
    "duration": 50,
    "start_time": "2021-10-26T15:18:10.311Z"
   },
   {
    "duration": 19,
    "start_time": "2021-10-26T15:18:34.114Z"
   },
   {
    "duration": 22,
    "start_time": "2021-10-26T15:18:37.177Z"
   },
   {
    "duration": 296,
    "start_time": "2021-10-26T15:23:19.191Z"
   },
   {
    "duration": 13,
    "start_time": "2021-10-26T15:23:51.690Z"
   },
   {
    "duration": 212,
    "start_time": "2021-10-26T15:24:11.263Z"
   },
   {
    "duration": 210,
    "start_time": "2021-10-26T15:24:32.685Z"
   },
   {
    "duration": 22,
    "start_time": "2021-10-26T15:24:39.351Z"
   },
   {
    "duration": 20,
    "start_time": "2021-10-26T15:28:16.518Z"
   },
   {
    "duration": 24,
    "start_time": "2021-10-26T15:28:20.738Z"
   },
   {
    "duration": 16,
    "start_time": "2021-10-26T15:28:32.970Z"
   },
   {
    "duration": 23,
    "start_time": "2021-10-26T15:28:36.757Z"
   },
   {
    "duration": 15,
    "start_time": "2021-10-26T15:28:40.535Z"
   },
   {
    "duration": 53,
    "start_time": "2021-10-26T15:28:42.727Z"
   },
   {
    "duration": 14,
    "start_time": "2021-10-26T15:28:57.978Z"
   },
   {
    "duration": 24,
    "start_time": "2021-10-26T15:29:04.085Z"
   },
   {
    "duration": 846,
    "start_time": "2021-10-26T15:29:23.310Z"
   },
   {
    "duration": 124,
    "start_time": "2021-10-26T15:29:24.158Z"
   },
   {
    "duration": 28,
    "start_time": "2021-10-26T15:29:24.285Z"
   },
   {
    "duration": 72,
    "start_time": "2021-10-26T15:29:24.316Z"
   },
   {
    "duration": 14,
    "start_time": "2021-10-26T15:29:24.390Z"
   },
   {
    "duration": 4,
    "start_time": "2021-10-26T15:29:24.407Z"
   },
   {
    "duration": 6,
    "start_time": "2021-10-26T15:29:24.414Z"
   },
   {
    "duration": 30,
    "start_time": "2021-10-26T15:29:24.458Z"
   },
   {
    "duration": 19,
    "start_time": "2021-10-26T15:29:24.492Z"
   },
   {
    "duration": 56,
    "start_time": "2021-10-26T15:29:24.514Z"
   },
   {
    "duration": 12,
    "start_time": "2021-10-26T15:29:24.573Z"
   },
   {
    "duration": 70,
    "start_time": "2021-10-26T15:29:24.588Z"
   },
   {
    "duration": 37,
    "start_time": "2021-10-26T15:29:24.660Z"
   },
   {
    "duration": 6,
    "start_time": "2021-10-26T15:29:24.699Z"
   },
   {
    "duration": 51,
    "start_time": "2021-10-26T15:29:24.707Z"
   },
   {
    "duration": 17,
    "start_time": "2021-10-26T15:29:24.761Z"
   },
   {
    "duration": 20,
    "start_time": "2021-10-26T15:29:24.780Z"
   },
   {
    "duration": 10,
    "start_time": "2021-10-26T15:29:24.805Z"
   },
   {
    "duration": 45,
    "start_time": "2021-10-26T15:29:24.818Z"
   },
   {
    "duration": 25,
    "start_time": "2021-10-26T15:29:24.866Z"
   },
   {
    "duration": 70,
    "start_time": "2021-10-26T15:29:24.894Z"
   },
   {
    "duration": 16,
    "start_time": "2021-10-26T15:29:24.966Z"
   },
   {
    "duration": 4,
    "start_time": "2021-10-26T15:29:24.987Z"
   },
   {
    "duration": 16,
    "start_time": "2021-10-26T15:29:24.995Z"
   },
   {
    "duration": 50,
    "start_time": "2021-10-26T15:29:25.014Z"
   },
   {
    "duration": 7,
    "start_time": "2021-10-26T15:29:25.067Z"
   },
   {
    "duration": 40,
    "start_time": "2021-10-26T15:29:25.077Z"
   },
   {
    "duration": 39,
    "start_time": "2021-10-26T15:29:25.120Z"
   },
   {
    "duration": 13,
    "start_time": "2021-10-26T15:29:25.161Z"
   },
   {
    "duration": 27,
    "start_time": "2021-10-26T15:29:25.176Z"
   },
   {
    "duration": 3,
    "start_time": "2021-10-26T15:29:25.205Z"
   },
   {
    "duration": 72,
    "start_time": "2021-10-26T15:29:25.210Z"
   },
   {
    "duration": 29,
    "start_time": "2021-10-26T15:29:25.284Z"
   },
   {
    "duration": 10,
    "start_time": "2021-10-26T15:29:25.315Z"
   },
   {
    "duration": 49,
    "start_time": "2021-10-26T15:29:25.327Z"
   },
   {
    "duration": 4,
    "start_time": "2021-10-26T15:29:25.379Z"
   },
   {
    "duration": 2203,
    "start_time": "2021-10-26T15:29:25.385Z"
   },
   {
    "duration": 24,
    "start_time": "2021-10-26T15:29:27.591Z"
   },
   {
    "duration": 5,
    "start_time": "2021-10-26T15:29:27.618Z"
   },
   {
    "duration": 1162,
    "start_time": "2021-10-26T15:29:27.625Z"
   },
   {
    "duration": 31,
    "start_time": "2021-10-26T15:29:28.789Z"
   },
   {
    "duration": 322,
    "start_time": "2021-10-26T15:29:28.822Z"
   },
   {
    "duration": 293,
    "start_time": "2021-10-26T15:29:29.147Z"
   },
   {
    "duration": 361,
    "start_time": "2021-10-26T15:29:29.443Z"
   },
   {
    "duration": 309,
    "start_time": "2021-10-26T15:29:29.806Z"
   },
   {
    "duration": 314,
    "start_time": "2021-10-26T15:29:30.117Z"
   },
   {
    "duration": 298,
    "start_time": "2021-10-26T15:29:30.433Z"
   },
   {
    "duration": 12,
    "start_time": "2021-10-26T15:29:30.733Z"
   },
   {
    "duration": 249,
    "start_time": "2021-10-26T15:29:30.758Z"
   },
   {
    "duration": 14,
    "start_time": "2021-10-26T15:29:31.009Z"
   },
   {
    "duration": 11,
    "start_time": "2021-10-26T15:29:31.026Z"
   },
   {
    "duration": 212,
    "start_time": "2021-10-26T15:29:31.058Z"
   },
   {
    "duration": 17,
    "start_time": "2021-10-26T15:29:31.273Z"
   },
   {
    "duration": 12,
    "start_time": "2021-10-26T15:29:31.293Z"
   },
   {
    "duration": 249,
    "start_time": "2021-10-26T15:29:31.308Z"
   },
   {
    "duration": 14,
    "start_time": "2021-10-26T15:29:31.559Z"
   },
   {
    "duration": 11,
    "start_time": "2021-10-26T15:29:31.575Z"
   },
   {
    "duration": 262,
    "start_time": "2021-10-26T15:29:31.588Z"
   },
   {
    "duration": 16,
    "start_time": "2021-10-26T15:29:31.857Z"
   },
   {
    "duration": 11,
    "start_time": "2021-10-26T15:29:31.875Z"
   },
   {
    "duration": 244,
    "start_time": "2021-10-26T15:29:31.888Z"
   },
   {
    "duration": 24,
    "start_time": "2021-10-26T15:29:32.134Z"
   },
   {
    "duration": 22,
    "start_time": "2021-10-26T15:29:32.161Z"
   },
   {
    "duration": 320,
    "start_time": "2021-10-26T15:29:32.185Z"
   },
   {
    "duration": 30,
    "start_time": "2021-10-26T15:33:38.178Z"
   },
   {
    "duration": 22,
    "start_time": "2021-10-26T15:33:42.213Z"
   },
   {
    "duration": 14,
    "start_time": "2021-10-26T15:33:52.245Z"
   },
   {
    "duration": 364,
    "start_time": "2021-10-26T15:33:58.502Z"
   },
   {
    "duration": 23,
    "start_time": "2021-10-26T15:34:03.395Z"
   },
   {
    "duration": 15,
    "start_time": "2021-10-26T15:34:16.181Z"
   },
   {
    "duration": 12,
    "start_time": "2021-10-26T15:34:22.377Z"
   },
   {
    "duration": 13,
    "start_time": "2021-10-26T15:34:27.594Z"
   },
   {
    "duration": 298,
    "start_time": "2021-10-26T15:34:31.323Z"
   },
   {
    "duration": 21,
    "start_time": "2021-10-26T15:34:40.537Z"
   },
   {
    "duration": 14,
    "start_time": "2021-10-26T15:34:46.588Z"
   },
   {
    "duration": 287,
    "start_time": "2021-10-26T15:34:51.536Z"
   },
   {
    "duration": 13,
    "start_time": "2021-10-26T15:35:07.634Z"
   },
   {
    "duration": 293,
    "start_time": "2021-10-26T15:35:13.118Z"
   },
   {
    "duration": 941,
    "start_time": "2021-10-26T15:53:29.521Z"
   },
   {
    "duration": 127,
    "start_time": "2021-10-26T15:53:30.465Z"
   },
   {
    "duration": 27,
    "start_time": "2021-10-26T15:53:30.595Z"
   },
   {
    "duration": 81,
    "start_time": "2021-10-26T15:53:30.625Z"
   },
   {
    "duration": 14,
    "start_time": "2021-10-26T15:53:30.709Z"
   },
   {
    "duration": 9,
    "start_time": "2021-10-26T15:53:30.726Z"
   },
   {
    "duration": 22,
    "start_time": "2021-10-26T15:53:30.738Z"
   },
   {
    "duration": 64,
    "start_time": "2021-10-26T15:53:30.764Z"
   },
   {
    "duration": 20,
    "start_time": "2021-10-26T15:53:30.832Z"
   },
   {
    "duration": 28,
    "start_time": "2021-10-26T15:53:30.855Z"
   },
   {
    "duration": 21,
    "start_time": "2021-10-26T15:53:30.886Z"
   },
   {
    "duration": 62,
    "start_time": "2021-10-26T15:53:30.910Z"
   },
   {
    "duration": 38,
    "start_time": "2021-10-26T15:53:30.975Z"
   },
   {
    "duration": 8,
    "start_time": "2021-10-26T15:53:31.017Z"
   },
   {
    "duration": 14,
    "start_time": "2021-10-26T15:53:31.059Z"
   },
   {
    "duration": 30,
    "start_time": "2021-10-26T15:53:31.076Z"
   },
   {
    "duration": 34,
    "start_time": "2021-10-26T15:53:31.109Z"
   },
   {
    "duration": 11,
    "start_time": "2021-10-26T15:53:31.157Z"
   },
   {
    "duration": 13,
    "start_time": "2021-10-26T15:53:31.171Z"
   },
   {
    "duration": 26,
    "start_time": "2021-10-26T15:53:31.188Z"
   },
   {
    "duration": 81,
    "start_time": "2021-10-26T15:53:31.217Z"
   },
   {
    "duration": 19,
    "start_time": "2021-10-26T15:53:31.300Z"
   },
   {
    "duration": 31,
    "start_time": "2021-10-26T15:53:31.327Z"
   },
   {
    "duration": 5,
    "start_time": "2021-10-26T15:53:31.362Z"
   },
   {
    "duration": 30,
    "start_time": "2021-10-26T15:53:31.370Z"
   },
   {
    "duration": 7,
    "start_time": "2021-10-26T15:53:31.403Z"
   },
   {
    "duration": 75,
    "start_time": "2021-10-26T15:53:31.413Z"
   },
   {
    "duration": 12,
    "start_time": "2021-10-26T15:53:31.491Z"
   },
   {
    "duration": 12,
    "start_time": "2021-10-26T15:53:31.506Z"
   },
   {
    "duration": 60,
    "start_time": "2021-10-26T15:53:31.520Z"
   },
   {
    "duration": 4,
    "start_time": "2021-10-26T15:53:31.583Z"
   },
   {
    "duration": 40,
    "start_time": "2021-10-26T15:53:31.590Z"
   },
   {
    "duration": 51,
    "start_time": "2021-10-26T15:53:31.633Z"
   },
   {
    "duration": 11,
    "start_time": "2021-10-26T15:53:31.687Z"
   },
   {
    "duration": 31,
    "start_time": "2021-10-26T15:53:31.701Z"
   },
   {
    "duration": 5,
    "start_time": "2021-10-26T15:53:31.758Z"
   },
   {
    "duration": 2086,
    "start_time": "2021-10-26T15:53:31.765Z"
   },
   {
    "duration": 23,
    "start_time": "2021-10-26T15:53:33.854Z"
   },
   {
    "duration": 12,
    "start_time": "2021-10-26T15:53:33.879Z"
   },
   {
    "duration": 1146,
    "start_time": "2021-10-26T15:53:33.893Z"
   },
   {
    "duration": 36,
    "start_time": "2021-10-26T15:53:35.041Z"
   },
   {
    "duration": 338,
    "start_time": "2021-10-26T15:53:35.080Z"
   },
   {
    "duration": 327,
    "start_time": "2021-10-26T15:53:35.420Z"
   },
   {
    "duration": 383,
    "start_time": "2021-10-26T15:53:35.749Z"
   },
   {
    "duration": 310,
    "start_time": "2021-10-26T15:53:36.134Z"
   },
   {
    "duration": 312,
    "start_time": "2021-10-26T15:53:36.447Z"
   },
   {
    "duration": 307,
    "start_time": "2021-10-26T15:53:36.762Z"
   },
   {
    "duration": 13,
    "start_time": "2021-10-26T15:53:37.072Z"
   },
   {
    "duration": 261,
    "start_time": "2021-10-26T15:53:37.088Z"
   },
   {
    "duration": 17,
    "start_time": "2021-10-26T15:53:37.352Z"
   },
   {
    "duration": 24,
    "start_time": "2021-10-26T15:53:37.372Z"
   },
   {
    "duration": 228,
    "start_time": "2021-10-26T15:53:37.398Z"
   },
   {
    "duration": 29,
    "start_time": "2021-10-26T15:53:37.628Z"
   },
   {
    "duration": 17,
    "start_time": "2021-10-26T15:53:37.660Z"
   },
   {
    "duration": 246,
    "start_time": "2021-10-26T15:53:37.679Z"
   },
   {
    "duration": 14,
    "start_time": "2021-10-26T15:53:37.927Z"
   },
   {
    "duration": 23,
    "start_time": "2021-10-26T15:53:37.943Z"
   },
   {
    "duration": 246,
    "start_time": "2021-10-26T15:53:37.969Z"
   },
   {
    "duration": 18,
    "start_time": "2021-10-26T15:53:38.218Z"
   },
   {
    "duration": 26,
    "start_time": "2021-10-26T15:53:38.239Z"
   },
   {
    "duration": 240,
    "start_time": "2021-10-26T15:53:38.267Z"
   },
   {
    "duration": 18,
    "start_time": "2021-10-26T15:53:38.510Z"
   },
   {
    "duration": 44,
    "start_time": "2021-10-26T15:53:38.531Z"
   },
   {
    "duration": 324,
    "start_time": "2021-10-26T15:53:38.578Z"
   },
   {
    "duration": 706,
    "start_time": "2021-10-27T10:36:15.420Z"
   },
   {
    "duration": 103,
    "start_time": "2021-10-27T10:36:16.128Z"
   },
   {
    "duration": 25,
    "start_time": "2021-10-27T10:36:16.233Z"
   },
   {
    "duration": 41,
    "start_time": "2021-10-27T10:36:16.265Z"
   },
   {
    "duration": 10,
    "start_time": "2021-10-27T10:36:16.308Z"
   },
   {
    "duration": 28,
    "start_time": "2021-10-27T10:36:16.320Z"
   },
   {
    "duration": 4,
    "start_time": "2021-10-27T10:36:16.351Z"
   },
   {
    "duration": 28,
    "start_time": "2021-10-27T10:36:16.363Z"
   },
   {
    "duration": 11,
    "start_time": "2021-10-27T10:36:16.393Z"
   },
   {
    "duration": 36,
    "start_time": "2021-10-27T10:36:16.405Z"
   },
   {
    "duration": 40,
    "start_time": "2021-10-27T10:36:16.443Z"
   },
   {
    "duration": 41,
    "start_time": "2021-10-27T10:36:16.485Z"
   },
   {
    "duration": 34,
    "start_time": "2021-10-27T10:36:16.528Z"
   },
   {
    "duration": 8,
    "start_time": "2021-10-27T10:36:16.564Z"
   },
   {
    "duration": 22,
    "start_time": "2021-10-27T10:36:16.574Z"
   },
   {
    "duration": 29,
    "start_time": "2021-10-27T10:36:16.598Z"
   },
   {
    "duration": 24,
    "start_time": "2021-10-27T10:36:16.628Z"
   },
   {
    "duration": 25,
    "start_time": "2021-10-27T10:36:16.653Z"
   },
   {
    "duration": 22,
    "start_time": "2021-10-27T10:36:16.679Z"
   },
   {
    "duration": 37,
    "start_time": "2021-10-27T10:36:16.703Z"
   },
   {
    "duration": 47,
    "start_time": "2021-10-27T10:36:16.741Z"
   },
   {
    "duration": 11,
    "start_time": "2021-10-27T10:36:16.790Z"
   },
   {
    "duration": 13,
    "start_time": "2021-10-27T10:36:16.805Z"
   },
   {
    "duration": 6,
    "start_time": "2021-10-27T10:36:16.821Z"
   },
   {
    "duration": 23,
    "start_time": "2021-10-27T10:36:16.829Z"
   },
   {
    "duration": 8,
    "start_time": "2021-10-27T10:36:16.854Z"
   },
   {
    "duration": 27,
    "start_time": "2021-10-27T10:36:16.864Z"
   },
   {
    "duration": 7,
    "start_time": "2021-10-27T10:36:16.892Z"
   },
   {
    "duration": 7,
    "start_time": "2021-10-27T10:36:16.901Z"
   },
   {
    "duration": 19,
    "start_time": "2021-10-27T10:36:16.910Z"
   },
   {
    "duration": 2,
    "start_time": "2021-10-27T10:36:16.945Z"
   },
   {
    "duration": 27,
    "start_time": "2021-10-27T10:36:16.953Z"
   },
   {
    "duration": 21,
    "start_time": "2021-10-27T10:36:16.982Z"
   },
   {
    "duration": 9,
    "start_time": "2021-10-27T10:36:17.004Z"
   },
   {
    "duration": 41,
    "start_time": "2021-10-27T10:36:17.015Z"
   },
   {
    "duration": 3,
    "start_time": "2021-10-27T10:36:17.058Z"
   },
   {
    "duration": 1478,
    "start_time": "2021-10-27T10:36:17.063Z"
   },
   {
    "duration": 19,
    "start_time": "2021-10-27T10:36:18.543Z"
   },
   {
    "duration": 5,
    "start_time": "2021-10-27T10:36:18.568Z"
   },
   {
    "duration": 803,
    "start_time": "2021-10-27T10:36:18.576Z"
   },
   {
    "duration": 21,
    "start_time": "2021-10-27T10:36:19.381Z"
   },
   {
    "duration": 254,
    "start_time": "2021-10-27T10:36:19.404Z"
   },
   {
    "duration": 200,
    "start_time": "2021-10-27T10:36:19.662Z"
   },
   {
    "duration": 255,
    "start_time": "2021-10-27T10:36:19.864Z"
   },
   {
    "duration": 207,
    "start_time": "2021-10-27T10:36:20.121Z"
   },
   {
    "duration": 201,
    "start_time": "2021-10-27T10:36:20.330Z"
   },
   {
    "duration": 193,
    "start_time": "2021-10-27T10:36:20.533Z"
   },
   {
    "duration": 25,
    "start_time": "2021-10-27T10:36:20.728Z"
   },
   {
    "duration": 156,
    "start_time": "2021-10-27T10:36:20.755Z"
   },
   {
    "duration": 9,
    "start_time": "2021-10-27T10:36:20.913Z"
   },
   {
    "duration": 9,
    "start_time": "2021-10-27T10:36:20.924Z"
   },
   {
    "duration": 147,
    "start_time": "2021-10-27T10:36:20.949Z"
   },
   {
    "duration": 11,
    "start_time": "2021-10-27T10:36:21.098Z"
   },
   {
    "duration": 9,
    "start_time": "2021-10-27T10:36:21.110Z"
   },
   {
    "duration": 170,
    "start_time": "2021-10-27T10:36:21.120Z"
   },
   {
    "duration": 9,
    "start_time": "2021-10-27T10:36:21.292Z"
   },
   {
    "duration": 9,
    "start_time": "2021-10-27T10:36:21.302Z"
   },
   {
    "duration": 187,
    "start_time": "2021-10-27T10:36:21.312Z"
   },
   {
    "duration": 10,
    "start_time": "2021-10-27T10:36:21.501Z"
   },
   {
    "duration": 8,
    "start_time": "2021-10-27T10:36:21.513Z"
   },
   {
    "duration": 185,
    "start_time": "2021-10-27T10:36:21.523Z"
   },
   {
    "duration": 10,
    "start_time": "2021-10-27T10:36:21.710Z"
   },
   {
    "duration": 40,
    "start_time": "2021-10-27T10:36:21.721Z"
   },
   {
    "duration": 215,
    "start_time": "2021-10-27T10:36:21.763Z"
   },
   {
    "duration": 22,
    "start_time": "2021-10-27T10:37:03.148Z"
   },
   {
    "duration": 17,
    "start_time": "2021-10-27T10:37:06.982Z"
   },
   {
    "duration": 15,
    "start_time": "2021-10-27T10:37:33.361Z"
   },
   {
    "duration": 18,
    "start_time": "2021-10-27T10:37:37.487Z"
   },
   {
    "duration": 22,
    "start_time": "2021-10-27T10:37:53.947Z"
   },
   {
    "duration": 18,
    "start_time": "2021-10-27T10:37:58.109Z"
   },
   {
    "duration": 17,
    "start_time": "2021-10-27T10:38:17.356Z"
   },
   {
    "duration": 16,
    "start_time": "2021-10-27T10:38:20.173Z"
   },
   {
    "duration": 196,
    "start_time": "2021-10-27T10:40:16.647Z"
   },
   {
    "duration": 244,
    "start_time": "2021-10-27T10:41:23.964Z"
   },
   {
    "duration": 9,
    "start_time": "2021-10-27T10:51:29.736Z"
   },
   {
    "duration": 9,
    "start_time": "2021-10-27T10:51:47.078Z"
   },
   {
    "duration": 12,
    "start_time": "2021-10-27T10:51:57.044Z"
   },
   {
    "duration": 7,
    "start_time": "2021-10-27T10:55:25.747Z"
   },
   {
    "duration": 5,
    "start_time": "2021-10-27T10:55:58.002Z"
   },
   {
    "duration": 6,
    "start_time": "2021-10-27T10:56:40.826Z"
   },
   {
    "duration": 6,
    "start_time": "2021-10-27T10:57:07.340Z"
   },
   {
    "duration": 7,
    "start_time": "2021-10-27T10:57:34.240Z"
   },
   {
    "duration": 233,
    "start_time": "2021-10-27T11:02:12.213Z"
   },
   {
    "duration": 204,
    "start_time": "2021-10-27T11:08:32.978Z"
   },
   {
    "duration": 185,
    "start_time": "2021-10-27T11:08:52.398Z"
   },
   {
    "duration": -232,
    "start_time": "2021-10-27T11:11:15.322Z"
   },
   {
    "duration": 216,
    "start_time": "2021-10-27T11:11:17.919Z"
   },
   {
    "duration": 7,
    "start_time": "2021-10-27T11:11:44.050Z"
   },
   {
    "duration": 10,
    "start_time": "2021-10-27T11:11:47.853Z"
   },
   {
    "duration": 6,
    "start_time": "2021-10-27T11:11:52.164Z"
   },
   {
    "duration": 203,
    "start_time": "2021-10-27T11:12:32.369Z"
   },
   {
    "duration": 7,
    "start_time": "2021-10-27T11:53:58.970Z"
   },
   {
    "duration": 7,
    "start_time": "2021-10-27T11:54:14.675Z"
   },
   {
    "duration": 6,
    "start_time": "2021-10-27T11:55:03.085Z"
   },
   {
    "duration": 1787,
    "start_time": "2021-10-27T11:55:15.648Z"
   },
   {
    "duration": 267,
    "start_time": "2021-10-27T11:55:34.033Z"
   },
   {
    "duration": 6,
    "start_time": "2021-10-27T11:56:45.863Z"
   },
   {
    "duration": 171,
    "start_time": "2021-10-27T11:56:55.256Z"
   },
   {
    "duration": 7,
    "start_time": "2021-10-27T11:57:32.453Z"
   },
   {
    "duration": 178,
    "start_time": "2021-10-27T11:57:35.767Z"
   },
   {
    "duration": 457,
    "start_time": "2021-10-27T12:01:13.934Z"
   },
   {
    "duration": 188,
    "start_time": "2021-10-27T12:03:33.764Z"
   },
   {
    "duration": 98,
    "start_time": "2021-10-27T12:03:59.908Z"
   },
   {
    "duration": 303,
    "start_time": "2021-10-27T12:05:45.388Z"
   },
   {
    "duration": 168,
    "start_time": "2021-10-27T12:06:06.663Z"
   },
   {
    "duration": 24,
    "start_time": "2021-10-27T12:06:57.884Z"
   },
   {
    "duration": 268,
    "start_time": "2021-10-27T12:08:33.432Z"
   },
   {
    "duration": 34,
    "start_time": "2021-10-27T12:08:41.630Z"
   },
   {
    "duration": 305,
    "start_time": "2021-10-27T12:20:21.690Z"
   },
   {
    "duration": 8,
    "start_time": "2021-10-27T12:22:26.870Z"
   },
   {
    "duration": 416,
    "start_time": "2021-10-27T12:22:32.705Z"
   },
   {
    "duration": 326,
    "start_time": "2021-10-27T12:22:44.502Z"
   },
   {
    "duration": 94,
    "start_time": "2021-10-27T12:22:59.167Z"
   },
   {
    "duration": 315,
    "start_time": "2021-10-27T12:23:08.229Z"
   },
   {
    "duration": 40,
    "start_time": "2021-10-27T12:25:15.993Z"
   },
   {
    "duration": 52,
    "start_time": "2021-10-27T12:26:02.025Z"
   },
   {
    "duration": 303,
    "start_time": "2021-10-27T13:44:24.291Z"
   },
   {
    "duration": 202,
    "start_time": "2021-10-27T13:44:31.624Z"
   },
   {
    "duration": 192,
    "start_time": "2021-10-27T13:44:38.849Z"
   },
   {
    "duration": 185,
    "start_time": "2021-10-27T13:45:00.606Z"
   },
   {
    "duration": 190,
    "start_time": "2021-10-27T13:45:14.305Z"
   },
   {
    "duration": 184,
    "start_time": "2021-10-27T13:45:28.439Z"
   },
   {
    "duration": 9,
    "start_time": "2021-10-27T13:48:15.937Z"
   },
   {
    "duration": 129,
    "start_time": "2021-10-27T13:49:04.570Z"
   },
   {
    "duration": 191,
    "start_time": "2021-10-27T13:49:37.577Z"
   },
   {
    "duration": 199,
    "start_time": "2021-10-27T13:49:49.130Z"
   },
   {
    "duration": 195,
    "start_time": "2021-10-27T13:50:03.294Z"
   },
   {
    "duration": 821,
    "start_time": "2021-10-27T13:50:22.168Z"
   },
   {
    "duration": 254,
    "start_time": "2021-10-27T13:50:39.655Z"
   },
   {
    "duration": 199,
    "start_time": "2021-10-27T13:50:57.451Z"
   },
   {
    "duration": 700,
    "start_time": "2021-10-27T13:52:53.258Z"
   },
   {
    "duration": 87,
    "start_time": "2021-10-27T13:52:53.960Z"
   },
   {
    "duration": 24,
    "start_time": "2021-10-27T13:52:54.050Z"
   },
   {
    "duration": 42,
    "start_time": "2021-10-27T13:52:54.077Z"
   },
   {
    "duration": 27,
    "start_time": "2021-10-27T13:52:54.121Z"
   },
   {
    "duration": 14,
    "start_time": "2021-10-27T13:52:54.151Z"
   },
   {
    "duration": 17,
    "start_time": "2021-10-27T13:52:54.167Z"
   },
   {
    "duration": 23,
    "start_time": "2021-10-27T13:52:54.187Z"
   },
   {
    "duration": 10,
    "start_time": "2021-10-27T13:52:54.212Z"
   },
   {
    "duration": 25,
    "start_time": "2021-10-27T13:52:54.224Z"
   },
   {
    "duration": 13,
    "start_time": "2021-10-27T13:52:54.251Z"
   },
   {
    "duration": 37,
    "start_time": "2021-10-27T13:52:54.266Z"
   },
   {
    "duration": 28,
    "start_time": "2021-10-27T13:52:54.305Z"
   },
   {
    "duration": 8,
    "start_time": "2021-10-27T13:52:54.344Z"
   },
   {
    "duration": 25,
    "start_time": "2021-10-27T13:52:54.354Z"
   },
   {
    "duration": 20,
    "start_time": "2021-10-27T13:52:54.381Z"
   },
   {
    "duration": 24,
    "start_time": "2021-10-27T13:52:54.403Z"
   },
   {
    "duration": 23,
    "start_time": "2021-10-27T13:52:54.429Z"
   },
   {
    "duration": 17,
    "start_time": "2021-10-27T13:52:54.454Z"
   },
   {
    "duration": 22,
    "start_time": "2021-10-27T13:52:54.473Z"
   },
   {
    "duration": 28,
    "start_time": "2021-10-27T13:52:54.497Z"
   },
   {
    "duration": 29,
    "start_time": "2021-10-27T13:52:54.527Z"
   },
   {
    "duration": 3,
    "start_time": "2021-10-27T13:52:54.561Z"
   },
   {
    "duration": 9,
    "start_time": "2021-10-27T13:52:54.567Z"
   },
   {
    "duration": 25,
    "start_time": "2021-10-27T13:52:54.578Z"
   },
   {
    "duration": 6,
    "start_time": "2021-10-27T13:52:54.605Z"
   },
   {
    "duration": 50,
    "start_time": "2021-10-27T13:52:54.612Z"
   },
   {
    "duration": 10,
    "start_time": "2021-10-27T13:52:54.664Z"
   },
   {
    "duration": 9,
    "start_time": "2021-10-27T13:52:54.677Z"
   },
   {
    "duration": 27,
    "start_time": "2021-10-27T13:52:54.688Z"
   },
   {
    "duration": 3,
    "start_time": "2021-10-27T13:52:54.717Z"
   },
   {
    "duration": 29,
    "start_time": "2021-10-27T13:52:54.721Z"
   },
   {
    "duration": 26,
    "start_time": "2021-10-27T13:52:54.752Z"
   },
   {
    "duration": 21,
    "start_time": "2021-10-27T13:52:54.780Z"
   },
   {
    "duration": 9,
    "start_time": "2021-10-27T13:52:54.803Z"
   },
   {
    "duration": 59,
    "start_time": "2021-10-27T13:52:54.814Z"
   },
   {
    "duration": 3,
    "start_time": "2021-10-27T13:52:54.874Z"
   },
   {
    "duration": 1359,
    "start_time": "2021-10-27T13:52:54.878Z"
   },
   {
    "duration": 23,
    "start_time": "2021-10-27T13:52:56.238Z"
   },
   {
    "duration": 8,
    "start_time": "2021-10-27T13:52:56.263Z"
   },
   {
    "duration": 725,
    "start_time": "2021-10-27T13:52:56.272Z"
   },
   {
    "duration": 20,
    "start_time": "2021-10-27T13:52:56.998Z"
   },
   {
    "duration": 203,
    "start_time": "2021-10-27T13:52:57.020Z"
   },
   {
    "duration": 212,
    "start_time": "2021-10-27T13:52:57.224Z"
   },
   {
    "duration": 237,
    "start_time": "2021-10-27T13:52:57.437Z"
   },
   {
    "duration": 183,
    "start_time": "2021-10-27T13:52:57.675Z"
   },
   {
    "duration": 183,
    "start_time": "2021-10-27T13:52:57.861Z"
   },
   {
    "duration": 11,
    "start_time": "2021-10-27T13:52:58.047Z"
   },
   {
    "duration": 168,
    "start_time": "2021-10-27T13:52:58.060Z"
   },
   {
    "duration": 19,
    "start_time": "2021-10-27T13:52:58.230Z"
   },
   {
    "duration": 14,
    "start_time": "2021-10-27T13:52:58.251Z"
   },
   {
    "duration": 146,
    "start_time": "2021-10-27T13:52:58.267Z"
   },
   {
    "duration": 11,
    "start_time": "2021-10-27T13:52:58.415Z"
   },
   {
    "duration": 23,
    "start_time": "2021-10-27T13:52:58.428Z"
   },
   {
    "duration": 157,
    "start_time": "2021-10-27T13:52:58.453Z"
   },
   {
    "duration": 9,
    "start_time": "2021-10-27T13:52:58.612Z"
   },
   {
    "duration": 28,
    "start_time": "2021-10-27T13:52:58.623Z"
   },
   {
    "duration": 156,
    "start_time": "2021-10-27T13:52:58.653Z"
   },
   {
    "duration": 10,
    "start_time": "2021-10-27T13:52:58.811Z"
   },
   {
    "duration": 27,
    "start_time": "2021-10-27T13:52:58.823Z"
   },
   {
    "duration": 155,
    "start_time": "2021-10-27T13:52:58.852Z"
   },
   {
    "duration": 10,
    "start_time": "2021-10-27T13:52:59.009Z"
   },
   {
    "duration": 27,
    "start_time": "2021-10-27T13:52:59.020Z"
   },
   {
    "duration": 24,
    "start_time": "2021-10-27T13:52:59.049Z"
   },
   {
    "duration": 209,
    "start_time": "2021-10-27T13:52:59.075Z"
   },
   {
    "duration": 10,
    "start_time": "2021-10-27T13:52:59.286Z"
   },
   {
    "duration": 214,
    "start_time": "2021-10-27T13:52:59.298Z"
   },
   {
    "duration": 204,
    "start_time": "2021-10-27T13:52:59.517Z"
   },
   {
    "duration": 268,
    "start_time": "2021-10-27T13:52:59.723Z"
   },
   {
    "duration": 208,
    "start_time": "2021-10-27T13:52:59.993Z"
   },
   {
    "duration": 206,
    "start_time": "2021-10-27T13:53:00.202Z"
   },
   {
    "duration": 9,
    "start_time": "2021-10-27T13:53:00.410Z"
   },
   {
    "duration": 13,
    "start_time": "2021-10-27T13:53:00.421Z"
   },
   {
    "duration": 6,
    "start_time": "2021-10-27T13:53:00.444Z"
   },
   {
    "duration": 18,
    "start_time": "2021-10-27T13:53:00.452Z"
   },
   {
    "duration": 187,
    "start_time": "2021-10-27T13:53:00.473Z"
   },
   {
    "duration": 206,
    "start_time": "2021-10-27T13:53:00.663Z"
   },
   {
    "duration": 708,
    "start_time": "2021-10-27T14:00:15.037Z"
   },
   {
    "duration": 89,
    "start_time": "2021-10-27T14:00:15.746Z"
   },
   {
    "duration": 21,
    "start_time": "2021-10-27T14:00:15.837Z"
   },
   {
    "duration": 60,
    "start_time": "2021-10-27T14:00:15.860Z"
   },
   {
    "duration": 44,
    "start_time": "2021-10-27T14:00:15.921Z"
   },
   {
    "duration": 56,
    "start_time": "2021-10-27T14:00:15.967Z"
   },
   {
    "duration": 33,
    "start_time": "2021-10-27T14:00:16.024Z"
   },
   {
    "duration": 49,
    "start_time": "2021-10-27T14:00:16.060Z"
   },
   {
    "duration": 13,
    "start_time": "2021-10-27T14:00:16.112Z"
   },
   {
    "duration": 38,
    "start_time": "2021-10-27T14:00:16.127Z"
   },
   {
    "duration": 25,
    "start_time": "2021-10-27T14:00:16.166Z"
   },
   {
    "duration": 51,
    "start_time": "2021-10-27T14:00:16.193Z"
   },
   {
    "duration": 40,
    "start_time": "2021-10-27T14:00:16.246Z"
   },
   {
    "duration": 7,
    "start_time": "2021-10-27T14:00:16.288Z"
   },
   {
    "duration": 38,
    "start_time": "2021-10-27T14:00:16.296Z"
   },
   {
    "duration": 40,
    "start_time": "2021-10-27T14:00:16.336Z"
   },
   {
    "duration": 34,
    "start_time": "2021-10-27T14:00:16.377Z"
   },
   {
    "duration": 45,
    "start_time": "2021-10-27T14:00:16.413Z"
   },
   {
    "duration": 37,
    "start_time": "2021-10-27T14:00:16.460Z"
   },
   {
    "duration": 35,
    "start_time": "2021-10-27T14:00:16.498Z"
   },
   {
    "duration": 38,
    "start_time": "2021-10-27T14:00:16.535Z"
   },
   {
    "duration": 18,
    "start_time": "2021-10-27T14:00:16.575Z"
   },
   {
    "duration": 29,
    "start_time": "2021-10-27T14:00:16.597Z"
   },
   {
    "duration": 46,
    "start_time": "2021-10-27T14:00:16.628Z"
   },
   {
    "duration": 51,
    "start_time": "2021-10-27T14:00:16.676Z"
   },
   {
    "duration": 18,
    "start_time": "2021-10-27T14:00:16.729Z"
   },
   {
    "duration": 56,
    "start_time": "2021-10-27T14:00:16.749Z"
   },
   {
    "duration": 12,
    "start_time": "2021-10-27T14:00:16.807Z"
   },
   {
    "duration": 46,
    "start_time": "2021-10-27T14:00:16.821Z"
   },
   {
    "duration": 50,
    "start_time": "2021-10-27T14:00:16.869Z"
   },
   {
    "duration": 6,
    "start_time": "2021-10-27T14:00:16.920Z"
   },
   {
    "duration": 47,
    "start_time": "2021-10-27T14:00:16.927Z"
   },
   {
    "duration": 55,
    "start_time": "2021-10-27T14:00:16.976Z"
   },
   {
    "duration": 75,
    "start_time": "2021-10-27T14:00:17.033Z"
   },
   {
    "duration": 30,
    "start_time": "2021-10-27T14:00:17.109Z"
   },
   {
    "duration": 45,
    "start_time": "2021-10-27T14:00:17.142Z"
   },
   {
    "duration": 15,
    "start_time": "2021-10-27T14:00:17.189Z"
   },
   {
    "duration": 1357,
    "start_time": "2021-10-27T14:00:17.206Z"
   },
   {
    "duration": 13,
    "start_time": "2021-10-27T14:00:18.565Z"
   },
   {
    "duration": 26,
    "start_time": "2021-10-27T14:00:18.580Z"
   },
   {
    "duration": 727,
    "start_time": "2021-10-27T14:00:18.607Z"
   },
   {
    "duration": 22,
    "start_time": "2021-10-27T14:00:19.337Z"
   },
   {
    "duration": 271,
    "start_time": "2021-10-27T14:00:19.361Z"
   },
   {
    "duration": 271,
    "start_time": "2021-10-27T14:00:19.635Z"
   },
   {
    "duration": 221,
    "start_time": "2021-10-27T14:00:19.908Z"
   },
   {
    "duration": 196,
    "start_time": "2021-10-27T14:00:20.131Z"
   },
   {
    "duration": 192,
    "start_time": "2021-10-27T14:00:20.329Z"
   },
   {
    "duration": 9,
    "start_time": "2021-10-27T14:00:20.523Z"
   },
   {
    "duration": 164,
    "start_time": "2021-10-27T14:00:20.534Z"
   },
   {
    "duration": 9,
    "start_time": "2021-10-27T14:00:20.700Z"
   },
   {
    "duration": 25,
    "start_time": "2021-10-27T14:00:20.710Z"
   },
   {
    "duration": 153,
    "start_time": "2021-10-27T14:00:20.737Z"
   },
   {
    "duration": 11,
    "start_time": "2021-10-27T14:00:20.892Z"
   },
   {
    "duration": 24,
    "start_time": "2021-10-27T14:00:20.905Z"
   },
   {
    "duration": 159,
    "start_time": "2021-10-27T14:00:20.931Z"
   },
   {
    "duration": 9,
    "start_time": "2021-10-27T14:00:21.092Z"
   },
   {
    "duration": 33,
    "start_time": "2021-10-27T14:00:21.103Z"
   },
   {
    "duration": 169,
    "start_time": "2021-10-27T14:00:21.137Z"
   },
   {
    "duration": 11,
    "start_time": "2021-10-27T14:00:21.308Z"
   },
   {
    "duration": 26,
    "start_time": "2021-10-27T14:00:21.321Z"
   },
   {
    "duration": 153,
    "start_time": "2021-10-27T14:00:21.349Z"
   },
   {
    "duration": 11,
    "start_time": "2021-10-27T14:00:21.503Z"
   },
   {
    "duration": 40,
    "start_time": "2021-10-27T14:00:21.516Z"
   },
   {
    "duration": 24,
    "start_time": "2021-10-27T14:00:21.558Z"
   },
   {
    "duration": 200,
    "start_time": "2021-10-27T14:00:21.584Z"
   },
   {
    "duration": 9,
    "start_time": "2021-10-27T14:00:21.786Z"
   },
   {
    "duration": 203,
    "start_time": "2021-10-27T14:00:21.797Z"
   },
   {
    "duration": 207,
    "start_time": "2021-10-27T14:00:22.005Z"
   },
   {
    "duration": 251,
    "start_time": "2021-10-27T14:00:22.214Z"
   },
   {
    "duration": 200,
    "start_time": "2021-10-27T14:00:22.467Z"
   },
   {
    "duration": 196,
    "start_time": "2021-10-27T14:00:22.669Z"
   },
   {
    "duration": 9,
    "start_time": "2021-10-27T14:00:22.867Z"
   },
   {
    "duration": 19,
    "start_time": "2021-10-27T14:00:22.877Z"
   },
   {
    "duration": 19,
    "start_time": "2021-10-27T14:00:22.898Z"
   },
   {
    "duration": 16,
    "start_time": "2021-10-27T14:00:22.919Z"
   },
   {
    "duration": 189,
    "start_time": "2021-10-27T14:00:22.937Z"
   },
   {
    "duration": 190,
    "start_time": "2021-10-27T14:00:23.128Z"
   },
   {
    "duration": 673,
    "start_time": "2021-10-27T14:02:28.567Z"
   },
   {
    "duration": 89,
    "start_time": "2021-10-27T14:02:29.242Z"
   },
   {
    "duration": 20,
    "start_time": "2021-10-27T14:02:29.334Z"
   },
   {
    "duration": 40,
    "start_time": "2021-10-27T14:02:29.356Z"
   },
   {
    "duration": 9,
    "start_time": "2021-10-27T14:02:29.398Z"
   },
   {
    "duration": 4,
    "start_time": "2021-10-27T14:02:29.409Z"
   },
   {
    "duration": 30,
    "start_time": "2021-10-27T14:02:29.414Z"
   },
   {
    "duration": 22,
    "start_time": "2021-10-27T14:02:29.447Z"
   },
   {
    "duration": 13,
    "start_time": "2021-10-27T14:02:29.471Z"
   },
   {
    "duration": 20,
    "start_time": "2021-10-27T14:02:29.486Z"
   },
   {
    "duration": 37,
    "start_time": "2021-10-27T14:02:29.508Z"
   },
   {
    "duration": 28,
    "start_time": "2021-10-27T14:02:29.547Z"
   },
   {
    "duration": 26,
    "start_time": "2021-10-27T14:02:29.577Z"
   },
   {
    "duration": 5,
    "start_time": "2021-10-27T14:02:29.604Z"
   },
   {
    "duration": 10,
    "start_time": "2021-10-27T14:02:29.610Z"
   },
   {
    "duration": 11,
    "start_time": "2021-10-27T14:02:29.644Z"
   },
   {
    "duration": 15,
    "start_time": "2021-10-27T14:02:29.656Z"
   },
   {
    "duration": 11,
    "start_time": "2021-10-27T14:02:29.673Z"
   },
   {
    "duration": 16,
    "start_time": "2021-10-27T14:02:29.685Z"
   },
   {
    "duration": 19,
    "start_time": "2021-10-27T14:02:29.703Z"
   },
   {
    "duration": 32,
    "start_time": "2021-10-27T14:02:29.744Z"
   },
   {
    "duration": 10,
    "start_time": "2021-10-27T14:02:29.778Z"
   },
   {
    "duration": 2,
    "start_time": "2021-10-27T14:02:29.792Z"
   },
   {
    "duration": 4,
    "start_time": "2021-10-27T14:02:29.796Z"
   },
   {
    "duration": 45,
    "start_time": "2021-10-27T14:02:29.801Z"
   },
   {
    "duration": 5,
    "start_time": "2021-10-27T14:02:29.849Z"
   },
   {
    "duration": 23,
    "start_time": "2021-10-27T14:02:29.856Z"
   },
   {
    "duration": 8,
    "start_time": "2021-10-27T14:02:29.881Z"
   },
   {
    "duration": 9,
    "start_time": "2021-10-27T14:02:29.891Z"
   },
   {
    "duration": 58,
    "start_time": "2021-10-27T14:02:29.901Z"
   },
   {
    "duration": 3,
    "start_time": "2021-10-27T14:02:29.961Z"
   },
   {
    "duration": 10,
    "start_time": "2021-10-27T14:02:29.965Z"
   },
   {
    "duration": 23,
    "start_time": "2021-10-27T14:02:29.977Z"
   },
   {
    "duration": 46,
    "start_time": "2021-10-27T14:02:30.002Z"
   },
   {
    "duration": 14,
    "start_time": "2021-10-27T14:02:30.050Z"
   },
   {
    "duration": 23,
    "start_time": "2021-10-27T14:02:30.066Z"
   },
   {
    "duration": 3,
    "start_time": "2021-10-27T14:02:30.091Z"
   },
   {
    "duration": 1357,
    "start_time": "2021-10-27T14:02:30.095Z"
   },
   {
    "duration": 15,
    "start_time": "2021-10-27T14:02:31.453Z"
   },
   {
    "duration": 12,
    "start_time": "2021-10-27T14:02:31.470Z"
   },
   {
    "duration": 833,
    "start_time": "2021-10-27T14:02:31.483Z"
   },
   {
    "duration": 30,
    "start_time": "2021-10-27T14:02:32.317Z"
   },
   {
    "duration": 191,
    "start_time": "2021-10-27T14:02:32.349Z"
   },
   {
    "duration": 189,
    "start_time": "2021-10-27T14:02:32.542Z"
   },
   {
    "duration": 226,
    "start_time": "2021-10-27T14:02:32.733Z"
   },
   {
    "duration": 180,
    "start_time": "2021-10-27T14:02:32.961Z"
   },
   {
    "duration": 186,
    "start_time": "2021-10-27T14:02:33.144Z"
   },
   {
    "duration": 13,
    "start_time": "2021-10-27T14:02:33.332Z"
   },
   {
    "duration": 150,
    "start_time": "2021-10-27T14:02:33.347Z"
   },
   {
    "duration": 9,
    "start_time": "2021-10-27T14:02:33.498Z"
   },
   {
    "duration": 26,
    "start_time": "2021-10-27T14:02:33.509Z"
   },
   {
    "duration": 140,
    "start_time": "2021-10-27T14:02:33.537Z"
   },
   {
    "duration": 11,
    "start_time": "2021-10-27T14:02:33.679Z"
   },
   {
    "duration": 8,
    "start_time": "2021-10-27T14:02:33.692Z"
   },
   {
    "duration": 175,
    "start_time": "2021-10-27T14:02:33.702Z"
   },
   {
    "duration": 9,
    "start_time": "2021-10-27T14:02:33.879Z"
   },
   {
    "duration": 9,
    "start_time": "2021-10-27T14:02:33.890Z"
   },
   {
    "duration": 175,
    "start_time": "2021-10-27T14:02:33.901Z"
   },
   {
    "duration": 12,
    "start_time": "2021-10-27T14:02:34.078Z"
   },
   {
    "duration": 11,
    "start_time": "2021-10-27T14:02:34.092Z"
   },
   {
    "duration": 168,
    "start_time": "2021-10-27T14:02:34.105Z"
   },
   {
    "duration": 12,
    "start_time": "2021-10-27T14:02:34.276Z"
   },
   {
    "duration": 13,
    "start_time": "2021-10-27T14:02:34.290Z"
   },
   {
    "duration": 42,
    "start_time": "2021-10-27T14:02:34.305Z"
   },
   {
    "duration": 201,
    "start_time": "2021-10-27T14:02:34.349Z"
   },
   {
    "duration": 11,
    "start_time": "2021-10-27T14:02:34.552Z"
   },
   {
    "duration": 207,
    "start_time": "2021-10-27T14:02:34.565Z"
   },
   {
    "duration": 198,
    "start_time": "2021-10-27T14:02:34.778Z"
   },
   {
    "duration": 241,
    "start_time": "2021-10-27T14:02:34.979Z"
   },
   {
    "duration": 186,
    "start_time": "2021-10-27T14:02:35.222Z"
   },
   {
    "duration": 195,
    "start_time": "2021-10-27T14:02:35.410Z"
   },
   {
    "duration": 10,
    "start_time": "2021-10-27T14:02:35.607Z"
   },
   {
    "duration": 13,
    "start_time": "2021-10-27T14:02:35.620Z"
   },
   {
    "duration": 5,
    "start_time": "2021-10-27T14:02:35.645Z"
   },
   {
    "duration": 14,
    "start_time": "2021-10-27T14:02:35.652Z"
   },
   {
    "duration": 191,
    "start_time": "2021-10-27T14:02:35.668Z"
   },
   {
    "duration": 215,
    "start_time": "2021-10-27T14:02:35.861Z"
   },
   {
    "duration": 25,
    "start_time": "2021-10-27T14:02:36.078Z"
   },
   {
    "duration": 7,
    "start_time": "2021-10-27T14:02:36.104Z"
   },
   {
    "duration": 61,
    "start_time": "2021-10-27T14:02:36.113Z"
   },
   {
    "duration": 41,
    "start_time": "2021-10-27T14:02:36.175Z"
   },
   {
    "duration": 187,
    "start_time": "2021-10-27T14:10:30.107Z"
   },
   {
    "duration": 192,
    "start_time": "2021-10-27T14:10:51.606Z"
   },
   {
    "duration": 219,
    "start_time": "2021-10-27T14:11:20.217Z"
   },
   {
    "duration": 182,
    "start_time": "2021-10-27T14:11:42.951Z"
   },
   {
    "duration": 195,
    "start_time": "2021-10-27T14:11:53.693Z"
   },
   {
    "duration": 173,
    "start_time": "2021-10-27T14:12:11.420Z"
   },
   {
    "duration": 32,
    "start_time": "2021-10-27T15:52:05.907Z"
   },
   {
    "duration": 339,
    "start_time": "2021-10-27T15:53:46.623Z"
   },
   {
    "duration": 60,
    "start_time": "2021-10-27T15:53:54.325Z"
   },
   {
    "duration": 32,
    "start_time": "2021-10-27T15:54:37.153Z"
   },
   {
    "duration": 103,
    "start_time": "2021-10-27T15:54:56.289Z"
   },
   {
    "duration": 337,
    "start_time": "2021-10-27T15:55:48.245Z"
   },
   {
    "duration": 32,
    "start_time": "2021-10-27T15:56:04.042Z"
   },
   {
    "duration": 16,
    "start_time": "2021-10-27T15:56:29.138Z"
   },
   {
    "duration": 9,
    "start_time": "2021-10-27T15:56:53.971Z"
   },
   {
    "duration": 7,
    "start_time": "2021-10-27T15:57:14.341Z"
   },
   {
    "duration": 209,
    "start_time": "2021-10-27T15:57:24.319Z"
   },
   {
    "duration": 199,
    "start_time": "2021-10-27T15:57:36.395Z"
   },
   {
    "duration": 19,
    "start_time": "2021-10-27T16:06:23.707Z"
   },
   {
    "duration": 9,
    "start_time": "2021-10-27T16:06:30.983Z"
   },
   {
    "duration": 378,
    "start_time": "2021-10-27T16:06:40.727Z"
   },
   {
    "duration": 197,
    "start_time": "2021-10-27T16:07:15.973Z"
   },
   {
    "duration": 250,
    "start_time": "2021-10-27T16:08:07.265Z"
   },
   {
    "duration": -58,
    "start_time": "2021-10-27T16:10:01.304Z"
   },
   {
    "duration": 9,
    "start_time": "2021-10-27T16:10:01.507Z"
   },
   {
    "duration": 8071,
    "start_time": "2021-10-27T16:10:04.738Z"
   },
   {
    "duration": -62,
    "start_time": "2021-10-27T16:10:47.976Z"
   },
   {
    "duration": 6911,
    "start_time": "2021-10-27T16:11:18.538Z"
   },
   {
    "duration": 7657,
    "start_time": "2021-10-27T16:11:52.265Z"
   },
   {
    "duration": 194,
    "start_time": "2021-10-27T16:12:17.513Z"
   },
   {
    "duration": 1204,
    "start_time": "2021-10-27T16:17:30.518Z"
   },
   {
    "duration": 3,
    "start_time": "2021-10-27T16:17:55.614Z"
   },
   {
    "duration": 7,
    "start_time": "2021-10-27T16:18:06.826Z"
   },
   {
    "duration": 191,
    "start_time": "2021-10-27T16:18:36.106Z"
   },
   {
    "duration": 269,
    "start_time": "2021-10-27T16:18:49.304Z"
   },
   {
    "duration": 912,
    "start_time": "2021-10-28T11:24:11.874Z"
   },
   {
    "duration": 124,
    "start_time": "2021-10-28T11:24:12.788Z"
   },
   {
    "duration": 28,
    "start_time": "2021-10-28T11:24:12.915Z"
   },
   {
    "duration": 74,
    "start_time": "2021-10-28T11:24:12.946Z"
   },
   {
    "duration": 15,
    "start_time": "2021-10-28T11:24:13.022Z"
   },
   {
    "duration": 29,
    "start_time": "2021-10-28T11:24:13.039Z"
   },
   {
    "duration": 8,
    "start_time": "2021-10-28T11:24:13.071Z"
   },
   {
    "duration": 44,
    "start_time": "2021-10-28T11:24:13.082Z"
   },
   {
    "duration": 46,
    "start_time": "2021-10-28T11:24:13.133Z"
   },
   {
    "duration": 39,
    "start_time": "2021-10-28T11:24:13.183Z"
   },
   {
    "duration": 15,
    "start_time": "2021-10-28T11:24:13.225Z"
   },
   {
    "duration": 82,
    "start_time": "2021-10-28T11:24:13.243Z"
   },
   {
    "duration": 77,
    "start_time": "2021-10-28T11:24:13.329Z"
   },
   {
    "duration": 10,
    "start_time": "2021-10-28T11:24:13.410Z"
   },
   {
    "duration": 19,
    "start_time": "2021-10-28T11:24:13.423Z"
   },
   {
    "duration": 21,
    "start_time": "2021-10-28T11:24:13.468Z"
   },
   {
    "duration": 38,
    "start_time": "2021-10-28T11:24:13.492Z"
   },
   {
    "duration": 13,
    "start_time": "2021-10-28T11:24:13.533Z"
   },
   {
    "duration": 11,
    "start_time": "2021-10-28T11:24:13.568Z"
   },
   {
    "duration": 26,
    "start_time": "2021-10-28T11:24:13.582Z"
   },
   {
    "duration": 80,
    "start_time": "2021-10-28T11:24:13.610Z"
   },
   {
    "duration": 18,
    "start_time": "2021-10-28T11:24:13.692Z"
   },
   {
    "duration": 4,
    "start_time": "2021-10-28T11:24:13.712Z"
   },
   {
    "duration": 11,
    "start_time": "2021-10-28T11:24:13.718Z"
   },
   {
    "duration": 58,
    "start_time": "2021-10-28T11:24:13.731Z"
   },
   {
    "duration": 6,
    "start_time": "2021-10-28T11:24:13.793Z"
   },
   {
    "duration": 70,
    "start_time": "2021-10-28T11:24:13.807Z"
   },
   {
    "duration": 12,
    "start_time": "2021-10-28T11:24:13.881Z"
   },
   {
    "duration": 13,
    "start_time": "2021-10-28T11:24:13.895Z"
   },
   {
    "duration": 57,
    "start_time": "2021-10-28T11:24:13.910Z"
   },
   {
    "duration": 3,
    "start_time": "2021-10-28T11:24:13.970Z"
   },
   {
    "duration": 19,
    "start_time": "2021-10-28T11:24:13.976Z"
   },
   {
    "duration": 32,
    "start_time": "2021-10-28T11:24:13.998Z"
   },
   {
    "duration": 53,
    "start_time": "2021-10-28T11:24:14.032Z"
   },
   {
    "duration": 11,
    "start_time": "2021-10-28T11:24:14.088Z"
   },
   {
    "duration": 33,
    "start_time": "2021-10-28T11:24:14.101Z"
   },
   {
    "duration": 34,
    "start_time": "2021-10-28T11:24:14.136Z"
   },
   {
    "duration": 2228,
    "start_time": "2021-10-28T11:24:14.173Z"
   },
   {
    "duration": 23,
    "start_time": "2021-10-28T11:24:16.404Z"
   },
   {
    "duration": 5,
    "start_time": "2021-10-28T11:24:16.429Z"
   },
   {
    "duration": 1187,
    "start_time": "2021-10-28T11:24:16.436Z"
   },
   {
    "duration": 43,
    "start_time": "2021-10-28T11:24:17.626Z"
   },
   {
    "duration": 420,
    "start_time": "2021-10-28T11:24:17.671Z"
   },
   {
    "duration": 416,
    "start_time": "2021-10-28T11:24:18.093Z"
   },
   {
    "duration": 400,
    "start_time": "2021-10-28T11:24:18.511Z"
   },
   {
    "duration": 357,
    "start_time": "2021-10-28T11:24:18.914Z"
   },
   {
    "duration": 334,
    "start_time": "2021-10-28T11:24:19.275Z"
   },
   {
    "duration": 14,
    "start_time": "2021-10-28T11:24:19.612Z"
   },
   {
    "duration": 273,
    "start_time": "2021-10-28T11:24:19.629Z"
   },
   {
    "duration": 16,
    "start_time": "2021-10-28T11:24:19.905Z"
   },
   {
    "duration": 15,
    "start_time": "2021-10-28T11:24:19.924Z"
   },
   {
    "duration": 262,
    "start_time": "2021-10-28T11:24:19.941Z"
   },
   {
    "duration": 18,
    "start_time": "2021-10-28T11:24:20.205Z"
   },
   {
    "duration": 12,
    "start_time": "2021-10-28T11:24:20.226Z"
   },
   {
    "duration": 241,
    "start_time": "2021-10-28T11:24:20.268Z"
   },
   {
    "duration": 14,
    "start_time": "2021-10-28T11:24:20.512Z"
   },
   {
    "duration": 15,
    "start_time": "2021-10-28T11:24:20.528Z"
   },
   {
    "duration": 254,
    "start_time": "2021-10-28T11:24:20.568Z"
   },
   {
    "duration": 18,
    "start_time": "2021-10-28T11:24:20.825Z"
   },
   {
    "duration": 30,
    "start_time": "2021-10-28T11:24:20.846Z"
   },
   {
    "duration": 318,
    "start_time": "2021-10-28T11:24:20.879Z"
   },
   {
    "duration": 17,
    "start_time": "2021-10-28T11:24:21.200Z"
   },
   {
    "duration": 21,
    "start_time": "2021-10-28T11:24:21.220Z"
   },
   {
    "duration": 44,
    "start_time": "2021-10-28T11:24:21.244Z"
   },
   {
    "duration": 337,
    "start_time": "2021-10-28T11:24:21.290Z"
   },
   {
    "duration": 13,
    "start_time": "2021-10-28T11:24:21.630Z"
   },
   {
    "duration": 341,
    "start_time": "2021-10-28T11:24:21.645Z"
   },
   {
    "duration": 325,
    "start_time": "2021-10-28T11:24:21.988Z"
   },
   {
    "duration": 399,
    "start_time": "2021-10-28T11:24:22.315Z"
   },
   {
    "duration": 309,
    "start_time": "2021-10-28T11:24:22.716Z"
   },
   {
    "duration": 343,
    "start_time": "2021-10-28T11:24:23.027Z"
   },
   {
    "duration": 11,
    "start_time": "2021-10-28T11:24:23.372Z"
   },
   {
    "duration": 14,
    "start_time": "2021-10-28T11:24:23.385Z"
   },
   {
    "duration": 10,
    "start_time": "2021-10-28T11:24:23.402Z"
   },
   {
    "duration": 12,
    "start_time": "2021-10-28T11:24:23.415Z"
   },
   {
    "duration": 343,
    "start_time": "2021-10-28T11:24:23.429Z"
   },
   {
    "duration": 357,
    "start_time": "2021-10-28T11:24:23.775Z"
   },
   {
    "duration": 14,
    "start_time": "2021-10-28T11:24:24.134Z"
   },
   {
    "duration": 20,
    "start_time": "2021-10-28T11:24:24.150Z"
   },
   {
    "duration": 34,
    "start_time": "2021-10-28T11:24:24.173Z"
   },
   {
    "duration": 11,
    "start_time": "2021-10-28T11:24:24.217Z"
   },
   {
    "duration": 36,
    "start_time": "2021-10-28T11:24:24.231Z"
   },
   {
    "duration": 14,
    "start_time": "2021-10-28T11:24:24.270Z"
   },
   {
    "duration": 368,
    "start_time": "2021-10-28T11:24:24.287Z"
   },
   {
    "duration": 20,
    "start_time": "2021-10-28T11:24:24.659Z"
   },
   {
    "duration": 92,
    "start_time": "2021-10-28T11:24:24.682Z"
   },
   {
    "duration": 70,
    "start_time": "2021-10-28T11:24:24.776Z"
   },
   {
    "duration": 24,
    "start_time": "2021-10-28T11:26:03.400Z"
   },
   {
    "duration": 38,
    "start_time": "2021-10-28T11:29:04.494Z"
   },
   {
    "duration": 33,
    "start_time": "2021-10-28T11:29:24.017Z"
   },
   {
    "duration": 31,
    "start_time": "2021-10-28T11:29:38.512Z"
   },
   {
    "duration": 12,
    "start_time": "2021-10-28T11:30:37.576Z"
   },
   {
    "duration": 317,
    "start_time": "2021-10-28T11:31:08.465Z"
   },
   {
    "duration": 30,
    "start_time": "2021-10-28T11:36:25.923Z"
   },
   {
    "duration": 40,
    "start_time": "2021-10-28T11:36:35.448Z"
   },
   {
    "duration": 40,
    "start_time": "2021-10-28T11:36:54.676Z"
   },
   {
    "duration": 33,
    "start_time": "2021-10-28T11:37:35.265Z"
   },
   {
    "duration": 10,
    "start_time": "2021-10-28T11:38:18.542Z"
   },
   {
    "duration": 25,
    "start_time": "2021-10-28T11:38:20.538Z"
   },
   {
    "duration": 145,
    "start_time": "2021-10-28T11:38:53.037Z"
   },
   {
    "duration": 311,
    "start_time": "2021-10-28T11:39:03.030Z"
   },
   {
    "duration": 10,
    "start_time": "2021-10-28T11:39:17.127Z"
   },
   {
    "duration": 431,
    "start_time": "2021-10-28T11:39:18.786Z"
   },
   {
    "duration": 22,
    "start_time": "2021-10-28T11:39:47.643Z"
   },
   {
    "duration": 23,
    "start_time": "2021-10-28T11:39:58.653Z"
   },
   {
    "duration": 21,
    "start_time": "2021-10-28T11:40:11.670Z"
   },
   {
    "duration": 21,
    "start_time": "2021-10-28T11:40:35.771Z"
   },
   {
    "duration": 8,
    "start_time": "2021-10-28T11:41:48.342Z"
   },
   {
    "duration": 441,
    "start_time": "2021-10-28T11:41:50.726Z"
   },
   {
    "duration": 22,
    "start_time": "2021-10-28T11:42:00.359Z"
   },
   {
    "duration": 24,
    "start_time": "2021-10-28T11:42:35.214Z"
   },
   {
    "duration": 27,
    "start_time": "2021-10-28T11:42:45.543Z"
   },
   {
    "duration": 24,
    "start_time": "2021-10-28T11:43:01.221Z"
   },
   {
    "duration": 10,
    "start_time": "2021-10-28T11:43:09.457Z"
   },
   {
    "duration": 477,
    "start_time": "2021-10-28T11:43:14.539Z"
   },
   {
    "duration": 23,
    "start_time": "2021-10-28T11:43:18.983Z"
   },
   {
    "duration": 23,
    "start_time": "2021-10-28T11:43:25.899Z"
   },
   {
    "duration": 18,
    "start_time": "2021-10-28T11:43:34.219Z"
   },
   {
    "duration": 21448,
    "start_time": "2021-10-28T11:46:41.091Z"
   },
   {
    "duration": 75,
    "start_time": "2021-10-28T11:47:25.775Z"
   },
   {
    "duration": 21860,
    "start_time": "2021-10-28T11:47:32.726Z"
   },
   {
    "duration": 69,
    "start_time": "2021-10-28T11:48:15.389Z"
   },
   {
    "duration": 4,
    "start_time": "2021-10-28T11:48:59.779Z"
   },
   {
    "duration": 19,
    "start_time": "2021-10-28T11:49:34.089Z"
   },
   {
    "duration": -30,
    "start_time": "2021-10-28T11:51:17.841Z"
   },
   {
    "duration": 29,
    "start_time": "2021-10-28T11:51:27.246Z"
   },
   {
    "duration": 20059,
    "start_time": "2021-10-28T11:51:57.972Z"
   },
   {
    "duration": 23,
    "start_time": "2021-10-28T11:52:18.012Z"
   },
   {
    "duration": 35,
    "start_time": "2021-10-28T11:52:26.660Z"
   },
   {
    "duration": 39,
    "start_time": "2021-10-28T11:53:28.297Z"
   },
   {
    "duration": 4,
    "start_time": "2021-10-28T11:55:01.316Z"
   },
   {
    "duration": 23307,
    "start_time": "2021-10-28T11:55:15.554Z"
   },
   {
    "duration": 5,
    "start_time": "2021-10-28T11:57:44.575Z"
   },
   {
    "duration": 20438,
    "start_time": "2021-10-28T11:57:53.289Z"
   },
   {
    "duration": 669,
    "start_time": "2021-10-28T12:17:20.072Z"
   },
   {
    "duration": 624,
    "start_time": "2021-10-28T12:17:39.323Z"
   },
   {
    "duration": 22854,
    "start_time": "2021-10-28T12:19:57.236Z"
   },
   {
    "duration": 23680,
    "start_time": "2021-10-28T12:20:56.975Z"
   },
   {
    "duration": 15,
    "start_time": "2021-10-28T12:34:16.488Z"
   },
   {
    "duration": 78,
    "start_time": "2021-10-28T12:34:36.987Z"
   },
   {
    "duration": 26,
    "start_time": "2021-10-28T12:35:04.283Z"
   },
   {
    "duration": 27,
    "start_time": "2021-10-28T12:35:21.422Z"
   },
   {
    "duration": 38,
    "start_time": "2021-10-28T12:37:44.884Z"
   },
   {
    "duration": 15,
    "start_time": "2021-10-28T12:38:07.089Z"
   },
   {
    "duration": 17,
    "start_time": "2021-10-28T12:38:12.479Z"
   },
   {
    "duration": 23,
    "start_time": "2021-10-28T12:38:16.020Z"
   },
   {
    "duration": 21,
    "start_time": "2021-10-28T12:38:22.233Z"
   },
   {
    "duration": 958,
    "start_time": "2021-10-28T12:38:31.738Z"
   },
   {
    "duration": 135,
    "start_time": "2021-10-28T12:38:32.700Z"
   },
   {
    "duration": 37,
    "start_time": "2021-10-28T12:38:32.838Z"
   },
   {
    "duration": 63,
    "start_time": "2021-10-28T12:38:32.879Z"
   },
   {
    "duration": 58,
    "start_time": "2021-10-28T12:38:32.945Z"
   },
   {
    "duration": 7,
    "start_time": "2021-10-28T12:38:33.006Z"
   },
   {
    "duration": 11,
    "start_time": "2021-10-28T12:38:33.016Z"
   },
   {
    "duration": 43,
    "start_time": "2021-10-28T12:38:33.032Z"
   },
   {
    "duration": 21,
    "start_time": "2021-10-28T12:38:33.079Z"
   },
   {
    "duration": 26,
    "start_time": "2021-10-28T12:38:33.103Z"
   },
   {
    "duration": 47,
    "start_time": "2021-10-28T12:38:33.132Z"
   },
   {
    "duration": 45,
    "start_time": "2021-10-28T12:38:33.182Z"
   },
   {
    "duration": 74,
    "start_time": "2021-10-28T12:38:33.230Z"
   },
   {
    "duration": 7,
    "start_time": "2021-10-28T12:38:33.306Z"
   },
   {
    "duration": 13,
    "start_time": "2021-10-28T12:38:33.316Z"
   },
   {
    "duration": 45,
    "start_time": "2021-10-28T12:38:33.331Z"
   },
   {
    "duration": 23,
    "start_time": "2021-10-28T12:38:33.379Z"
   },
   {
    "duration": 14,
    "start_time": "2021-10-28T12:38:33.405Z"
   },
   {
    "duration": 51,
    "start_time": "2021-10-28T12:38:33.423Z"
   },
   {
    "duration": 34,
    "start_time": "2021-10-28T12:38:33.477Z"
   },
   {
    "duration": 87,
    "start_time": "2021-10-28T12:38:33.514Z"
   },
   {
    "duration": 24,
    "start_time": "2021-10-28T12:38:33.604Z"
   },
   {
    "duration": 5,
    "start_time": "2021-10-28T12:38:33.636Z"
   },
   {
    "duration": 24,
    "start_time": "2021-10-28T12:38:33.646Z"
   },
   {
    "duration": 36,
    "start_time": "2021-10-28T12:38:33.672Z"
   },
   {
    "duration": 8,
    "start_time": "2021-10-28T12:38:33.710Z"
   },
   {
    "duration": 76,
    "start_time": "2021-10-28T12:38:33.721Z"
   },
   {
    "duration": 12,
    "start_time": "2021-10-28T12:38:33.801Z"
   },
   {
    "duration": 12,
    "start_time": "2021-10-28T12:38:33.815Z"
   },
   {
    "duration": 67,
    "start_time": "2021-10-28T12:38:33.829Z"
   },
   {
    "duration": 3,
    "start_time": "2021-10-28T12:38:33.899Z"
   },
   {
    "duration": 15,
    "start_time": "2021-10-28T12:38:33.905Z"
   },
   {
    "duration": 57,
    "start_time": "2021-10-28T12:38:33.923Z"
   },
   {
    "duration": 33,
    "start_time": "2021-10-28T12:38:33.982Z"
   },
   {
    "duration": 11,
    "start_time": "2021-10-28T12:38:34.017Z"
   },
   {
    "duration": 54,
    "start_time": "2021-10-28T12:38:34.031Z"
   },
   {
    "duration": 4,
    "start_time": "2021-10-28T12:38:34.088Z"
   },
   {
    "duration": 2413,
    "start_time": "2021-10-28T12:38:34.095Z"
   },
   {
    "duration": 24,
    "start_time": "2021-10-28T12:38:36.510Z"
   },
   {
    "duration": 5,
    "start_time": "2021-10-28T12:38:36.537Z"
   },
   {
    "duration": 1268,
    "start_time": "2021-10-28T12:38:36.568Z"
   },
   {
    "duration": 53,
    "start_time": "2021-10-28T12:38:37.838Z"
   },
   {
    "duration": 363,
    "start_time": "2021-10-28T12:38:37.894Z"
   },
   {
    "duration": 334,
    "start_time": "2021-10-28T12:38:38.268Z"
   },
   {
    "duration": 375,
    "start_time": "2021-10-28T12:38:38.605Z"
   },
   {
    "duration": 340,
    "start_time": "2021-10-28T12:38:38.984Z"
   },
   {
    "duration": 325,
    "start_time": "2021-10-28T12:38:39.327Z"
   },
   {
    "duration": 23,
    "start_time": "2021-10-28T12:38:39.655Z"
   },
   {
    "duration": 278,
    "start_time": "2021-10-28T12:38:39.681Z"
   },
   {
    "duration": 18,
    "start_time": "2021-10-28T12:38:39.967Z"
   },
   {
    "duration": 14,
    "start_time": "2021-10-28T12:38:39.988Z"
   },
   {
    "duration": 273,
    "start_time": "2021-10-28T12:38:40.005Z"
   },
   {
    "duration": 19,
    "start_time": "2021-10-28T12:38:40.280Z"
   },
   {
    "duration": 13,
    "start_time": "2021-10-28T12:38:40.302Z"
   },
   {
    "duration": 297,
    "start_time": "2021-10-28T12:38:40.317Z"
   },
   {
    "duration": 17,
    "start_time": "2021-10-28T12:38:40.617Z"
   },
   {
    "duration": 41,
    "start_time": "2021-10-28T12:38:40.637Z"
   },
   {
    "duration": 277,
    "start_time": "2021-10-28T12:38:40.682Z"
   },
   {
    "duration": 20,
    "start_time": "2021-10-28T12:38:40.966Z"
   },
   {
    "duration": 13,
    "start_time": "2021-10-28T12:38:40.989Z"
   },
   {
    "duration": 293,
    "start_time": "2021-10-28T12:38:41.004Z"
   },
   {
    "duration": 19,
    "start_time": "2021-10-28T12:38:41.300Z"
   },
   {
    "duration": 47,
    "start_time": "2021-10-28T12:38:41.322Z"
   },
   {
    "duration": 29,
    "start_time": "2021-10-28T12:38:41.372Z"
   },
   {
    "duration": 364,
    "start_time": "2021-10-28T12:38:41.403Z"
   },
   {
    "duration": 14,
    "start_time": "2021-10-28T12:38:41.770Z"
   },
   {
    "duration": 350,
    "start_time": "2021-10-28T12:38:41.786Z"
   },
   {
    "duration": 363,
    "start_time": "2021-10-28T12:38:42.147Z"
   },
   {
    "duration": 432,
    "start_time": "2021-10-28T12:38:42.513Z"
   },
   {
    "duration": 336,
    "start_time": "2021-10-28T12:38:42.949Z"
   },
   {
    "duration": 355,
    "start_time": "2021-10-28T12:38:43.288Z"
   },
   {
    "duration": 28,
    "start_time": "2021-10-28T12:38:43.646Z"
   },
   {
    "duration": 8,
    "start_time": "2021-10-28T12:38:43.677Z"
   },
   {
    "duration": 9,
    "start_time": "2021-10-28T12:38:43.688Z"
   },
   {
    "duration": 14,
    "start_time": "2021-10-28T12:38:43.700Z"
   },
   {
    "duration": 362,
    "start_time": "2021-10-28T12:38:43.717Z"
   },
   {
    "duration": 353,
    "start_time": "2021-10-28T12:38:44.082Z"
   },
   {
    "duration": 13,
    "start_time": "2021-10-28T12:38:44.437Z"
   },
   {
    "duration": 10,
    "start_time": "2021-10-28T12:38:44.467Z"
   },
   {
    "duration": 26,
    "start_time": "2021-10-28T12:38:44.480Z"
   },
   {
    "duration": 60,
    "start_time": "2021-10-28T12:38:44.509Z"
   },
   {
    "duration": 14,
    "start_time": "2021-10-28T12:38:44.571Z"
   },
   {
    "duration": 379,
    "start_time": "2021-10-28T12:38:44.588Z"
   },
   {
    "duration": 10,
    "start_time": "2021-10-28T12:38:44.970Z"
   },
   {
    "duration": 353,
    "start_time": "2021-10-28T12:38:44.983Z"
   },
   {
    "duration": 27,
    "start_time": "2021-10-28T12:38:45.339Z"
   },
   {
    "duration": 10,
    "start_time": "2021-10-28T12:38:45.370Z"
   },
   {
    "duration": 359,
    "start_time": "2021-10-28T12:38:45.384Z"
   },
   {
    "duration": 24,
    "start_time": "2021-10-28T12:38:45.746Z"
   },
   {
    "duration": 36,
    "start_time": "2021-10-28T12:38:45.772Z"
   },
   {
    "duration": 11,
    "start_time": "2021-10-28T12:38:45.811Z"
   },
   {
    "duration": 6,
    "start_time": "2021-10-28T12:38:45.824Z"
   },
   {
    "duration": 12,
    "start_time": "2021-10-28T12:38:45.868Z"
   },
   {
    "duration": 384,
    "start_time": "2021-10-28T12:38:45.883Z"
   },
   {
    "duration": 12,
    "start_time": "2021-10-28T12:38:46.270Z"
   },
   {
    "duration": 100,
    "start_time": "2021-10-28T12:38:46.285Z"
   },
   {
    "duration": 37,
    "start_time": "2021-10-28T12:38:46.388Z"
   },
   {
    "duration": 4,
    "start_time": "2021-10-28T12:38:46.427Z"
   },
   {
    "duration": 103,
    "start_time": "2021-10-28T12:38:46.433Z"
   },
   {
    "duration": 61,
    "start_time": "2021-10-28T12:38:46.538Z"
   },
   {
    "duration": 38,
    "start_time": "2021-10-28T12:38:46.603Z"
   },
   {
    "duration": 22254,
    "start_time": "2021-10-28T12:38:46.644Z"
   },
   {
    "duration": 13,
    "start_time": "2021-10-28T12:40:12.851Z"
   },
   {
    "duration": 24,
    "start_time": "2021-10-28T12:41:45.164Z"
   },
   {
    "duration": 1013,
    "start_time": "2021-10-28T12:42:25.154Z"
   },
   {
    "duration": 127,
    "start_time": "2021-10-28T12:42:26.170Z"
   },
   {
    "duration": 28,
    "start_time": "2021-10-28T12:42:26.301Z"
   },
   {
    "duration": 81,
    "start_time": "2021-10-28T12:42:26.332Z"
   },
   {
    "duration": 15,
    "start_time": "2021-10-28T12:42:26.416Z"
   },
   {
    "duration": 4,
    "start_time": "2021-10-28T12:42:26.434Z"
   },
   {
    "duration": 5,
    "start_time": "2021-10-28T12:42:26.469Z"
   },
   {
    "duration": 35,
    "start_time": "2021-10-28T12:42:26.477Z"
   },
   {
    "duration": 19,
    "start_time": "2021-10-28T12:42:26.516Z"
   },
   {
    "duration": 52,
    "start_time": "2021-10-28T12:42:26.538Z"
   },
   {
    "duration": 12,
    "start_time": "2021-10-28T12:42:26.593Z"
   },
   {
    "duration": 77,
    "start_time": "2021-10-28T12:42:26.607Z"
   },
   {
    "duration": 38,
    "start_time": "2021-10-28T12:42:26.687Z"
   },
   {
    "duration": 7,
    "start_time": "2021-10-28T12:42:26.727Z"
   },
   {
    "duration": 36,
    "start_time": "2021-10-28T12:42:26.736Z"
   },
   {
    "duration": 24,
    "start_time": "2021-10-28T12:42:26.775Z"
   },
   {
    "duration": 18,
    "start_time": "2021-10-28T12:42:26.802Z"
   },
   {
    "duration": 59,
    "start_time": "2021-10-28T12:42:26.823Z"
   },
   {
    "duration": 14,
    "start_time": "2021-10-28T12:42:26.885Z"
   },
   {
    "duration": 26,
    "start_time": "2021-10-28T12:42:26.902Z"
   },
   {
    "duration": 67,
    "start_time": "2021-10-28T12:42:26.931Z"
   },
   {
    "duration": 17,
    "start_time": "2021-10-28T12:42:27.000Z"
   },
   {
    "duration": 4,
    "start_time": "2021-10-28T12:42:27.019Z"
   },
   {
    "duration": 5,
    "start_time": "2021-10-28T12:42:27.026Z"
   },
   {
    "duration": 34,
    "start_time": "2021-10-28T12:42:27.068Z"
   },
   {
    "duration": 8,
    "start_time": "2021-10-28T12:42:27.105Z"
   },
   {
    "duration": 66,
    "start_time": "2021-10-28T12:42:27.122Z"
   },
   {
    "duration": 14,
    "start_time": "2021-10-28T12:42:27.194Z"
   },
   {
    "duration": 13,
    "start_time": "2021-10-28T12:42:27.210Z"
   },
   {
    "duration": 58,
    "start_time": "2021-10-28T12:42:27.225Z"
   },
   {
    "duration": 4,
    "start_time": "2021-10-28T12:42:27.286Z"
   },
   {
    "duration": 13,
    "start_time": "2021-10-28T12:42:27.292Z"
   },
   {
    "duration": 62,
    "start_time": "2021-10-28T12:42:27.307Z"
   },
   {
    "duration": 29,
    "start_time": "2021-10-28T12:42:27.372Z"
   },
   {
    "duration": 10,
    "start_time": "2021-10-28T12:42:27.404Z"
   },
   {
    "duration": 57,
    "start_time": "2021-10-28T12:42:27.417Z"
   },
   {
    "duration": 6,
    "start_time": "2021-10-28T12:42:27.477Z"
   },
   {
    "duration": 2330,
    "start_time": "2021-10-28T12:42:27.486Z"
   },
   {
    "duration": 24,
    "start_time": "2021-10-28T12:42:29.819Z"
   },
   {
    "duration": 6,
    "start_time": "2021-10-28T12:42:29.867Z"
   },
   {
    "duration": 1982,
    "start_time": "2021-10-28T12:42:29.877Z"
   },
   {
    "duration": 49,
    "start_time": "2021-10-28T12:42:31.863Z"
   },
   {
    "duration": 446,
    "start_time": "2021-10-28T12:42:31.914Z"
   },
   {
    "duration": 464,
    "start_time": "2021-10-28T12:42:32.362Z"
   },
   {
    "duration": 353,
    "start_time": "2021-10-28T12:42:32.829Z"
   },
   {
    "duration": 334,
    "start_time": "2021-10-28T12:42:33.185Z"
   },
   {
    "duration": 304,
    "start_time": "2021-10-28T12:42:33.522Z"
   },
   {
    "duration": 15,
    "start_time": "2021-10-28T12:42:33.829Z"
   },
   {
    "duration": 363,
    "start_time": "2021-10-28T12:42:33.846Z"
   },
   {
    "duration": 16,
    "start_time": "2021-10-28T12:42:34.212Z"
   },
   {
    "duration": 37,
    "start_time": "2021-10-28T12:42:34.232Z"
   },
   {
    "duration": 242,
    "start_time": "2021-10-28T12:42:34.272Z"
   },
   {
    "duration": 19,
    "start_time": "2021-10-28T12:42:34.517Z"
   },
   {
    "duration": 32,
    "start_time": "2021-10-28T12:42:34.539Z"
   },
   {
    "duration": 242,
    "start_time": "2021-10-28T12:42:34.573Z"
   },
   {
    "duration": 16,
    "start_time": "2021-10-28T12:42:34.818Z"
   },
   {
    "duration": 160,
    "start_time": "2021-10-28T12:42:34.836Z"
   },
   {
    "duration": 254,
    "start_time": "2021-10-28T12:42:34.998Z"
   },
   {
    "duration": 26,
    "start_time": "2021-10-28T12:42:35.255Z"
   },
   {
    "duration": 17,
    "start_time": "2021-10-28T12:42:35.284Z"
   },
   {
    "duration": 338,
    "start_time": "2021-10-28T12:42:35.303Z"
   },
   {
    "duration": 38,
    "start_time": "2021-10-28T12:42:35.644Z"
   },
   {
    "duration": 27,
    "start_time": "2021-10-28T12:42:35.685Z"
   },
   {
    "duration": 53,
    "start_time": "2021-10-28T12:42:35.715Z"
   },
   {
    "duration": 476,
    "start_time": "2021-10-28T12:42:35.771Z"
   },
   {
    "duration": 24,
    "start_time": "2021-10-28T12:42:36.250Z"
   },
   {
    "duration": 307,
    "start_time": "2021-10-28T12:42:36.276Z"
   },
   {
    "duration": 453,
    "start_time": "2021-10-28T12:42:36.586Z"
   },
   {
    "duration": 389,
    "start_time": "2021-10-28T12:42:37.041Z"
   },
   {
    "duration": 291,
    "start_time": "2021-10-28T12:42:37.432Z"
   },
   {
    "duration": 347,
    "start_time": "2021-10-28T12:42:37.726Z"
   },
   {
    "duration": 12,
    "start_time": "2021-10-28T12:42:38.076Z"
   },
   {
    "duration": 7,
    "start_time": "2021-10-28T12:42:38.090Z"
   },
   {
    "duration": 7,
    "start_time": "2021-10-28T12:42:38.100Z"
   },
   {
    "duration": 74,
    "start_time": "2021-10-28T12:42:38.109Z"
   },
   {
    "duration": 285,
    "start_time": "2021-10-28T12:42:38.186Z"
   },
   {
    "duration": 418,
    "start_time": "2021-10-28T12:42:38.474Z"
   },
   {
    "duration": 18,
    "start_time": "2021-10-28T12:42:38.895Z"
   },
   {
    "duration": 10,
    "start_time": "2021-10-28T12:42:38.916Z"
   },
   {
    "duration": 55,
    "start_time": "2021-10-28T12:42:38.929Z"
   },
   {
    "duration": 32,
    "start_time": "2021-10-28T12:42:38.993Z"
   },
   {
    "duration": 41,
    "start_time": "2021-10-28T12:42:39.028Z"
   },
   {
    "duration": 320,
    "start_time": "2021-10-28T12:42:39.072Z"
   },
   {
    "duration": 9,
    "start_time": "2021-10-28T12:42:39.395Z"
   },
   {
    "duration": 483,
    "start_time": "2021-10-28T12:42:39.407Z"
   },
   {
    "duration": 24,
    "start_time": "2021-10-28T12:42:39.893Z"
   },
   {
    "duration": 10,
    "start_time": "2021-10-28T12:42:39.920Z"
   },
   {
    "duration": 362,
    "start_time": "2021-10-28T12:42:39.932Z"
   },
   {
    "duration": 19,
    "start_time": "2021-10-28T12:42:40.296Z"
   },
   {
    "duration": 61,
    "start_time": "2021-10-28T12:42:40.319Z"
   },
   {
    "duration": 16,
    "start_time": "2021-10-28T12:42:40.383Z"
   },
   {
    "duration": 8,
    "start_time": "2021-10-28T12:42:40.402Z"
   },
   {
    "duration": 17,
    "start_time": "2021-10-28T12:42:40.413Z"
   },
   {
    "duration": 529,
    "start_time": "2021-10-28T12:42:40.468Z"
   },
   {
    "duration": 12,
    "start_time": "2021-10-28T12:42:41.000Z"
   },
   {
    "duration": 97,
    "start_time": "2021-10-28T12:42:41.016Z"
   },
   {
    "duration": 51,
    "start_time": "2021-10-28T12:42:41.116Z"
   },
   {
    "duration": 4,
    "start_time": "2021-10-28T12:42:41.169Z"
   },
   {
    "duration": 125,
    "start_time": "2021-10-28T12:42:41.176Z"
   },
   {
    "duration": 39,
    "start_time": "2021-10-28T12:42:41.303Z"
   },
   {
    "duration": 54,
    "start_time": "2021-10-28T12:42:41.345Z"
   },
   {
    "duration": 20610,
    "start_time": "2021-10-28T12:42:41.401Z"
   },
   {
    "duration": 47,
    "start_time": "2021-10-28T12:43:17.111Z"
   },
   {
    "duration": 37,
    "start_time": "2021-10-28T12:43:42.709Z"
   },
   {
    "duration": 21675,
    "start_time": "2021-10-28T12:44:02.141Z"
   },
   {
    "duration": 734,
    "start_time": "2021-10-28T12:47:36.289Z"
   },
   {
    "duration": 632,
    "start_time": "2021-10-28T12:47:47.451Z"
   },
   {
    "duration": 710,
    "start_time": "2021-10-28T12:48:16.602Z"
   },
   {
    "duration": 921,
    "start_time": "2021-10-28T12:48:32.178Z"
   },
   {
    "duration": 619,
    "start_time": "2021-10-28T12:48:52.090Z"
   },
   {
    "duration": 649,
    "start_time": "2021-10-28T12:49:06.380Z"
   },
   {
    "duration": 674,
    "start_time": "2021-10-28T12:49:18.710Z"
   },
   {
    "duration": 606,
    "start_time": "2021-10-28T12:55:53.189Z"
   },
   {
    "duration": -33,
    "start_time": "2021-10-28T13:11:37.986Z"
   },
   {
    "duration": 301,
    "start_time": "2021-10-28T13:12:53.861Z"
   },
   {
    "duration": 291,
    "start_time": "2021-10-28T13:13:18.175Z"
   },
   {
    "duration": 676,
    "start_time": "2021-10-28T13:13:27.937Z"
   },
   {
    "duration": 540,
    "start_time": "2021-10-28T13:17:41.499Z"
   },
   {
    "duration": 581,
    "start_time": "2021-10-28T13:18:22.240Z"
   },
   {
    "duration": 98,
    "start_time": "2021-10-28T13:18:30.267Z"
   },
   {
    "duration": 526,
    "start_time": "2021-10-28T13:18:34.756Z"
   },
   {
    "duration": 565,
    "start_time": "2021-10-28T13:18:54.347Z"
   },
   {
    "duration": 544,
    "start_time": "2021-10-28T13:19:10.365Z"
   },
   {
    "duration": 643,
    "start_time": "2021-10-28T13:20:31.098Z"
   },
   {
    "duration": 25,
    "start_time": "2021-10-28T13:20:54.020Z"
   },
   {
    "duration": 20,
    "start_time": "2021-10-28T13:22:38.397Z"
   },
   {
    "duration": 3,
    "start_time": "2021-10-28T13:22:44.076Z"
   },
   {
    "duration": 229,
    "start_time": "2021-10-28T13:24:37.933Z"
   },
   {
    "duration": 526,
    "start_time": "2021-10-28T13:25:09.127Z"
   },
   {
    "duration": 337,
    "start_time": "2021-10-28T13:25:50.559Z"
   },
   {
    "duration": 519,
    "start_time": "2021-10-28T13:27:01.286Z"
   },
   {
    "duration": 238,
    "start_time": "2021-10-28T13:28:13.642Z"
   },
   {
    "duration": 628,
    "start_time": "2021-10-28T13:29:49.677Z"
   },
   {
    "duration": 322,
    "start_time": "2021-10-28T13:30:37.638Z"
   },
   {
    "duration": 274,
    "start_time": "2021-10-28T14:29:13.506Z"
   },
   {
    "duration": 292,
    "start_time": "2021-10-28T14:30:21.084Z"
   },
   {
    "duration": 30,
    "start_time": "2021-10-28T14:30:26.579Z"
   },
   {
    "duration": 46,
    "start_time": "2021-10-28T14:31:16.405Z"
   },
   {
    "duration": 62,
    "start_time": "2021-10-28T14:33:18.988Z"
   },
   {
    "duration": 64,
    "start_time": "2021-10-28T14:36:30.935Z"
   },
   {
    "duration": 940,
    "start_time": "2021-10-29T08:39:19.664Z"
   },
   {
    "duration": 130,
    "start_time": "2021-10-29T08:39:20.607Z"
   },
   {
    "duration": 27,
    "start_time": "2021-10-29T08:39:20.740Z"
   },
   {
    "duration": 81,
    "start_time": "2021-10-29T08:39:20.770Z"
   },
   {
    "duration": 16,
    "start_time": "2021-10-29T08:39:20.854Z"
   },
   {
    "duration": 27,
    "start_time": "2021-10-29T08:39:20.873Z"
   },
   {
    "duration": 7,
    "start_time": "2021-10-29T08:39:20.903Z"
   },
   {
    "duration": 38,
    "start_time": "2021-10-29T08:39:20.914Z"
   },
   {
    "duration": 19,
    "start_time": "2021-10-29T08:39:20.956Z"
   },
   {
    "duration": 27,
    "start_time": "2021-10-29T08:39:21.001Z"
   },
   {
    "duration": 11,
    "start_time": "2021-10-29T08:39:21.030Z"
   },
   {
    "duration": 71,
    "start_time": "2021-10-29T08:39:21.044Z"
   },
   {
    "duration": 39,
    "start_time": "2021-10-29T08:39:21.117Z"
   },
   {
    "duration": 7,
    "start_time": "2021-10-29T08:39:21.158Z"
   },
   {
    "duration": 42,
    "start_time": "2021-10-29T08:39:21.167Z"
   },
   {
    "duration": 15,
    "start_time": "2021-10-29T08:39:21.211Z"
   },
   {
    "duration": 20,
    "start_time": "2021-10-29T08:39:21.229Z"
   },
   {
    "duration": 13,
    "start_time": "2021-10-29T08:39:21.252Z"
   },
   {
    "duration": 13,
    "start_time": "2021-10-29T08:39:21.300Z"
   },
   {
    "duration": 24,
    "start_time": "2021-10-29T08:39:21.316Z"
   },
   {
    "duration": 3,
    "start_time": "2021-10-29T08:39:21.343Z"
   },
   {
    "duration": 56,
    "start_time": "2021-10-29T08:39:21.348Z"
   },
   {
    "duration": 4,
    "start_time": "2021-10-29T08:39:21.408Z"
   },
   {
    "duration": 3,
    "start_time": "2021-10-29T08:39:21.576Z"
   },
   {
    "duration": 52,
    "start_time": "2021-10-29T08:39:21.581Z"
   },
   {
    "duration": 6,
    "start_time": "2021-10-29T08:39:21.636Z"
   },
   {
    "duration": 40,
    "start_time": "2021-10-29T08:39:21.865Z"
   },
   {
    "duration": 12,
    "start_time": "2021-10-29T08:39:21.909Z"
   },
   {
    "duration": 12,
    "start_time": "2021-10-29T08:39:21.925Z"
   },
   {
    "duration": 60,
    "start_time": "2021-10-29T08:39:21.941Z"
   },
   {
    "duration": 4,
    "start_time": "2021-10-29T08:39:22.004Z"
   },
   {
    "duration": 47,
    "start_time": "2021-10-29T08:39:22.010Z"
   },
   {
    "duration": 48,
    "start_time": "2021-10-29T08:39:22.059Z"
   },
   {
    "duration": 10,
    "start_time": "2021-10-29T08:39:22.110Z"
   },
   {
    "duration": 31,
    "start_time": "2021-10-29T08:39:22.124Z"
   },
   {
    "duration": 4,
    "start_time": "2021-10-29T08:39:22.158Z"
   },
   {
    "duration": 2217,
    "start_time": "2021-10-29T08:39:22.164Z"
   },
   {
    "duration": 31,
    "start_time": "2021-10-29T08:39:24.384Z"
   },
   {
    "duration": 5,
    "start_time": "2021-10-29T08:39:24.418Z"
   },
   {
    "duration": 1204,
    "start_time": "2021-10-29T08:39:24.425Z"
   },
   {
    "duration": 31,
    "start_time": "2021-10-29T08:39:25.631Z"
   },
   {
    "duration": 335,
    "start_time": "2021-10-29T08:39:25.665Z"
   },
   {
    "duration": 302,
    "start_time": "2021-10-29T08:39:26.002Z"
   },
   {
    "duration": 348,
    "start_time": "2021-10-29T08:39:26.307Z"
   },
   {
    "duration": 315,
    "start_time": "2021-10-29T08:39:26.657Z"
   },
   {
    "duration": 293,
    "start_time": "2021-10-29T08:39:26.974Z"
   },
   {
    "duration": 11,
    "start_time": "2021-10-29T08:39:27.269Z"
   },
   {
    "duration": 252,
    "start_time": "2021-10-29T08:39:27.282Z"
   },
   {
    "duration": 14,
    "start_time": "2021-10-29T08:39:27.536Z"
   },
   {
    "duration": 11,
    "start_time": "2021-10-29T08:39:27.552Z"
   },
   {
    "duration": 236,
    "start_time": "2021-10-29T08:39:27.566Z"
   },
   {
    "duration": 16,
    "start_time": "2021-10-29T08:39:27.805Z"
   },
   {
    "duration": 13,
    "start_time": "2021-10-29T08:39:27.828Z"
   },
   {
    "duration": 257,
    "start_time": "2021-10-29T08:39:27.846Z"
   },
   {
    "duration": 17,
    "start_time": "2021-10-29T08:39:28.106Z"
   },
   {
    "duration": 14,
    "start_time": "2021-10-29T08:39:28.125Z"
   },
   {
    "duration": 279,
    "start_time": "2021-10-29T08:39:28.142Z"
   },
   {
    "duration": 18,
    "start_time": "2021-10-29T08:39:28.424Z"
   },
   {
    "duration": 13,
    "start_time": "2021-10-29T08:39:28.445Z"
   },
   {
    "duration": 258,
    "start_time": "2021-10-29T08:39:28.460Z"
   },
   {
    "duration": 17,
    "start_time": "2021-10-29T08:39:28.720Z"
   },
   {
    "duration": 20,
    "start_time": "2021-10-29T08:39:28.740Z"
   },
   {
    "duration": 47,
    "start_time": "2021-10-29T08:39:28.762Z"
   },
   {
    "duration": 345,
    "start_time": "2021-10-29T08:39:28.812Z"
   },
   {
    "duration": 11,
    "start_time": "2021-10-29T08:39:29.160Z"
   },
   {
    "duration": 317,
    "start_time": "2021-10-29T08:39:29.173Z"
   },
   {
    "duration": 322,
    "start_time": "2021-10-29T08:39:29.492Z"
   },
   {
    "duration": 377,
    "start_time": "2021-10-29T08:39:29.817Z"
   },
   {
    "duration": 301,
    "start_time": "2021-10-29T08:39:30.200Z"
   },
   {
    "duration": 315,
    "start_time": "2021-10-29T08:39:30.503Z"
   },
   {
    "duration": 12,
    "start_time": "2021-10-29T08:39:30.820Z"
   },
   {
    "duration": 25,
    "start_time": "2021-10-29T08:39:30.834Z"
   },
   {
    "duration": 9,
    "start_time": "2021-10-29T08:39:30.862Z"
   },
   {
    "duration": 33,
    "start_time": "2021-10-29T08:39:30.874Z"
   },
   {
    "duration": 306,
    "start_time": "2021-10-29T08:39:30.910Z"
   },
   {
    "duration": 329,
    "start_time": "2021-10-29T08:39:31.220Z"
   },
   {
    "duration": 16,
    "start_time": "2021-10-29T08:39:31.552Z"
   },
   {
    "duration": 32,
    "start_time": "2021-10-29T08:39:31.571Z"
   },
   {
    "duration": 23,
    "start_time": "2021-10-29T08:39:31.606Z"
   },
   {
    "duration": 44,
    "start_time": "2021-10-29T08:39:31.632Z"
   },
   {
    "duration": 12,
    "start_time": "2021-10-29T08:39:31.700Z"
   },
   {
    "duration": 321,
    "start_time": "2021-10-29T08:39:31.714Z"
   },
   {
    "duration": 8,
    "start_time": "2021-10-29T08:39:32.038Z"
   },
   {
    "duration": 328,
    "start_time": "2021-10-29T08:39:32.048Z"
   },
   {
    "duration": 27,
    "start_time": "2021-10-29T08:39:32.379Z"
   },
   {
    "duration": 9,
    "start_time": "2021-10-29T08:39:32.409Z"
   },
   {
    "duration": 332,
    "start_time": "2021-10-29T08:39:32.421Z"
   },
   {
    "duration": 18,
    "start_time": "2021-10-29T08:39:32.756Z"
   },
   {
    "duration": 62,
    "start_time": "2021-10-29T08:39:32.777Z"
   },
   {
    "duration": 15,
    "start_time": "2021-10-29T08:39:32.842Z"
   },
   {
    "duration": 6,
    "start_time": "2021-10-29T08:39:32.860Z"
   },
   {
    "duration": 40,
    "start_time": "2021-10-29T08:39:32.868Z"
   },
   {
    "duration": 377,
    "start_time": "2021-10-29T08:39:32.910Z"
   },
   {
    "duration": 18,
    "start_time": "2021-10-29T08:39:33.290Z"
   },
   {
    "duration": 94,
    "start_time": "2021-10-29T08:39:33.311Z"
   },
   {
    "duration": 38,
    "start_time": "2021-10-29T08:39:33.408Z"
   },
   {
    "duration": 3,
    "start_time": "2021-10-29T08:39:33.448Z"
   },
   {
    "duration": 97,
    "start_time": "2021-10-29T08:39:33.453Z"
   },
   {
    "duration": 50,
    "start_time": "2021-10-29T08:39:33.553Z"
   },
   {
    "duration": 24,
    "start_time": "2021-10-29T08:39:33.606Z"
   },
   {
    "duration": 591,
    "start_time": "2021-10-29T08:39:33.633Z"
   },
   {
    "duration": 659,
    "start_time": "2021-10-29T08:39:34.226Z"
   },
   {
    "duration": 698,
    "start_time": "2021-10-29T08:39:34.887Z"
   },
   {
    "duration": 332,
    "start_time": "2021-10-29T08:39:35.587Z"
   },
   {
    "duration": 601,
    "start_time": "2021-10-29T08:39:35.922Z"
   },
   {
    "duration": 80,
    "start_time": "2021-10-29T08:39:36.525Z"
   },
   {
    "duration": 460,
    "start_time": "2021-10-29T08:50:42.652Z"
   },
   {
    "duration": 381,
    "start_time": "2021-10-29T08:50:50.902Z"
   },
   {
    "duration": 374,
    "start_time": "2021-10-29T08:50:59.587Z"
   },
   {
    "duration": 409,
    "start_time": "2021-10-29T08:52:16.091Z"
   },
   {
    "duration": 306,
    "start_time": "2021-10-29T09:12:05.677Z"
   },
   {
    "duration": 302,
    "start_time": "2021-10-29T09:12:36.017Z"
   },
   {
    "duration": 870,
    "start_time": "2021-10-29T09:12:51.319Z"
   },
   {
    "duration": 93,
    "start_time": "2021-10-29T09:13:25.812Z"
   },
   {
    "duration": 348,
    "start_time": "2021-10-29T09:36:33.577Z"
   },
   {
    "duration": 390,
    "start_time": "2021-10-29T09:37:01.828Z"
   },
   {
    "duration": 334,
    "start_time": "2021-10-29T09:43:40.397Z"
   },
   {
    "duration": 772,
    "start_time": "2021-10-29T09:44:11.650Z"
   },
   {
    "duration": 549,
    "start_time": "2021-10-29T09:45:01.439Z"
   },
   {
    "duration": 343,
    "start_time": "2021-10-29T09:46:03.357Z"
   },
   {
    "duration": 373,
    "start_time": "2021-10-29T09:47:17.889Z"
   },
   {
    "duration": 460,
    "start_time": "2021-10-29T09:48:35.757Z"
   },
   {
    "duration": 384,
    "start_time": "2021-10-29T09:49:00.306Z"
   },
   {
    "duration": 115,
    "start_time": "2021-10-29T09:49:59.815Z"
   },
   {
    "duration": 351,
    "start_time": "2021-10-29T09:50:07.859Z"
   },
   {
    "duration": 20825,
    "start_time": "2021-10-29T09:50:45.330Z"
   },
   {
    "duration": 320,
    "start_time": "2021-10-29T09:52:15.166Z"
   },
   {
    "duration": 3,
    "start_time": "2021-10-29T09:52:27.929Z"
   },
   {
    "duration": 126,
    "start_time": "2021-10-29T10:12:47.263Z"
   },
   {
    "duration": 369,
    "start_time": "2021-10-29T10:13:03.458Z"
   },
   {
    "duration": 457,
    "start_time": "2021-10-29T10:13:30.057Z"
   },
   {
    "duration": 380,
    "start_time": "2021-10-29T10:13:46.477Z"
   },
   {
    "duration": 485,
    "start_time": "2021-10-29T10:14:30.147Z"
   },
   {
    "duration": 582,
    "start_time": "2021-10-29T10:17:24.472Z"
   },
   {
    "duration": 13,
    "start_time": "2021-10-29T10:18:08.382Z"
   },
   {
    "duration": 510,
    "start_time": "2021-10-29T10:18:15.485Z"
   },
   {
    "duration": 18,
    "start_time": "2021-10-29T10:18:48.326Z"
   },
   {
    "duration": 530,
    "start_time": "2021-10-29T10:18:51.884Z"
   },
   {
    "duration": 14,
    "start_time": "2021-10-29T10:19:12.058Z"
   },
   {
    "duration": 359,
    "start_time": "2021-10-29T10:19:16.927Z"
   },
   {
    "duration": 570,
    "start_time": "2021-10-29T10:22:08.891Z"
   },
   {
    "duration": 663,
    "start_time": "2021-10-29T10:22:35.166Z"
   },
   {
    "duration": 130,
    "start_time": "2021-10-30T06:45:24.616Z"
   },
   {
    "duration": 302,
    "start_time": "2021-10-30T16:12:35.471Z"
   },
   {
    "duration": 682,
    "start_time": "2021-10-30T16:12:49.250Z"
   },
   {
    "duration": 89,
    "start_time": "2021-10-30T16:12:49.934Z"
   },
   {
    "duration": 21,
    "start_time": "2021-10-30T16:12:50.025Z"
   },
   {
    "duration": 56,
    "start_time": "2021-10-30T16:12:50.048Z"
   },
   {
    "duration": 9,
    "start_time": "2021-10-30T16:12:50.106Z"
   },
   {
    "duration": 4,
    "start_time": "2021-10-30T16:12:50.117Z"
   },
   {
    "duration": 7,
    "start_time": "2021-10-30T16:12:50.123Z"
   },
   {
    "duration": 37,
    "start_time": "2021-10-30T16:12:50.133Z"
   },
   {
    "duration": 2,
    "start_time": "2021-10-30T16:12:50.173Z"
   },
   {
    "duration": 37,
    "start_time": "2021-10-30T16:12:50.177Z"
   },
   {
    "duration": 12,
    "start_time": "2021-10-30T16:12:50.217Z"
   },
   {
    "duration": 67,
    "start_time": "2021-10-30T16:12:50.231Z"
   },
   {
    "duration": 41,
    "start_time": "2021-10-30T16:12:50.300Z"
   },
   {
    "duration": 6,
    "start_time": "2021-10-30T16:12:50.344Z"
   },
   {
    "duration": 12,
    "start_time": "2021-10-30T16:12:50.364Z"
   },
   {
    "duration": 18,
    "start_time": "2021-10-30T16:12:50.378Z"
   },
   {
    "duration": 20,
    "start_time": "2021-10-30T16:12:50.398Z"
   },
   {
    "duration": 13,
    "start_time": "2021-10-30T16:12:50.420Z"
   },
   {
    "duration": 37,
    "start_time": "2021-10-30T16:12:50.435Z"
   },
   {
    "duration": 30,
    "start_time": "2021-10-30T16:12:50.475Z"
   },
   {
    "duration": 2,
    "start_time": "2021-10-30T16:12:50.507Z"
   },
   {
    "duration": 20,
    "start_time": "2021-10-30T16:12:50.511Z"
   },
   {
    "duration": 28,
    "start_time": "2021-10-30T16:12:50.538Z"
   },
   {
    "duration": 13,
    "start_time": "2021-10-30T16:12:50.569Z"
   },
   {
    "duration": 26,
    "start_time": "2021-10-30T16:12:50.585Z"
   },
   {
    "duration": 6,
    "start_time": "2021-10-30T16:12:50.613Z"
   },
   {
    "duration": 42,
    "start_time": "2021-10-30T16:12:50.621Z"
   },
   {
    "duration": 7,
    "start_time": "2021-10-30T16:12:50.665Z"
   },
   {
    "duration": 9,
    "start_time": "2021-10-30T16:12:50.674Z"
   },
   {
    "duration": 23,
    "start_time": "2021-10-30T16:12:50.684Z"
   },
   {
    "duration": 2,
    "start_time": "2021-10-30T16:12:50.709Z"
   },
   {
    "duration": 50,
    "start_time": "2021-10-30T16:12:50.713Z"
   },
   {
    "duration": 21,
    "start_time": "2021-10-30T16:12:50.765Z"
   },
   {
    "duration": 7,
    "start_time": "2021-10-30T16:12:50.788Z"
   },
   {
    "duration": 23,
    "start_time": "2021-10-30T16:12:50.797Z"
   },
   {
    "duration": 3,
    "start_time": "2021-10-30T16:12:50.822Z"
   },
   {
    "duration": 1256,
    "start_time": "2021-10-30T16:12:50.826Z"
   },
   {
    "duration": 16,
    "start_time": "2021-10-30T16:12:52.084Z"
   },
   {
    "duration": 3,
    "start_time": "2021-10-30T16:12:52.102Z"
   },
   {
    "duration": 667,
    "start_time": "2021-10-30T16:12:52.108Z"
   },
   {
    "duration": 21,
    "start_time": "2021-10-30T16:12:52.777Z"
   },
   {
    "duration": 206,
    "start_time": "2021-10-30T16:12:52.800Z"
   },
   {
    "duration": 186,
    "start_time": "2021-10-30T16:12:53.007Z"
   },
   {
    "duration": 245,
    "start_time": "2021-10-30T16:12:53.195Z"
   },
   {
    "duration": 185,
    "start_time": "2021-10-30T16:12:53.442Z"
   },
   {
    "duration": 182,
    "start_time": "2021-10-30T16:12:53.629Z"
   },
   {
    "duration": 12,
    "start_time": "2021-10-30T16:12:53.812Z"
   },
   {
    "duration": 160,
    "start_time": "2021-10-30T16:12:53.825Z"
   },
   {
    "duration": 11,
    "start_time": "2021-10-30T16:12:53.987Z"
   },
   {
    "duration": 10,
    "start_time": "2021-10-30T16:12:54.000Z"
   },
   {
    "duration": 160,
    "start_time": "2021-10-30T16:12:54.012Z"
   },
   {
    "duration": 12,
    "start_time": "2021-10-30T16:12:54.174Z"
   },
   {
    "duration": 10,
    "start_time": "2021-10-30T16:12:54.188Z"
   },
   {
    "duration": 157,
    "start_time": "2021-10-30T16:12:54.200Z"
   },
   {
    "duration": 14,
    "start_time": "2021-10-30T16:12:54.359Z"
   },
   {
    "duration": 12,
    "start_time": "2021-10-30T16:12:54.375Z"
   },
   {
    "duration": 237,
    "start_time": "2021-10-30T16:12:54.390Z"
   },
   {
    "duration": 15,
    "start_time": "2021-10-30T16:12:54.629Z"
   },
   {
    "duration": 24,
    "start_time": "2021-10-30T16:12:54.646Z"
   },
   {
    "duration": 212,
    "start_time": "2021-10-30T16:12:54.672Z"
   },
   {
    "duration": 15,
    "start_time": "2021-10-30T16:12:54.886Z"
   },
   {
    "duration": 18,
    "start_time": "2021-10-30T16:12:54.903Z"
   },
   {
    "duration": 46,
    "start_time": "2021-10-30T16:12:54.923Z"
   },
   {
    "duration": 301,
    "start_time": "2021-10-30T16:12:54.971Z"
   },
   {
    "duration": 11,
    "start_time": "2021-10-30T16:12:55.275Z"
   },
   {
    "duration": 289,
    "start_time": "2021-10-30T16:12:55.288Z"
   },
   {
    "duration": 289,
    "start_time": "2021-10-30T16:12:55.579Z"
   },
   {
    "duration": 375,
    "start_time": "2021-10-30T16:12:55.876Z"
   },
   {
    "duration": 172,
    "start_time": "2021-10-30T16:12:56.253Z"
   },
   {
    "duration": 198,
    "start_time": "2021-10-30T16:12:56.427Z"
   },
   {
    "duration": 10,
    "start_time": "2021-10-30T16:12:56.627Z"
   },
   {
    "duration": 5,
    "start_time": "2021-10-30T16:12:56.639Z"
   },
   {
    "duration": 22,
    "start_time": "2021-10-30T16:12:56.645Z"
   },
   {
    "duration": 12,
    "start_time": "2021-10-30T16:12:56.669Z"
   },
   {
    "duration": 182,
    "start_time": "2021-10-30T16:12:56.683Z"
   },
   {
    "duration": 189,
    "start_time": "2021-10-30T16:12:56.867Z"
   },
   {
    "duration": 10,
    "start_time": "2021-10-30T16:12:57.058Z"
   },
   {
    "duration": 7,
    "start_time": "2021-10-30T16:12:57.071Z"
   },
   {
    "duration": 23,
    "start_time": "2021-10-30T16:12:57.080Z"
   },
   {
    "duration": 32,
    "start_time": "2021-10-30T16:12:57.105Z"
   },
   {
    "duration": 10,
    "start_time": "2021-10-30T16:12:57.164Z"
   },
   {
    "duration": 190,
    "start_time": "2021-10-30T16:12:57.175Z"
   },
   {
    "duration": 6,
    "start_time": "2021-10-30T16:12:57.367Z"
   },
   {
    "duration": 193,
    "start_time": "2021-10-30T16:12:57.375Z"
   },
   {
    "duration": 11,
    "start_time": "2021-10-30T16:12:57.569Z"
   },
   {
    "duration": 8,
    "start_time": "2021-10-30T16:12:57.582Z"
   },
   {
    "duration": 192,
    "start_time": "2021-10-30T16:12:57.591Z"
   },
   {
    "duration": 12,
    "start_time": "2021-10-30T16:12:57.785Z"
   },
   {
    "duration": 23,
    "start_time": "2021-10-30T16:12:57.798Z"
   },
   {
    "duration": 8,
    "start_time": "2021-10-30T16:12:57.823Z"
   },
   {
    "duration": 30,
    "start_time": "2021-10-30T16:12:57.833Z"
   },
   {
    "duration": 10,
    "start_time": "2021-10-30T16:12:57.865Z"
   },
   {
    "duration": 268,
    "start_time": "2021-10-30T16:12:57.877Z"
   },
   {
    "duration": 216,
    "start_time": "2021-10-30T16:12:58.147Z"
   },
   {
    "duration": 7,
    "start_time": "2021-10-30T16:12:58.365Z"
   },
   {
    "duration": 46,
    "start_time": "2021-10-30T16:12:58.374Z"
   },
   {
    "duration": 47,
    "start_time": "2021-10-30T16:12:58.422Z"
   },
   {
    "duration": 43,
    "start_time": "2021-10-30T16:12:58.471Z"
   },
   {
    "duration": 453,
    "start_time": "2021-10-30T16:12:58.516Z"
   },
   {
    "duration": 299,
    "start_time": "2021-10-30T16:12:58.971Z"
   },
   {
    "duration": 193,
    "start_time": "2021-10-30T16:12:59.272Z"
   },
   {
    "duration": 348,
    "start_time": "2021-10-30T16:12:59.467Z"
   },
   {
    "duration": 52,
    "start_time": "2021-10-30T16:12:59.817Z"
   },
   {
    "duration": 25,
    "start_time": "2021-10-30T16:12:59.870Z"
   },
   {
    "duration": 14,
    "start_time": "2021-10-30T16:12:59.896Z"
   },
   {
    "duration": 424,
    "start_time": "2021-10-30T16:12:59.912Z"
   },
   {
    "duration": 230,
    "start_time": "2021-10-30T16:13:00.338Z"
   },
   {
    "duration": 417,
    "start_time": "2021-10-30T16:13:00.569Z"
   },
   {
    "duration": 317,
    "start_time": "2021-10-30T16:13:00.989Z"
   },
   {
    "duration": 4,
    "start_time": "2021-10-30T16:13:01.308Z"
   },
   {
    "duration": 220,
    "start_time": "2021-10-30T16:13:01.313Z"
   },
   {
    "duration": 198,
    "start_time": "2021-10-30T16:13:01.535Z"
   },
   {
    "duration": 464,
    "start_time": "2021-10-30T16:13:01.735Z"
   },
   {
    "duration": 38,
    "start_time": "2021-10-30T16:13:02.200Z"
   },
   {
    "duration": 4,
    "start_time": "2021-10-30T16:13:41.918Z"
   },
   {
    "duration": 22,
    "start_time": "2021-10-30T16:13:44.880Z"
   },
   {
    "duration": 19,
    "start_time": "2021-10-30T16:13:56.000Z"
   },
   {
    "duration": 9,
    "start_time": "2021-10-30T16:14:04.705Z"
   },
   {
    "duration": 2,
    "start_time": "2021-10-30T16:14:14.671Z"
   },
   {
    "duration": 3,
    "start_time": "2021-10-30T16:24:06.594Z"
   },
   {
    "duration": 925,
    "start_time": "2021-10-31T12:39:19.848Z"
   },
   {
    "duration": 123,
    "start_time": "2021-10-31T12:39:20.775Z"
   },
   {
    "duration": 25,
    "start_time": "2021-10-31T12:39:20.902Z"
   },
   {
    "duration": 78,
    "start_time": "2021-10-31T12:39:20.930Z"
   },
   {
    "duration": 13,
    "start_time": "2021-10-31T12:39:21.010Z"
   },
   {
    "duration": 12,
    "start_time": "2021-10-31T12:39:21.026Z"
   },
   {
    "duration": 15,
    "start_time": "2021-10-31T12:39:21.040Z"
   },
   {
    "duration": 46,
    "start_time": "2021-10-31T12:39:21.059Z"
   },
   {
    "duration": 3,
    "start_time": "2021-10-31T12:39:21.108Z"
   },
   {
    "duration": 15,
    "start_time": "2021-10-31T12:39:21.113Z"
   },
   {
    "duration": 21,
    "start_time": "2021-10-31T12:39:21.131Z"
   },
   {
    "duration": 54,
    "start_time": "2021-10-31T12:39:21.155Z"
   },
   {
    "duration": 38,
    "start_time": "2021-10-31T12:39:21.211Z"
   },
   {
    "duration": 7,
    "start_time": "2021-10-31T12:39:21.251Z"
   },
   {
    "duration": 44,
    "start_time": "2021-10-31T12:39:21.261Z"
   },
   {
    "duration": 18,
    "start_time": "2021-10-31T12:39:21.308Z"
   },
   {
    "duration": 18,
    "start_time": "2021-10-31T12:39:21.328Z"
   },
   {
    "duration": 14,
    "start_time": "2021-10-31T12:39:21.348Z"
   },
   {
    "duration": 53,
    "start_time": "2021-10-31T12:39:21.364Z"
   },
   {
    "duration": 27,
    "start_time": "2021-10-31T12:39:21.420Z"
   },
   {
    "duration": 9,
    "start_time": "2021-10-31T12:39:21.450Z"
   },
   {
    "duration": 45,
    "start_time": "2021-10-31T12:39:21.462Z"
   },
   {
    "duration": 3,
    "start_time": "2021-10-31T12:39:21.515Z"
   },
   {
    "duration": 23,
    "start_time": "2021-10-31T12:39:21.522Z"
   },
   {
    "duration": 31,
    "start_time": "2021-10-31T12:39:21.547Z"
   },
   {
    "duration": 21,
    "start_time": "2021-10-31T12:39:21.580Z"
   },
   {
    "duration": 40,
    "start_time": "2021-10-31T12:39:21.603Z"
   },
   {
    "duration": 10,
    "start_time": "2021-10-31T12:39:21.646Z"
   },
   {
    "duration": 10,
    "start_time": "2021-10-31T12:39:21.658Z"
   },
   {
    "duration": 56,
    "start_time": "2021-10-31T12:39:21.670Z"
   },
   {
    "duration": 3,
    "start_time": "2021-10-31T12:39:21.728Z"
   },
   {
    "duration": 35,
    "start_time": "2021-10-31T12:39:21.733Z"
   },
   {
    "duration": 49,
    "start_time": "2021-10-31T12:39:21.771Z"
   },
   {
    "duration": 3,
    "start_time": "2021-10-31T12:39:21.823Z"
   },
   {
    "duration": 123,
    "start_time": "2021-10-31T12:39:21.828Z"
   },
   {
    "duration": 681,
    "start_time": "2021-10-31T12:39:21.275Z"
   },
   {
    "duration": 679,
    "start_time": "2021-10-31T12:39:21.279Z"
   },
   {
    "duration": 677,
    "start_time": "2021-10-31T12:39:21.282Z"
   },
   {
    "duration": 675,
    "start_time": "2021-10-31T12:39:21.286Z"
   },
   {
    "duration": 673,
    "start_time": "2021-10-31T12:39:21.289Z"
   },
   {
    "duration": 671,
    "start_time": "2021-10-31T12:39:21.293Z"
   },
   {
    "duration": 670,
    "start_time": "2021-10-31T12:39:21.295Z"
   },
   {
    "duration": 667,
    "start_time": "2021-10-31T12:39:21.299Z"
   },
   {
    "duration": 667,
    "start_time": "2021-10-31T12:39:21.301Z"
   },
   {
    "duration": 665,
    "start_time": "2021-10-31T12:39:21.304Z"
   },
   {
    "duration": 663,
    "start_time": "2021-10-31T12:39:21.307Z"
   },
   {
    "duration": 662,
    "start_time": "2021-10-31T12:39:21.310Z"
   },
   {
    "duration": 661,
    "start_time": "2021-10-31T12:39:21.312Z"
   },
   {
    "duration": 659,
    "start_time": "2021-10-31T12:39:21.315Z"
   },
   {
    "duration": 658,
    "start_time": "2021-10-31T12:39:21.318Z"
   },
   {
    "duration": 656,
    "start_time": "2021-10-31T12:39:21.321Z"
   },
   {
    "duration": 655,
    "start_time": "2021-10-31T12:39:21.324Z"
   },
   {
    "duration": 653,
    "start_time": "2021-10-31T12:39:21.327Z"
   },
   {
    "duration": 651,
    "start_time": "2021-10-31T12:39:21.330Z"
   },
   {
    "duration": 650,
    "start_time": "2021-10-31T12:39:21.333Z"
   },
   {
    "duration": 648,
    "start_time": "2021-10-31T12:39:21.336Z"
   },
   {
    "duration": 646,
    "start_time": "2021-10-31T12:39:21.339Z"
   },
   {
    "duration": 645,
    "start_time": "2021-10-31T12:39:21.342Z"
   },
   {
    "duration": 643,
    "start_time": "2021-10-31T12:39:21.345Z"
   },
   {
    "duration": 643,
    "start_time": "2021-10-31T12:39:21.347Z"
   },
   {
    "duration": 576,
    "start_time": "2021-10-31T12:39:21.416Z"
   },
   {
    "duration": 573,
    "start_time": "2021-10-31T12:39:21.420Z"
   },
   {
    "duration": 571,
    "start_time": "2021-10-31T12:39:21.423Z"
   },
   {
    "duration": 574,
    "start_time": "2021-10-31T12:39:21.426Z"
   },
   {
    "duration": 572,
    "start_time": "2021-10-31T12:39:21.429Z"
   },
   {
    "duration": 571,
    "start_time": "2021-10-31T12:39:21.432Z"
   },
   {
    "duration": 568,
    "start_time": "2021-10-31T12:39:21.436Z"
   },
   {
    "duration": 566,
    "start_time": "2021-10-31T12:39:21.439Z"
   },
   {
    "duration": 564,
    "start_time": "2021-10-31T12:39:21.443Z"
   },
   {
    "duration": 563,
    "start_time": "2021-10-31T12:39:21.445Z"
   },
   {
    "duration": 561,
    "start_time": "2021-10-31T12:39:21.448Z"
   },
   {
    "duration": 560,
    "start_time": "2021-10-31T12:39:21.451Z"
   },
   {
    "duration": 559,
    "start_time": "2021-10-31T12:39:21.454Z"
   },
   {
    "duration": 558,
    "start_time": "2021-10-31T12:39:21.456Z"
   },
   {
    "duration": 542,
    "start_time": "2021-10-31T12:39:21.474Z"
   },
   {
    "duration": 540,
    "start_time": "2021-10-31T12:39:21.477Z"
   },
   {
    "duration": 539,
    "start_time": "2021-10-31T12:39:21.480Z"
   },
   {
    "duration": 537,
    "start_time": "2021-10-31T12:39:21.483Z"
   },
   {
    "duration": 535,
    "start_time": "2021-10-31T12:39:21.487Z"
   },
   {
    "duration": 533,
    "start_time": "2021-10-31T12:39:21.490Z"
   },
   {
    "duration": 532,
    "start_time": "2021-10-31T12:39:21.493Z"
   },
   {
    "duration": 530,
    "start_time": "2021-10-31T12:39:21.496Z"
   },
   {
    "duration": 529,
    "start_time": "2021-10-31T12:39:21.499Z"
   },
   {
    "duration": 528,
    "start_time": "2021-10-31T12:39:21.501Z"
   },
   {
    "duration": 526,
    "start_time": "2021-10-31T12:39:21.504Z"
   },
   {
    "duration": 525,
    "start_time": "2021-10-31T12:39:21.507Z"
   },
   {
    "duration": 523,
    "start_time": "2021-10-31T12:39:21.510Z"
   },
   {
    "duration": 522,
    "start_time": "2021-10-31T12:39:21.512Z"
   },
   {
    "duration": 521,
    "start_time": "2021-10-31T12:39:21.515Z"
   },
   {
    "duration": 519,
    "start_time": "2021-10-31T12:39:21.518Z"
   },
   {
    "duration": 582,
    "start_time": "2021-10-31T12:39:21.521Z"
   },
   {
    "duration": 581,
    "start_time": "2021-10-31T12:39:21.524Z"
   },
   {
    "duration": 579,
    "start_time": "2021-10-31T12:39:21.527Z"
   },
   {
    "duration": 577,
    "start_time": "2021-10-31T12:39:21.530Z"
   },
   {
    "duration": 568,
    "start_time": "2021-10-31T12:39:21.540Z"
   },
   {
    "duration": 568,
    "start_time": "2021-10-31T12:39:21.542Z"
   },
   {
    "duration": 566,
    "start_time": "2021-10-31T12:39:21.545Z"
   },
   {
    "duration": 564,
    "start_time": "2021-10-31T12:39:21.548Z"
   },
   {
    "duration": 563,
    "start_time": "2021-10-31T12:39:21.551Z"
   },
   {
    "duration": 562,
    "start_time": "2021-10-31T12:39:21.554Z"
   },
   {
    "duration": 560,
    "start_time": "2021-10-31T12:39:21.557Z"
   },
   {
    "duration": 558,
    "start_time": "2021-10-31T12:39:21.560Z"
   },
   {
    "duration": 558,
    "start_time": "2021-10-31T12:39:21.562Z"
   },
   {
    "duration": 557,
    "start_time": "2021-10-31T12:39:21.565Z"
   },
   {
    "duration": 556,
    "start_time": "2021-10-31T12:39:21.567Z"
   },
   {
    "duration": 555,
    "start_time": "2021-10-31T12:39:21.570Z"
   },
   {
    "duration": 554,
    "start_time": "2021-10-31T12:39:21.573Z"
   },
   {
    "duration": 552,
    "start_time": "2021-10-31T12:39:21.576Z"
   },
   {
    "duration": 551,
    "start_time": "2021-10-31T12:39:21.579Z"
   },
   {
    "duration": 549,
    "start_time": "2021-10-31T12:39:21.582Z"
   },
   {
    "duration": 548,
    "start_time": "2021-10-31T12:39:21.585Z"
   },
   {
    "duration": 546,
    "start_time": "2021-10-31T12:39:21.588Z"
   },
   {
    "duration": 545,
    "start_time": "2021-10-31T12:39:21.591Z"
   },
   {
    "duration": 543,
    "start_time": "2021-10-31T12:39:21.594Z"
   },
   {
    "duration": 541,
    "start_time": "2021-10-31T12:39:21.597Z"
   },
   {
    "duration": 5,
    "start_time": "2021-10-31T12:46:09.133Z"
   },
   {
    "duration": 5,
    "start_time": "2021-10-31T12:46:11.290Z"
   },
   {
    "duration": 32,
    "start_time": "2021-10-31T12:46:13.968Z"
   },
   {
    "duration": 5,
    "start_time": "2021-10-31T12:46:17.724Z"
   },
   {
    "duration": 5,
    "start_time": "2021-10-31T12:46:23.424Z"
   },
   {
    "duration": 27,
    "start_time": "2021-10-31T12:49:32.638Z"
   },
   {
    "duration": 16,
    "start_time": "2021-10-31T12:49:58.914Z"
   },
   {
    "duration": 4,
    "start_time": "2021-10-31T12:50:10.690Z"
   },
   {
    "duration": 14,
    "start_time": "2021-10-31T12:51:22.653Z"
   },
   {
    "duration": 5,
    "start_time": "2021-10-31T12:51:24.910Z"
   },
   {
    "duration": 25,
    "start_time": "2021-10-31T12:51:27.663Z"
   },
   {
    "duration": 3,
    "start_time": "2021-10-31T12:51:42.419Z"
   },
   {
    "duration": 209,
    "start_time": "2021-10-31T12:51:54.863Z"
   },
   {
    "duration": 12,
    "start_time": "2021-10-31T12:54:16.600Z"
   },
   {
    "duration": 31,
    "start_time": "2021-10-31T12:55:46.790Z"
   },
   {
    "duration": 475,
    "start_time": "2021-10-31T12:58:44.584Z"
   },
   {
    "duration": 948,
    "start_time": "2021-10-31T12:59:13.475Z"
   },
   {
    "duration": 123,
    "start_time": "2021-10-31T12:59:14.425Z"
   },
   {
    "duration": 26,
    "start_time": "2021-10-31T12:59:14.551Z"
   },
   {
    "duration": 74,
    "start_time": "2021-10-31T12:59:14.580Z"
   },
   {
    "duration": 13,
    "start_time": "2021-10-31T12:59:14.656Z"
   },
   {
    "duration": 29,
    "start_time": "2021-10-31T12:59:14.671Z"
   },
   {
    "duration": 4,
    "start_time": "2021-10-31T12:59:14.703Z"
   },
   {
    "duration": 32,
    "start_time": "2021-10-31T12:59:14.709Z"
   },
   {
    "duration": 3,
    "start_time": "2021-10-31T12:59:14.744Z"
   },
   {
    "duration": 7,
    "start_time": "2021-10-31T12:59:14.750Z"
   },
   {
    "duration": 20,
    "start_time": "2021-10-31T12:59:14.759Z"
   },
   {
    "duration": 43,
    "start_time": "2021-10-31T12:59:14.801Z"
   },
   {
    "duration": 63,
    "start_time": "2021-10-31T12:59:14.846Z"
   },
   {
    "duration": 7,
    "start_time": "2021-10-31T12:59:14.911Z"
   },
   {
    "duration": 18,
    "start_time": "2021-10-31T12:59:14.920Z"
   },
   {
    "duration": 24,
    "start_time": "2021-10-31T12:59:14.940Z"
   },
   {
    "duration": 39,
    "start_time": "2021-10-31T12:59:14.967Z"
   },
   {
    "duration": 21,
    "start_time": "2021-10-31T12:59:15.008Z"
   },
   {
    "duration": 18,
    "start_time": "2021-10-31T12:59:15.031Z"
   },
   {
    "duration": 25,
    "start_time": "2021-10-31T12:59:15.051Z"
   },
   {
    "duration": 23,
    "start_time": "2021-10-31T12:59:15.079Z"
   },
   {
    "duration": 22,
    "start_time": "2021-10-31T12:59:15.105Z"
   },
   {
    "duration": 4,
    "start_time": "2021-10-31T12:59:15.129Z"
   },
   {
    "duration": 8,
    "start_time": "2021-10-31T12:59:15.135Z"
   },
   {
    "duration": 57,
    "start_time": "2021-10-31T12:59:15.145Z"
   },
   {
    "duration": 6,
    "start_time": "2021-10-31T12:59:15.205Z"
   },
   {
    "duration": 41,
    "start_time": "2021-10-31T12:59:15.218Z"
   },
   {
    "duration": 42,
    "start_time": "2021-10-31T12:59:15.264Z"
   },
   {
    "duration": 464,
    "start_time": "2021-10-31T12:59:15.309Z"
   },
   {
    "duration": -29,
    "start_time": "2021-10-31T12:59:15.807Z"
   },
   {
    "duration": -30,
    "start_time": "2021-10-31T12:59:15.809Z"
   },
   {
    "duration": -32,
    "start_time": "2021-10-31T12:59:15.813Z"
   },
   {
    "duration": -35,
    "start_time": "2021-10-31T12:59:15.817Z"
   },
   {
    "duration": -52,
    "start_time": "2021-10-31T12:59:15.835Z"
   },
   {
    "duration": -53,
    "start_time": "2021-10-31T12:59:15.838Z"
   },
   {
    "duration": -55,
    "start_time": "2021-10-31T12:59:15.841Z"
   },
   {
    "duration": -56,
    "start_time": "2021-10-31T12:59:15.844Z"
   },
   {
    "duration": -59,
    "start_time": "2021-10-31T12:59:15.848Z"
   },
   {
    "duration": -60,
    "start_time": "2021-10-31T12:59:15.851Z"
   },
   {
    "duration": -62,
    "start_time": "2021-10-31T12:59:15.854Z"
   },
   {
    "duration": -63,
    "start_time": "2021-10-31T12:59:15.857Z"
   },
   {
    "duration": -65,
    "start_time": "2021-10-31T12:59:15.860Z"
   },
   {
    "duration": -67,
    "start_time": "2021-10-31T12:59:15.863Z"
   },
   {
    "duration": -68,
    "start_time": "2021-10-31T12:59:15.866Z"
   },
   {
    "duration": -70,
    "start_time": "2021-10-31T12:59:15.869Z"
   },
   {
    "duration": -71,
    "start_time": "2021-10-31T12:59:15.872Z"
   },
   {
    "duration": -72,
    "start_time": "2021-10-31T12:59:15.874Z"
   },
   {
    "duration": -73,
    "start_time": "2021-10-31T12:59:15.877Z"
   },
   {
    "duration": -75,
    "start_time": "2021-10-31T12:59:15.880Z"
   },
   {
    "duration": -77,
    "start_time": "2021-10-31T12:59:15.883Z"
   },
   {
    "duration": -77,
    "start_time": "2021-10-31T12:59:15.885Z"
   },
   {
    "duration": -79,
    "start_time": "2021-10-31T12:59:15.888Z"
   },
   {
    "duration": -81,
    "start_time": "2021-10-31T12:59:15.891Z"
   },
   {
    "duration": -82,
    "start_time": "2021-10-31T12:59:15.894Z"
   },
   {
    "duration": -83,
    "start_time": "2021-10-31T12:59:15.896Z"
   },
   {
    "duration": -130,
    "start_time": "2021-10-31T12:59:15.945Z"
   },
   {
    "duration": -132,
    "start_time": "2021-10-31T12:59:15.948Z"
   },
   {
    "duration": -135,
    "start_time": "2021-10-31T12:59:15.952Z"
   },
   {
    "duration": -137,
    "start_time": "2021-10-31T12:59:15.955Z"
   },
   {
    "duration": -138,
    "start_time": "2021-10-31T12:59:15.958Z"
   },
   {
    "duration": -140,
    "start_time": "2021-10-31T12:59:15.961Z"
   },
   {
    "duration": -142,
    "start_time": "2021-10-31T12:59:15.964Z"
   },
   {
    "duration": -144,
    "start_time": "2021-10-31T12:59:15.967Z"
   },
   {
    "duration": -163,
    "start_time": "2021-10-31T12:59:15.987Z"
   },
   {
    "duration": -164,
    "start_time": "2021-10-31T12:59:15.990Z"
   },
   {
    "duration": -167,
    "start_time": "2021-10-31T12:59:15.994Z"
   },
   {
    "duration": -168,
    "start_time": "2021-10-31T12:59:15.996Z"
   },
   {
    "duration": -171,
    "start_time": "2021-10-31T12:59:16.000Z"
   },
   {
    "duration": -172,
    "start_time": "2021-10-31T12:59:16.003Z"
   },
   {
    "duration": -174,
    "start_time": "2021-10-31T12:59:16.006Z"
   },
   {
    "duration": -176,
    "start_time": "2021-10-31T12:59:16.009Z"
   },
   {
    "duration": -178,
    "start_time": "2021-10-31T12:59:16.012Z"
   },
   {
    "duration": -179,
    "start_time": "2021-10-31T12:59:16.015Z"
   },
   {
    "duration": -179,
    "start_time": "2021-10-31T12:59:16.017Z"
   },
   {
    "duration": -181,
    "start_time": "2021-10-31T12:59:16.020Z"
   },
   {
    "duration": -123,
    "start_time": "2021-10-31T12:59:16.023Z"
   },
   {
    "duration": -124,
    "start_time": "2021-10-31T12:59:16.026Z"
   },
   {
    "duration": -125,
    "start_time": "2021-10-31T12:59:16.029Z"
   },
   {
    "duration": -127,
    "start_time": "2021-10-31T12:59:16.032Z"
   },
   {
    "duration": -129,
    "start_time": "2021-10-31T12:59:16.035Z"
   },
   {
    "duration": -130,
    "start_time": "2021-10-31T12:59:16.038Z"
   },
   {
    "duration": -131,
    "start_time": "2021-10-31T12:59:16.041Z"
   },
   {
    "duration": -131,
    "start_time": "2021-10-31T12:59:16.043Z"
   },
   {
    "duration": -134,
    "start_time": "2021-10-31T12:59:16.047Z"
   },
   {
    "duration": -134,
    "start_time": "2021-10-31T12:59:16.049Z"
   },
   {
    "duration": -135,
    "start_time": "2021-10-31T12:59:16.052Z"
   },
   {
    "duration": -136,
    "start_time": "2021-10-31T12:59:16.055Z"
   },
   {
    "duration": -138,
    "start_time": "2021-10-31T12:59:16.058Z"
   },
   {
    "duration": -138,
    "start_time": "2021-10-31T12:59:16.060Z"
   },
   {
    "duration": -139,
    "start_time": "2021-10-31T12:59:16.063Z"
   },
   {
    "duration": -139,
    "start_time": "2021-10-31T12:59:16.065Z"
   },
   {
    "duration": -170,
    "start_time": "2021-10-31T12:59:16.098Z"
   },
   {
    "duration": -171,
    "start_time": "2021-10-31T12:59:16.101Z"
   },
   {
    "duration": -174,
    "start_time": "2021-10-31T12:59:16.105Z"
   },
   {
    "duration": -175,
    "start_time": "2021-10-31T12:59:16.108Z"
   },
   {
    "duration": -175,
    "start_time": "2021-10-31T12:59:16.110Z"
   },
   {
    "duration": -176,
    "start_time": "2021-10-31T12:59:16.113Z"
   },
   {
    "duration": -116,
    "start_time": "2021-10-31T12:59:16.116Z"
   },
   {
    "duration": -116,
    "start_time": "2021-10-31T12:59:16.118Z"
   },
   {
    "duration": -117,
    "start_time": "2021-10-31T12:59:16.121Z"
   },
   {
    "duration": -118,
    "start_time": "2021-10-31T12:59:16.124Z"
   },
   {
    "duration": -121,
    "start_time": "2021-10-31T12:59:16.128Z"
   },
   {
    "duration": -121,
    "start_time": "2021-10-31T12:59:16.130Z"
   },
   {
    "duration": -123,
    "start_time": "2021-10-31T12:59:16.133Z"
   },
   {
    "duration": -124,
    "start_time": "2021-10-31T12:59:16.136Z"
   },
   {
    "duration": -125,
    "start_time": "2021-10-31T12:59:16.139Z"
   },
   {
    "duration": -127,
    "start_time": "2021-10-31T12:59:16.142Z"
   },
   {
    "duration": -129,
    "start_time": "2021-10-31T12:59:16.145Z"
   },
   {
    "duration": -130,
    "start_time": "2021-10-31T12:59:16.148Z"
   },
   {
    "duration": -132,
    "start_time": "2021-10-31T12:59:16.151Z"
   },
   {
    "duration": -133,
    "start_time": "2021-10-31T12:59:16.153Z"
   },
   {
    "duration": -134,
    "start_time": "2021-10-31T12:59:16.156Z"
   },
   {
    "duration": -136,
    "start_time": "2021-10-31T12:59:16.159Z"
   },
   {
    "duration": -136,
    "start_time": "2021-10-31T12:59:16.161Z"
   },
   {
    "duration": -138,
    "start_time": "2021-10-31T12:59:16.164Z"
   },
   {
    "duration": -140,
    "start_time": "2021-10-31T12:59:16.167Z"
   },
   {
    "duration": -141,
    "start_time": "2021-10-31T12:59:16.169Z"
   },
   {
    "duration": 3,
    "start_time": "2021-10-31T12:59:43.254Z"
   },
   {
    "duration": 124,
    "start_time": "2021-10-31T12:59:46.037Z"
   },
   {
    "duration": 38,
    "start_time": "2021-10-31T13:00:05.835Z"
   },
   {
    "duration": 38,
    "start_time": "2021-10-31T13:00:13.131Z"
   },
   {
    "duration": 7,
    "start_time": "2021-10-31T13:00:14.948Z"
   },
   {
    "duration": 12,
    "start_time": "2021-10-31T13:00:15.662Z"
   },
   {
    "duration": 16,
    "start_time": "2021-10-31T13:00:16.474Z"
   },
   {
    "duration": 17,
    "start_time": "2021-10-31T13:00:19.166Z"
   },
   {
    "duration": 11,
    "start_time": "2021-10-31T13:00:20.591Z"
   },
   {
    "duration": 11,
    "start_time": "2021-10-31T13:00:24.020Z"
   },
   {
    "duration": 26,
    "start_time": "2021-10-31T13:00:31.297Z"
   },
   {
    "duration": 3,
    "start_time": "2021-10-31T13:00:32.147Z"
   },
   {
    "duration": 17,
    "start_time": "2021-10-31T13:00:33.117Z"
   },
   {
    "duration": 3,
    "start_time": "2021-10-31T13:01:38.512Z"
   },
   {
    "duration": 3,
    "start_time": "2021-10-31T13:01:39.310Z"
   },
   {
    "duration": 27,
    "start_time": "2021-10-31T13:01:40.376Z"
   },
   {
    "duration": 7,
    "start_time": "2021-10-31T13:01:41.185Z"
   },
   {
    "duration": 39,
    "start_time": "2021-10-31T13:01:42.077Z"
   },
   {
    "duration": 13,
    "start_time": "2021-10-31T13:01:44.159Z"
   },
   {
    "duration": 430,
    "start_time": "2021-10-31T13:01:45.467Z"
   },
   {
    "duration": 15,
    "start_time": "2021-10-31T13:02:27.001Z"
   },
   {
    "duration": 7,
    "start_time": "2021-10-31T13:04:44.503Z"
   },
   {
    "duration": 7,
    "start_time": "2021-10-31T13:05:01.349Z"
   },
   {
    "duration": 7,
    "start_time": "2021-10-31T13:05:08.782Z"
   },
   {
    "duration": 7,
    "start_time": "2021-10-31T13:05:41.517Z"
   },
   {
    "duration": 11,
    "start_time": "2021-10-31T13:05:46.451Z"
   },
   {
    "duration": 17,
    "start_time": "2021-10-31T13:05:54.887Z"
   },
   {
    "duration": 7,
    "start_time": "2021-10-31T13:05:57.710Z"
   },
   {
    "duration": 29,
    "start_time": "2021-10-31T13:06:00.651Z"
   },
   {
    "duration": 5,
    "start_time": "2021-10-31T13:07:16.793Z"
   },
   {
    "duration": 28,
    "start_time": "2021-10-31T13:07:21.222Z"
   },
   {
    "duration": 27,
    "start_time": "2021-10-31T13:07:36.781Z"
   },
   {
    "duration": 31,
    "start_time": "2021-10-31T13:07:51.435Z"
   },
   {
    "duration": 30,
    "start_time": "2021-10-31T13:07:52.115Z"
   },
   {
    "duration": 3,
    "start_time": "2021-10-31T13:07:56.984Z"
   },
   {
    "duration": 12,
    "start_time": "2021-10-31T13:07:57.925Z"
   },
   {
    "duration": 27,
    "start_time": "2021-10-31T13:08:00.483Z"
   },
   {
    "duration": 5,
    "start_time": "2021-10-31T13:08:05.635Z"
   },
   {
    "duration": 2221,
    "start_time": "2021-10-31T13:08:06.712Z"
   },
   {
    "duration": 23,
    "start_time": "2021-10-31T13:08:08.936Z"
   },
   {
    "duration": 5,
    "start_time": "2021-10-31T13:08:12.357Z"
   },
   {
    "duration": 1158,
    "start_time": "2021-10-31T13:08:13.985Z"
   },
   {
    "duration": 33,
    "start_time": "2021-10-31T13:08:16.438Z"
   },
   {
    "duration": 319,
    "start_time": "2021-10-31T13:08:22.395Z"
   },
   {
    "duration": 294,
    "start_time": "2021-10-31T13:08:32.419Z"
   },
   {
    "duration": 324,
    "start_time": "2021-10-31T13:08:35.163Z"
   },
   {
    "duration": 285,
    "start_time": "2021-10-31T13:08:36.863Z"
   },
   {
    "duration": 277,
    "start_time": "2021-10-31T13:08:38.714Z"
   },
   {
    "duration": 12,
    "start_time": "2021-10-31T13:08:44.290Z"
   },
   {
    "duration": 227,
    "start_time": "2021-10-31T13:08:49.038Z"
   },
   {
    "duration": 14,
    "start_time": "2021-10-31T13:08:53.054Z"
   },
   {
    "duration": 12,
    "start_time": "2021-10-31T13:08:54.739Z"
   },
   {
    "duration": 223,
    "start_time": "2021-10-31T13:08:56.705Z"
   },
   {
    "duration": 17,
    "start_time": "2021-10-31T13:08:57.717Z"
   },
   {
    "duration": 12,
    "start_time": "2021-10-31T13:09:01.670Z"
   },
   {
    "duration": 222,
    "start_time": "2021-10-31T13:09:01.684Z"
   },
   {
    "duration": 15,
    "start_time": "2021-10-31T13:09:05.672Z"
   },
   {
    "duration": 12,
    "start_time": "2021-10-31T13:09:07.870Z"
   },
   {
    "duration": 245,
    "start_time": "2021-10-31T13:09:10.051Z"
   },
   {
    "duration": 17,
    "start_time": "2021-10-31T13:09:11.148Z"
   },
   {
    "duration": 11,
    "start_time": "2021-10-31T13:09:13.900Z"
   },
   {
    "duration": 228,
    "start_time": "2021-10-31T13:09:14.865Z"
   },
   {
    "duration": 15,
    "start_time": "2021-10-31T13:09:15.729Z"
   },
   {
    "duration": 21,
    "start_time": "2021-10-31T13:09:16.918Z"
   },
   {
    "duration": 22,
    "start_time": "2021-10-31T13:09:18.045Z"
   },
   {
    "duration": 296,
    "start_time": "2021-10-31T13:09:32.015Z"
   },
   {
    "duration": 12,
    "start_time": "2021-10-31T13:09:35.474Z"
   },
   {
    "duration": 282,
    "start_time": "2021-10-31T13:09:36.282Z"
   },
   {
    "duration": 280,
    "start_time": "2021-10-31T13:09:38.323Z"
   },
   {
    "duration": 375,
    "start_time": "2021-10-31T13:09:40.885Z"
   },
   {
    "duration": 282,
    "start_time": "2021-10-31T13:09:43.640Z"
   },
   {
    "duration": 302,
    "start_time": "2021-10-31T13:09:48.671Z"
   },
   {
    "duration": 12,
    "start_time": "2021-10-31T13:09:49.915Z"
   },
   {
    "duration": 7,
    "start_time": "2021-10-31T13:09:51.319Z"
   },
   {
    "duration": 6,
    "start_time": "2021-10-31T13:09:52.478Z"
   },
   {
    "duration": 9,
    "start_time": "2021-10-31T13:09:53.631Z"
   },
   {
    "duration": 289,
    "start_time": "2021-10-31T13:09:54.706Z"
   },
   {
    "duration": 306,
    "start_time": "2021-10-31T13:09:59.378Z"
   },
   {
    "duration": 14,
    "start_time": "2021-10-31T13:10:00.569Z"
   },
   {
    "duration": 9,
    "start_time": "2021-10-31T13:10:01.780Z"
   },
   {
    "duration": 25,
    "start_time": "2021-10-31T13:10:02.778Z"
   },
   {
    "duration": 32,
    "start_time": "2021-10-31T13:10:03.760Z"
   },
   {
    "duration": 13,
    "start_time": "2021-10-31T13:10:04.921Z"
   },
   {
    "duration": 325,
    "start_time": "2021-10-31T13:10:06.078Z"
   },
   {
    "duration": 8,
    "start_time": "2021-10-31T13:10:08.389Z"
   },
   {
    "duration": 333,
    "start_time": "2021-10-31T13:10:09.198Z"
   },
   {
    "duration": 20,
    "start_time": "2021-10-31T13:10:10.368Z"
   },
   {
    "duration": 9,
    "start_time": "2021-10-31T13:10:11.630Z"
   },
   {
    "duration": 423,
    "start_time": "2021-10-31T13:10:12.731Z"
   },
   {
    "duration": 19,
    "start_time": "2021-10-31T13:10:18.113Z"
   },
   {
    "duration": 30,
    "start_time": "2021-10-31T13:10:34.981Z"
   },
   {
    "duration": 12,
    "start_time": "2021-10-31T13:10:35.825Z"
   },
   {
    "duration": 5,
    "start_time": "2021-10-31T13:10:36.858Z"
   },
   {
    "duration": 11,
    "start_time": "2021-10-31T13:10:37.985Z"
   },
   {
    "duration": 385,
    "start_time": "2021-10-31T13:10:39.055Z"
   },
   {
    "duration": 365,
    "start_time": "2021-10-31T13:10:41.407Z"
   },
   {
    "duration": 685,
    "start_time": "2021-10-31T13:24:04.736Z"
   },
   {
    "duration": 445,
    "start_time": "2021-10-31T13:24:24.132Z"
   },
   {
    "duration": 379,
    "start_time": "2021-10-31T13:24:32.802Z"
   },
   {
    "duration": 413,
    "start_time": "2021-10-31T13:24:54.297Z"
   },
   {
    "duration": 402,
    "start_time": "2021-10-31T13:26:27.210Z"
   },
   {
    "duration": 569,
    "start_time": "2021-10-31T13:26:34.759Z"
   },
   {
    "duration": 386,
    "start_time": "2021-10-31T13:27:07.049Z"
   },
   {
    "duration": 376,
    "start_time": "2021-10-31T13:27:31.088Z"
   },
   {
    "duration": 565,
    "start_time": "2021-10-31T13:27:46.727Z"
   },
   {
    "duration": 345,
    "start_time": "2021-10-31T13:27:53.290Z"
   },
   {
    "duration": 334,
    "start_time": "2021-10-31T13:28:49.246Z"
   },
   {
    "duration": 424,
    "start_time": "2021-10-31T13:28:57.654Z"
   },
   {
    "duration": 1521,
    "start_time": "2021-10-31T13:30:15.697Z"
   },
   {
    "duration": 390,
    "start_time": "2021-10-31T13:30:22.841Z"
   },
   {
    "duration": 1740,
    "start_time": "2021-10-31T13:31:01.157Z"
   },
   {
    "duration": 30,
    "start_time": "2021-10-31T13:31:09.713Z"
   },
   {
    "duration": 12,
    "start_time": "2021-10-31T13:31:11.847Z"
   },
   {
    "duration": 1474,
    "start_time": "2021-10-31T13:31:24.988Z"
   },
   {
    "duration": 29,
    "start_time": "2021-10-31T13:31:54.549Z"
   },
   {
    "duration": 12,
    "start_time": "2021-10-31T13:31:57.235Z"
   },
   {
    "duration": 12,
    "start_time": "2021-10-31T13:32:02.388Z"
   },
   {
    "duration": 1650,
    "start_time": "2021-10-31T13:32:05.938Z"
   },
   {
    "duration": 4,
    "start_time": "2021-10-31T13:32:15.828Z"
   },
   {
    "duration": 331,
    "start_time": "2021-10-31T13:32:22.021Z"
   },
   {
    "duration": 391,
    "start_time": "2021-10-31T13:36:50.153Z"
   },
   {
    "duration": 11,
    "start_time": "2021-10-31T13:37:42.522Z"
   },
   {
    "duration": 78,
    "start_time": "2021-10-31T13:37:58.497Z"
   },
   {
    "duration": 37,
    "start_time": "2021-10-31T13:38:02.320Z"
   },
   {
    "duration": 68,
    "start_time": "2021-10-31T13:38:05.468Z"
   },
   {
    "duration": 568,
    "start_time": "2021-10-31T13:38:08.507Z"
   },
   {
    "duration": 37,
    "start_time": "2021-10-31T13:38:42.283Z"
   },
   {
    "duration": 606,
    "start_time": "2021-10-31T13:39:33.039Z"
   },
   {
    "duration": 351,
    "start_time": "2021-10-31T13:39:40.822Z"
   },
   {
    "duration": 381,
    "start_time": "2021-10-31T13:40:01.060Z"
   },
   {
    "duration": 302,
    "start_time": "2021-10-31T13:40:12.198Z"
   },
   {
    "duration": 315,
    "start_time": "2021-10-31T13:40:27.798Z"
   },
   {
    "duration": 721,
    "start_time": "2021-10-31T13:40:38.867Z"
   },
   {
    "duration": 588,
    "start_time": "2021-10-31T13:40:50.357Z"
   },
   {
    "duration": 60,
    "start_time": "2021-10-31T13:40:55.427Z"
   },
   {
    "duration": 575,
    "start_time": "2021-10-31T13:41:57.250Z"
   },
   {
    "duration": 362,
    "start_time": "2021-10-31T13:42:04.090Z"
   },
   {
    "duration": 353,
    "start_time": "2021-10-31T13:45:32.487Z"
   },
   {
    "duration": 359,
    "start_time": "2021-10-31T13:45:37.707Z"
   },
   {
    "duration": 485,
    "start_time": "2021-10-31T13:48:09.604Z"
   },
   {
    "duration": 130,
    "start_time": "2021-10-31T13:48:41.506Z"
   },
   {
    "duration": 3,
    "start_time": "2021-10-31T13:48:56.551Z"
   },
   {
    "duration": 62,
    "start_time": "2021-10-31T13:49:24.728Z"
   },
   {
    "duration": 595,
    "start_time": "2021-10-31T13:57:02.203Z"
   },
   {
    "duration": 677,
    "start_time": "2021-10-31T13:57:43.869Z"
   },
   {
    "duration": 60,
    "start_time": "2021-10-31T13:58:07.152Z"
   },
   {
    "duration": 512,
    "start_time": "2021-10-31T13:59:09.358Z"
   },
   {
    "duration": 686,
    "start_time": "2021-10-31T13:59:22.358Z"
   },
   {
    "duration": 596,
    "start_time": "2021-10-31T14:00:30.524Z"
   },
   {
    "duration": 1697,
    "start_time": "2021-10-31T14:02:05.757Z"
   },
   {
    "duration": 13,
    "start_time": "2021-10-31T14:03:54.555Z"
   },
   {
    "duration": 18,
    "start_time": "2021-10-31T14:04:03.159Z"
   },
   {
    "duration": 20,
    "start_time": "2021-10-31T14:04:27.203Z"
   },
   {
    "duration": 550,
    "start_time": "2021-10-31T14:05:02.218Z"
   },
   {
    "duration": 611,
    "start_time": "2021-10-31T14:05:16.963Z"
   },
   {
    "duration": 229,
    "start_time": "2021-10-31T14:05:24.141Z"
   },
   {
    "duration": 679,
    "start_time": "2021-10-31T14:05:54.556Z"
   },
   {
    "duration": 20,
    "start_time": "2021-10-31T14:06:30.680Z"
   },
   {
    "duration": 15,
    "start_time": "2021-10-31T14:06:59.411Z"
   },
   {
    "duration": 20,
    "start_time": "2021-10-31T14:07:04.779Z"
   },
   {
    "duration": 354,
    "start_time": "2021-10-31T14:07:13.685Z"
   },
   {
    "duration": 21,
    "start_time": "2021-10-31T14:07:24.598Z"
   },
   {
    "duration": 16,
    "start_time": "2021-10-31T14:07:28.750Z"
   },
   {
    "duration": 22,
    "start_time": "2021-10-31T14:07:35.834Z"
   },
   {
    "duration": 610,
    "start_time": "2021-10-31T14:11:17.190Z"
   },
   {
    "duration": 128,
    "start_time": "2021-10-31T14:11:53.509Z"
   },
   {
    "duration": 119,
    "start_time": "2021-10-31T14:12:04.430Z"
   },
   {
    "duration": 115,
    "start_time": "2021-10-31T14:12:25.126Z"
   },
   {
    "duration": 406,
    "start_time": "2021-10-31T14:12:37.988Z"
   },
   {
    "duration": 162,
    "start_time": "2021-10-31T14:12:45.217Z"
   },
   {
    "duration": 349,
    "start_time": "2021-10-31T14:12:57.910Z"
   },
   {
    "duration": 589,
    "start_time": "2021-10-31T14:13:10.661Z"
   },
   {
    "duration": 598,
    "start_time": "2021-10-31T14:14:20.304Z"
   },
   {
    "duration": 406,
    "start_time": "2021-10-31T14:15:29.971Z"
   },
   {
    "duration": 569,
    "start_time": "2021-10-31T14:16:08.485Z"
   },
   {
    "duration": 595,
    "start_time": "2021-10-31T14:18:28.213Z"
   },
   {
    "duration": 555,
    "start_time": "2021-10-31T14:19:43.284Z"
   }
  ],
  "kernelspec": {
   "display_name": "Python 3",
   "language": "python",
   "name": "python3"
  },
  "language_info": {
   "codemirror_mode": {
    "name": "ipython",
    "version": 3
   },
   "file_extension": ".py",
   "mimetype": "text/x-python",
   "name": "python",
   "nbconvert_exporter": "python",
   "pygments_lexer": "ipython3",
   "version": "3.8.8"
  },
  "toc": {
   "base_numbering": 1,
   "nav_menu": {},
   "number_sections": true,
   "sideBar": true,
   "skip_h1_title": true,
   "title_cell": "Table of Contents",
   "title_sidebar": "Contents",
   "toc_cell": false,
   "toc_position": {},
   "toc_section_display": true,
   "toc_window_display": true
  }
 },
 "nbformat": 4,
 "nbformat_minor": 2
}
